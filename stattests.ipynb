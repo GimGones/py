{
 "cells": [
  {
   "cell_type": "code",
   "execution_count": 1,
   "metadata": {},
   "outputs": [],
   "source": [
    "import pandas as pd\n",
    "import numpy as np\n",
    "import matplotlib.pyplot as plt \n",
    "import seaborn as sns\n",
    "import statsmodels.api as sm\n",
    "from statsmodels.formula.api import ols \n",
    "from scipy import stats\n",
    "from scipy.stats import linregress\n",
    "from sklearn.linear_model import LinearRegression"
   ]
  },
  {
   "cell_type": "code",
   "execution_count": 2,
   "metadata": {},
   "outputs": [],
   "source": [
    "data = pd.read_csv('car_data_all_together.csv')"
   ]
  },
  {
   "cell_type": "code",
   "execution_count": 3,
   "metadata": {},
   "outputs": [
    {
     "data": {
      "text/plain": [
       "std      63\n",
       "turbo    37\n",
       "Name: aspiration, dtype: int64"
      ]
     },
     "execution_count": 3,
     "metadata": {},
     "output_type": "execute_result"
    }
   ],
   "source": [
    "newdata = data.sort_values(by=\"aspiration\", ascending=False)\n",
    "newdata1 = newdata.iloc[:100]\n",
    "newdata1[\"aspiration\"].value_counts()"
   ]
  },
  {
   "cell_type": "markdown",
   "metadata": {},
   "source": [
    "# One categorical - One sample proportion test - Z-test"
   ]
  },
  {
   "cell_type": "code",
   "execution_count": 4,
   "metadata": {},
   "outputs": [
    {
     "data": {
      "text/plain": [
       "std      63\n",
       "turbo    37\n",
       "Name: aspiration, dtype: int64"
      ]
     },
     "execution_count": 4,
     "metadata": {},
     "output_type": "execute_result"
    }
   ],
   "source": [
    "from statsmodels.stats.proportion import proportions_ztest\n",
    "# Is there difference in the number of gas and diesel in our dataset?\n",
    "# H0 there is not a difference in distribution\n",
    "# Ha there is a difference in distribution\n",
    "\n",
    "# H0: p = p0 (population proportion is equal to hypothesized proportion p0)\n",
    "\n",
    "# The alternative hypothesis can be either two-tailed, left-tailed, or right-tailed:\n",
    "# H1 (two-tailed) alternative=\"two-sided\": p ≠ p0 (population proportion is not equal to some hypothesized value p0)\n",
    "# H1 (left-tailed) alternative=\"smaller\": p < p0 (population proportion is less than some hypothesized value p0)\n",
    "# H1 (right-tailed) alternative=\"larger\": p > p0 (population proportion is greater than some hypothesized value p0)\n",
    "\n",
    "obs = newdata1[\"aspiration\"].value_counts()\n",
    "obs \n",
    "#There were 63 std and 37 turbo charged cars in our dataset."
   ]
  },
  {
   "cell_type": "code",
   "execution_count": 11,
   "metadata": {},
   "outputs": [
    {
     "data": {
      "image/png": "[encoded data removed]",
      "text/plain": [
       "<Figure size 432x288 with 1 Axes>"
      ]
     },
     "metadata": {
      "needs_background": "light"
     },
     "output_type": "display_data"
    }
   ],
   "source": [
    "sns.countplot(x=\"aspiration\", data=newdata1, palette=\"plasma\")\n",
    "plt.show()"
   ]
  },
  {
   "cell_type": "code",
   "execution_count": 6,
   "metadata": {},
   "outputs": [
    {
     "name": "stdout",
     "output_type": "stream",
     "text": [
      "The count of std (first category) is:  63\n"
     ]
    }
   ],
   "source": [
    "# Let's use the first category as 'success' and store them under a separate name:\n",
    "x = obs[0]\n",
    "print(\"The count of std (first category) is: \",x)"
   ]
  },
  {
   "cell_type": "code",
   "execution_count": 7,
   "metadata": {},
   "outputs": [
    {
     "name": "stdout",
     "output_type": "stream",
     "text": [
      "The total count is:  100\n"
     ]
    }
   ],
   "source": [
    "# The value_counts returns a python series, so we can get the sum of values by using Python's sum function:\n",
    "n = sum(obs.values)\n",
    "print(\"The total count is: \",n)"
   ]
  },
  {
   "cell_type": "code",
   "execution_count": 8,
   "metadata": {},
   "outputs": [
    {
     "name": "stdout",
     "output_type": "stream",
     "text": [
      "The expected proportion is:  0.5\n"
     ]
    }
   ],
   "source": [
    "# Lets set the expected proportions to be 0.5.\n",
    "p0 = 0.5\n",
    "print(\"The expected proportion is: \", p0)"
   ]
  },
  {
   "cell_type": "code",
   "execution_count": 9,
   "metadata": {},
   "outputs": [
    {
     "name": "stdout",
     "output_type": "stream",
     "text": [
      "The z-value of one sample proportion test is:  2.6\n",
      "The p-value of one sample proportion test is:  0.00932\n"
     ]
    }
   ],
   "source": [
    "# The function requires the number of successes, the sample size, the expected proportion and also set prop_var to this expected proportion. I want a two-sided test, so all together.\n",
    "zvalue, pvalue = proportions_ztest(count=x, nobs=n, value=p0, prop_var=p0, alternative=\"two-sided\")\n",
    "# The first value is the z-value, the second is the p-value (significance)\n",
    "# and we can conclude that there is a significant difference between the proportions of the two categories.\n",
    "# The 0.0093222 (p-value) is the probability of obtaining a z-value of 2.6 or more extreme if the assumption about the fueltype (the expected proportion of 0.5) was true.\n",
    "print(\"The z-value of one sample proportion test is: \", zvalue)\n",
    "print(\"The p-value of one sample proportion test is: \", round(pvalue, 5))"
   ]
  },
  {
   "cell_type": "code",
   "execution_count": null,
   "metadata": {},
   "outputs": [],
   "source": []
  }
 ],
 "metadata": {
  "kernelspec": {
   "display_name": "Python 3.10.2 64-bit",
   "language": "python",
   "name": "python3"
  },
  "language_info": {
   "codemirror_mode": {
    "name": "ipython",
    "version": 3
   },
   "file_extension": ".py",
   "mimetype": "text/x-python",
   "name": "python",
   "nbconvert_exporter": "python",
   "pygments_lexer": "ipython3",
   "version": "3.10.2"
  },
  "orig_nbformat": 4,
  "vscode": {
   "interpreter": {
    "hash": "4d8546321cadb325a106918ecab26f0085318f6086fcab55f85fe19b56b4f4f0"
   }
  }
 },
 "nbformat": 4,
 "nbformat_minor": 2
}
