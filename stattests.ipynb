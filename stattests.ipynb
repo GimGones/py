{
 "cells": [
  {
   "cell_type": "code",
   "execution_count": 1,
   "metadata": {},
   "outputs": [],
   "source": [
    "import pandas as pd\n",
    "import numpy as np\n",
    "import matplotlib.pyplot as plt \n",
    "import seaborn as sns\n",
    "import statsmodels.api as sm\n",
    "from scipy import stats\n"
   ]
  },
  {
   "cell_type": "code",
   "execution_count": 2,
   "metadata": {},
   "outputs": [],
   "source": [
    "data = pd.read_csv('car_data_all_together.csv')"
   ]
  },
  {
   "cell_type": "code",
   "execution_count": 3,
   "metadata": {},
   "outputs": [
    {
     "data": {
      "text/plain": [
       "std      63\n",
       "turbo    37\n",
       "Name: aspiration, dtype: int64"
      ]
     },
     "execution_count": 3,
     "metadata": {},
     "output_type": "execute_result"
    }
   ],
   "source": [
    "newdata = data.sort_values(by=\"aspiration\", ascending=False)\n",
    "newdata1 = newdata.iloc[:100]\n",
    "newdata1[\"aspiration\"].value_counts()"
   ]
  },
  {
   "cell_type": "markdown",
   "metadata": {},
   "source": [
    "# One categorical - One sample proportion test - Z-test\n",
    "<img src=\"onecat.png\">"
   ]
  },
  {
   "cell_type": "code",
   "execution_count": 4,
   "metadata": {},
   "outputs": [
    {
     "data": {
      "text/plain": [
       "std      63\n",
       "turbo    37\n",
       "Name: aspiration, dtype: int64"
      ]
     },
     "execution_count": 4,
     "metadata": {},
     "output_type": "execute_result"
    }
   ],
   "source": [
    "from statsmodels.stats.proportion import proportions_ztest\n",
    "# Is there difference in the number of gas and diesel in our dataset?\n",
    "# H0 There is not a difference in distribution\n",
    "# Ha There is a difference in distribution\n",
    "\n",
    "# H0: p = p0 (population proportion is equal to hypothesized proportion p0)\n",
    "\n",
    "# The alternative hypothesis can be either two-tailed, left-tailed, or right-tailed:\n",
    "# H1 (two-tailed) alternative=\"two-sided\": p ≠ p0 (population proportion is not equal to some hypothesized value p0)\n",
    "# H1 (left-tailed) alternative=\"smaller\": p < p0 (population proportion is less than some hypothesized value p0)\n",
    "# H1 (right-tailed) alternative=\"larger\": p > p0 (population proportion is greater than some hypothesized value p0)\n",
    "\n",
    "obs = newdata1[\"aspiration\"].value_counts()\n",
    "obs \n",
    "#There were 63 std and 37 turbo charged cars in our dataset."
   ]
  },
  {
   "cell_type": "code",
   "execution_count": 5,
   "metadata": {},
   "outputs": [
    {
     "data": {
      "image/png": "[encoded data removed]",
      "text/plain": [
       "<Figure size 432x288 with 1 Axes>"
      ]
     },
     "metadata": {
      "needs_background": "light"
     },
     "output_type": "display_data"
    }
   ],
   "source": [
    "sns.countplot(x=\"aspiration\", data=newdata1, palette=\"magma\")\n",
    "plt.show()"
   ]
  },
  {
   "cell_type": "code",
   "execution_count": 6,
   "metadata": {},
   "outputs": [
    {
     "name": "stdout",
     "output_type": "stream",
     "text": [
      "The count of std (first category) is:  63\n"
     ]
    }
   ],
   "source": [
    "# Let's use the first category as 'success' and store them under a separate name:\n",
    "x = obs[0]\n",
    "print(\"The count of std (first category) is: \",x)"
   ]
  },
  {
   "cell_type": "code",
   "execution_count": 7,
   "metadata": {},
   "outputs": [
    {
     "name": "stdout",
     "output_type": "stream",
     "text": [
      "The total count is:  100\n"
     ]
    }
   ],
   "source": [
    "# The value_counts returns a python series, so we can get the sum of values by using Python's sum function:\n",
    "n = sum(obs.values)\n",
    "print(\"The total count is: \",n)"
   ]
  },
  {
   "cell_type": "code",
   "execution_count": 8,
   "metadata": {},
   "outputs": [
    {
     "name": "stdout",
     "output_type": "stream",
     "text": [
      "The expected proportion is:  0.5\n"
     ]
    }
   ],
   "source": [
    "# Let's set the expected proportions to be 0.5.\n",
    "p0 = 0.5\n",
    "print(\"The expected proportion is: \", p0)"
   ]
  },
  {
   "cell_type": "code",
   "execution_count": 9,
   "metadata": {},
   "outputs": [
    {
     "name": "stdout",
     "output_type": "stream",
     "text": [
      "The z-value of one sample proportion test is:  2.6\n",
      "The p-value of one sample proportion test is:  0.00932\n"
     ]
    }
   ],
   "source": [
    "# The function requires the number of successes, the sample size, the expected proportion and also set prop_var to this expected proportion. I want a two-sided test, so all together.\n",
    "zvalue, pvalue = proportions_ztest(count=x, nobs=n, value=p0, prop_var=p0, alternative=\"two-sided\")\n",
    "# The first value is the z-value, the second is the p-value (significance)\n",
    "# and we can conclude that there is a significant difference between the proportions of the two categories.\n",
    "# The 0.00932 (p-value) is the probability of obtaining a z-value of 2.6 or more extreme if the assumption about the fueltype (the expected proportion of 0.5) was true.\n",
    "print(\"The z-value of one sample proportion test is: \", zvalue)\n",
    "print(\"The p-value of one sample proportion test is: \", round(pvalue, 5))"
   ]
  },
  {
   "cell_type": "markdown",
   "metadata": {},
   "source": [
    "# Two categorical - Chi-squared test of independence (Pearson chi square test)\n",
    "<img src=\"twocat.png\">"
   ]
  },
  {
   "cell_type": "code",
   "execution_count": 10,
   "metadata": {},
   "outputs": [],
   "source": [
    "from scipy.stats import chi2_contingency\n",
    "# Does the proportion of std an turbo differ across fueltype groups?\n",
    "# H0 Aspiration is not dependent on fueltype.\n",
    "# Ha Aspiration is dependent on fueltype."
   ]
  },
  {
   "cell_type": "code",
   "execution_count": 11,
   "metadata": {},
   "outputs": [
    {
     "data": {
      "image/png": "[encoded data removed]",
      "text/plain": [
       "<Figure size 432x288 with 1 Axes>"
      ]
     },
     "metadata": {
      "needs_background": "light"
     },
     "output_type": "display_data"
    }
   ],
   "source": [
    "sns.countplot(x=\"aspiration\", data=newdata1, palette=\"magma\", hue=\"fueltype\")\n",
    "plt.show()"
   ]
  },
  {
   "cell_type": "code",
   "execution_count": 12,
   "metadata": {},
   "outputs": [
    {
     "data": {
      "text/html": [
       "<div>\n",
       "<style scoped>\n",
       "    .dataframe tbody tr th:only-of-type {\n",
       "        vertical-align: middle;\n",
       "    }\n",
       "\n",
       "    .dataframe tbody tr th {\n",
       "        vertical-align: top;\n",
       "    }\n",
       "\n",
       "    .dataframe thead th {\n",
       "        text-align: right;\n",
       "    }\n",
       "</style>\n",
       "<table border=\"1\" class=\"dataframe\">\n",
       "  <thead>\n",
       "    <tr style=\"text-align: right;\">\n",
       "      <th>fueltype</th>\n",
       "      <th>diesel</th>\n",
       "      <th>gas</th>\n",
       "    </tr>\n",
       "    <tr>\n",
       "      <th>aspiration</th>\n",
       "      <th></th>\n",
       "      <th></th>\n",
       "    </tr>\n",
       "  </thead>\n",
       "  <tbody>\n",
       "    <tr>\n",
       "      <th>std</th>\n",
       "      <td>4</td>\n",
       "      <td>59</td>\n",
       "    </tr>\n",
       "    <tr>\n",
       "      <th>turbo</th>\n",
       "      <td>13</td>\n",
       "      <td>24</td>\n",
       "    </tr>\n",
       "  </tbody>\n",
       "</table>\n",
       "</div>"
      ],
      "text/plain": [
       "fueltype    diesel  gas\n",
       "aspiration             \n",
       "std              4   59\n",
       "turbo           13   24"
      ]
     },
     "execution_count": 12,
     "metadata": {},
     "output_type": "execute_result"
    }
   ],
   "source": [
    "crosstab = pd.crosstab(newdata1[\"aspiration\"], newdata1[\"fueltype\"])\n",
    "crosstab"
   ]
  },
  {
   "cell_type": "code",
   "execution_count": 13,
   "metadata": {},
   "outputs": [
    {
     "name": "stdout",
     "output_type": "stream",
     "text": [
      "The chi-square value of chi-square test is:  11.72503\n",
      "The p-value of chi-square test is:  0.00062\n",
      "The degrees of freedom of chi-square test is:  1\n",
      "The expected values of chi-square test is:  [[10.71 52.29]\n",
      " [ 6.29 30.71]]\n"
     ]
    }
   ],
   "source": [
    "# The function requires the number of successes, the sample size, the expected proportion and also set prop_var to this expected proportion. I want a two-sided test, so all together.\n",
    "chiVal, pVal, df, exp = chi2_contingency(crosstab)\n",
    "# As the p-value is lower than alpha we can conclude that aspiration type is dependent on fuel type.\n",
    "# The first value is the chi-square value of 11.72503. The chance of such a value or even more extreme, in a sample, if there is no association in the dataset is 0.00062 (p-value).\n",
    "# The second value is p-value (0.00062). It is considered 'significant' usually if this value is below 0.05, which in this case it is. This indicates an association between the two variables. (One has an impact on the other.)\n",
    "# The third value is the degrees of freedom, which is an indication of the size of the table, since it is simply the number of rows -1, times the number of columns - 1.\n",
    "# The forth values are the expected values. There are the counts to be expected if the two variables had no influence on each other. \n",
    "# (Note that as a criteria the lowest expected value should be at least 1, and not too many should be below 5. Often a threshold of 20% is used (so if more than 20% of the cells have an expected count of 5 or less, the test is not reliabe to use.))\n",
    "print(\"The chi-square value of chi-square test is: \", round(chiVal,5))\n",
    "print(\"The p-value of chi-square test is: \", round(pVal,5))\n",
    "print(\"The degrees of freedom of chi-square test is: \", df)\n",
    "print(\"The expected values of chi-square test is: \", exp)"
   ]
  },
  {
   "cell_type": "code",
   "execution_count": 14,
   "metadata": {},
   "outputs": [
    {
     "data": {
      "text/plain": [
       "array([10.71, 52.29,  6.29, 30.71])"
      ]
     },
     "execution_count": 14,
     "metadata": {},
     "output_type": "execute_result"
    }
   ],
   "source": [
    "# Concatenate values in both lists into one list.\n",
    "exp1 = np.concatenate((exp[0], exp[1]))\n",
    "exp1"
   ]
  },
  {
   "cell_type": "code",
   "execution_count": 15,
   "metadata": {},
   "outputs": [
    {
     "name": "stdout",
     "output_type": "stream",
     "text": [
      "The lowest expected value is:  6.29\n",
      "The percentage of cells with a count of less than 5:  0.0\n"
     ]
    }
   ],
   "source": [
    "# Check the first lowest expected value.\n",
    "print(\"The lowest expected value is: \", exp.min())\n",
    "# Check the percentage of cells with a count of less than 5.\n",
    "print(\"The percentage of cells with a count of less than 5: \", len(exp1[exp1 < 5])/(len(exp1))*100)"
   ]
  },
  {
   "cell_type": "code",
   "execution_count": 16,
   "metadata": {},
   "outputs": [
    {
     "data": {
      "text/plain": [
       "(6.4802346882456145,\n",
       " 0.16604002590822953,\n",
       " 4,\n",
       " array([[ 7.1148, 26.6574, 12.4278],\n",
       "        [ 7.1148, 26.6574, 12.4278],\n",
       "        [ 1.1704,  4.3852,  2.0444]]))"
      ]
     },
     "execution_count": 16,
     "metadata": {},
     "output_type": "execute_result"
    }
   ],
   "source": [
    "students = [(2, 8, 2), (2, 6, 4), (0, 1, 1)]\n",
    "podniky = pd.DataFrame(students, columns=[\"A\", \"B\", \"C\"])\n",
    "podniky.values.sum()\n",
    "\n",
    "for i in [\"A\", \"B\", \"C\"]:\n",
    "    podniky[i+\"%\"] = round((podniky[i]/26)*100, 1)\n",
    "\n",
    "podniky.drop(columns=[\"A\", \"B\", \"C\"], inplace=True)\n",
    "\n",
    "podniky\n",
    "\n",
    "stats.chi2_contingency(podniky)"
   ]
  },
  {
   "cell_type": "code",
   "execution_count": 17,
   "metadata": {},
   "outputs": [
    {
     "data": {
      "text/plain": [
       "(6.4802346882456145,\n",
       " 0.16604002590822953,\n",
       " 4,\n",
       " array([[ 7.1148, 26.6574, 12.4278],\n",
       "        [ 7.1148, 26.6574, 12.4278],\n",
       "        [ 1.1704,  4.3852,  2.0444]]))"
      ]
     },
     "execution_count": 17,
     "metadata": {},
     "output_type": "execute_result"
    }
   ],
   "source": [
    "stats.chi2_contingency(podniky)"
   ]
  },
  {
   "cell_type": "markdown",
   "metadata": {},
   "source": [
    "# Pearson Chi-Square Goodness-of-Fit Test"
   ]
  },
  {
   "cell_type": "code",
   "execution_count": 18,
   "metadata": {},
   "outputs": [],
   "source": [
    "# A Pearson chi-square Goodness of Fit test can be used to determine if one or more of the observed counts is significantly\n",
    "# different from the expected counts. It can be seen as 'omnibus test', since it will not show which one is different.\n",
    "# It is therefor often  followe by a so-called post-hoc test to find whic category or categories were different, or even diff from eachother.\n",
    "# One thing to note is that not too many cells should have a low expected count."
   ]
  },
  {
   "cell_type": "code",
   "execution_count": 19,
   "metadata": {},
   "outputs": [],
   "source": [
    "# The column we are interested in.\n",
    "dwh = newdata1[\"drivewheel\"]\n",
    "dwh1 = dwh.value_counts()"
   ]
  },
  {
   "cell_type": "code",
   "execution_count": 20,
   "metadata": {},
   "outputs": [
    {
     "name": "stdout",
     "output_type": "stream",
     "text": [
      "Chi-square value is:  37.519999999999996\n",
      "The p-value is:  7.122550210643063e-09\n"
     ]
    }
   ],
   "source": [
    "# Is there a significant difference between the observed and the expected value?\n",
    "# H0 There is not significant difference between the observed and the expected value.\n",
    "# Ha There is a significant difference between the observed and the expected value.\n",
    "\n",
    "# Pearson chi-square Goodness of Fit test is done easily by chisquare function from scipy stats.\n",
    "chi2g, chi2gpval = stats.chisquare(f_obs=dwh1)\n",
    "# The first value is the chi-square value itself, the second value is p-value. It is the chance of a chi-square value like this or even more extreme if in the dataset the observed frequencies would have been equal to the expected frequencies.\n",
    "print(\"Chi-square value is: \", chi2g)\n",
    "print(\"The p-value is: \", chi2gpval)"
   ]
  },
  {
   "cell_type": "code",
   "execution_count": 21,
   "metadata": {},
   "outputs": [
    {
     "name": "stdout",
     "output_type": "stream",
     "text": [
      "Expected counts per category: 33.333333333333336\n"
     ]
    }
   ],
   "source": [
    "expectedcount = sum(dwh1)/len(dwh1)\n",
    "print(\"Expected counts per category:\",expectedcount)"
   ]
  },
  {
   "cell_type": "code",
   "execution_count": 22,
   "metadata": {},
   "outputs": [],
   "source": [
    "yes = pd.DataFrame({\"A\":[2,4,6],\"B\":[1,3,5],\"C\":[12,14,16],})"
   ]
  },
  {
   "cell_type": "code",
   "execution_count": 23,
   "metadata": {},
   "outputs": [],
   "source": [
    "yes[\"sums\"] = yes.sum(axis=1)"
   ]
  },
  {
   "cell_type": "code",
   "execution_count": 24,
   "metadata": {},
   "outputs": [],
   "source": [
    "yes.loc[\"Total\"] = yes[[\"A\",\"B\",\"C\",\"sums\"]].sum()"
   ]
  },
  {
   "cell_type": "code",
   "execution_count": 25,
   "metadata": {},
   "outputs": [
    {
     "data": {
      "text/html": [
       "<div>\n",
       "<style scoped>\n",
       "    .dataframe tbody tr th:only-of-type {\n",
       "        vertical-align: middle;\n",
       "    }\n",
       "\n",
       "    .dataframe tbody tr th {\n",
       "        vertical-align: top;\n",
       "    }\n",
       "\n",
       "    .dataframe thead th {\n",
       "        text-align: right;\n",
       "    }\n",
       "</style>\n",
       "<table border=\"1\" class=\"dataframe\">\n",
       "  <thead>\n",
       "    <tr style=\"text-align: right;\">\n",
       "      <th></th>\n",
       "      <th>A</th>\n",
       "      <th>B</th>\n",
       "      <th>C</th>\n",
       "      <th>sums</th>\n",
       "    </tr>\n",
       "  </thead>\n",
       "  <tbody>\n",
       "    <tr>\n",
       "      <th>0</th>\n",
       "      <td>2</td>\n",
       "      <td>1</td>\n",
       "      <td>12</td>\n",
       "      <td>15</td>\n",
       "    </tr>\n",
       "    <tr>\n",
       "      <th>1</th>\n",
       "      <td>4</td>\n",
       "      <td>3</td>\n",
       "      <td>14</td>\n",
       "      <td>21</td>\n",
       "    </tr>\n",
       "    <tr>\n",
       "      <th>2</th>\n",
       "      <td>6</td>\n",
       "      <td>5</td>\n",
       "      <td>16</td>\n",
       "      <td>27</td>\n",
       "    </tr>\n",
       "    <tr>\n",
       "      <th>Total</th>\n",
       "      <td>12</td>\n",
       "      <td>9</td>\n",
       "      <td>42</td>\n",
       "      <td>63</td>\n",
       "    </tr>\n",
       "  </tbody>\n",
       "</table>\n",
       "</div>"
      ],
      "text/plain": [
       "        A  B   C  sums\n",
       "0       2  1  12    15\n",
       "1       4  3  14    21\n",
       "2       6  5  16    27\n",
       "Total  12  9  42    63"
      ]
     },
     "execution_count": 25,
     "metadata": {},
     "output_type": "execute_result"
    }
   ],
   "source": [
    "yes"
   ]
  },
  {
   "cell_type": "code",
   "execution_count": 26,
   "metadata": {},
   "outputs": [],
   "source": [
    "# Expected values per value are calculated as (sum of row * sum of column)/Grand Total\n",
    "# For 0A it is (15*12)/63 = 2,857\n",
    "# For 0B it is (15*9)/63 = 2,1428\n",
    "# For 0C it is (15*42)/63 = 10"
   ]
  },
  {
   "cell_type": "markdown",
   "metadata": {},
   "source": [
    "# One numeric - T-test\n",
    "<img src=\"onenum1.png\">"
   ]
  },
  {
   "cell_type": "code",
   "execution_count": 27,
   "metadata": {},
   "outputs": [],
   "source": [
    "from scipy.stats import ttest_1samp\n",
    "# Is the average price of cars different from the previously estabilished average price of cars?\n",
    "# H0 There is not a difference.\n",
    "# Ha There is a difference."
   ]
  },
  {
   "cell_type": "code",
   "execution_count": 28,
   "metadata": {},
   "outputs": [
    {
     "data": {
      "image/png": "[encoded data removed]",
      "text/plain": [
       "<Figure size 432x288 with 1 Axes>"
      ]
     },
     "metadata": {
      "needs_background": "light"
     },
     "output_type": "display_data"
    }
   ],
   "source": [
    "sns.boxplot(x=\"price\", data=newdata1, color=\"pink\")\n",
    "plt.show()"
   ]
  },
  {
   "cell_type": "code",
   "execution_count": 29,
   "metadata": {},
   "outputs": [],
   "source": [
    "# We need to set a hypothesized mean (the mean we'd like to test, or the mean we'd expect in the population). In this example I'd like to test if the price would be 11900.\n",
    "hmean = 11900"
   ]
  },
  {
   "cell_type": "code",
   "execution_count": 126,
   "metadata": {},
   "outputs": [
    {
     "data": {
      "text/plain": [
       "13525.28667"
      ]
     },
     "execution_count": 126,
     "metadata": {},
     "output_type": "execute_result"
    }
   ],
   "source": [
    "newdata1[\"price\"].mean()"
   ]
  },
  {
   "cell_type": "code",
   "execution_count": 131,
   "metadata": {},
   "outputs": [
    {
     "name": "stdout",
     "output_type": "stream",
     "text": [
      "The t-value of t-test is:  2.34297\n",
      "The p-value of t-test is:  0.021131204696073953\n"
     ]
    }
   ],
   "source": [
    "# As the p-value is lower than alpha we can conclude that average price of cars in dataset is different from the previously estabilished average price of cars.\n",
    "# The first value is the t-test value, the second value is the p-value.\n",
    "ttest, ttestpvaulue = ttest_1samp(newdata1[\"price\"], hmean)\n",
    "print(\"The t-value of t-test is: \", round(ttest,5))\n",
    "print(\"The p-value of t-test is: \", ttestpvaulue)"
   ]
  },
  {
   "cell_type": "markdown",
   "metadata": {},
   "source": [
    "# One numeric and one categorical - T-test or ANOVA\n",
    "<img src=\"onenumonecat.png\">\n",
    "\n",
    "## Two sample T-test"
   ]
  },
  {
   "cell_type": "code",
   "execution_count": 31,
   "metadata": {},
   "outputs": [],
   "source": [
    "from scipy.stats import ttest_ind\n",
    "# Is there a difference in price between standard and turbo charged cars?\n",
    "# H0 There is not a difference.\n",
    "# Ha There is a difference."
   ]
  },
  {
   "cell_type": "code",
   "execution_count": 32,
   "metadata": {},
   "outputs": [
    {
     "data": {
      "text/plain": [
       "<AxesSubplot:xlabel='price', ylabel='aspiration'>"
      ]
     },
     "execution_count": 32,
     "metadata": {},
     "output_type": "execute_result"
    },
    {
     "data": {
      "image/png": "[encoded data removed]",
      "text/plain": [
       "<Figure size 432x288 with 1 Axes>"
      ]
     },
     "metadata": {
      "needs_background": "light"
     },
     "output_type": "display_data"
    }
   ],
   "source": [
    "sns.boxplot(y=\"aspiration\", x=\"price\", data=newdata1)"
   ]
  },
  {
   "cell_type": "code",
   "execution_count": 33,
   "metadata": {},
   "outputs": [],
   "source": [
    "# Binary field = aspiration and numerical field = price.\n",
    "onecat = newdata1[\"aspiration\"]\n",
    "onenum = newdata1[\"price\"]\n",
    "# We need to separate the scores for each category. We can create a list with booleans (true/false) for each category:\n",
    "cat1 = onecat == \"std\"\n",
    "cat2 = onecat == \"turbo\""
   ]
  },
  {
   "cell_type": "code",
   "execution_count": 34,
   "metadata": {},
   "outputs": [],
   "source": [
    "# These we can use to select the scores of each category and store them separately, then immediately drop any missing values with dropna function.\n",
    "cat1scores = onenum[cat1].dropna()\n",
    "cat2scores = onenum[cat2].dropna()"
   ]
  },
  {
   "cell_type": "code",
   "execution_count": 35,
   "metadata": {},
   "outputs": [
    {
     "name": "stdout",
     "output_type": "stream",
     "text": [
      "The t-value of two sample t-test is:  -3.20346\n",
      "The p-value of two sample t-test is:  0.0018322658915423179\n"
     ]
    }
   ],
   "source": [
    "# For the Student version, we cam simply enter the two lists with scores:\n",
    "# Student's t-test assumes that the sample means being compared for two populations are normally distributed\n",
    "# and that the populations have equal variances\n",
    "t2tests, t2testpvaulues = ttest_ind(cat1scores, cat2scores)\n",
    "print(\"The t-value of two sample t-test is: \", round(t2tests,5))\n",
    "print(\"The p-value of two sample t-test is: \", t2testpvaulues)"
   ]
  },
  {
   "cell_type": "code",
   "execution_count": 36,
   "metadata": {},
   "outputs": [
    {
     "name": "stdout",
     "output_type": "stream",
     "text": [
      "The t-value of two sample t-test is:  -3.31156\n",
      "The p-value of two sample t-test is:  0.0013727729912793116\n"
     ]
    }
   ],
   "source": [
    "# For the Welch version, we add the 'equal_var=False'\n",
    "# Welch's t-test is designed for unequal population variances,\n",
    "# but the assumption of normality is maintained.\n",
    "# The first value is the t-value used, the second is the chance of such a t-value or even more extreme, if the assuption\n",
    "# about the population would be true (p-value). In this case the chance is 0.00183 to 0.00137, depending on Student/Welch.\n",
    "t2testw, t2testpvauluew = ttest_ind(cat1scores, cat2scores, equal_var=False)\n",
    "print(\"The t-value of two sample t-test is: \", round(t2testw,5))\n",
    "print(\"The p-value of two sample t-test is: \", t2testpvauluew)"
   ]
  },
  {
   "cell_type": "code",
   "execution_count": 37,
   "metadata": {},
   "outputs": [
    {
     "data": {
      "text/html": [
       "<div>\n",
       "<style scoped>\n",
       "    .dataframe tbody tr th:only-of-type {\n",
       "        vertical-align: middle;\n",
       "    }\n",
       "\n",
       "    .dataframe tbody tr th {\n",
       "        vertical-align: top;\n",
       "    }\n",
       "\n",
       "    .dataframe thead th {\n",
       "        text-align: right;\n",
       "    }\n",
       "</style>\n",
       "<table border=\"1\" class=\"dataframe\">\n",
       "  <thead>\n",
       "    <tr style=\"text-align: right;\">\n",
       "      <th></th>\n",
       "      <th>T</th>\n",
       "      <th>dof</th>\n",
       "      <th>alternative</th>\n",
       "      <th>p-val</th>\n",
       "      <th>CI95%</th>\n",
       "      <th>cohen-d</th>\n",
       "      <th>BF10</th>\n",
       "      <th>power</th>\n",
       "    </tr>\n",
       "  </thead>\n",
       "  <tbody>\n",
       "    <tr>\n",
       "      <th>T-test</th>\n",
       "      <td>-3.311563</td>\n",
       "      <td>83.394578</td>\n",
       "      <td>two-sided</td>\n",
       "      <td>0.001373</td>\n",
       "      <td>[-7044.74, -1758.06]</td>\n",
       "      <td>0.663512</td>\n",
       "      <td>23.737</td>\n",
       "      <td>0.887235</td>\n",
       "    </tr>\n",
       "  </tbody>\n",
       "</table>\n",
       "</div>"
      ],
      "text/plain": [
       "               T        dof alternative     p-val                 CI95%  \\\n",
       "T-test -3.311563  83.394578   two-sided  0.001373  [-7044.74, -1758.06]   \n",
       "\n",
       "         cohen-d    BF10     power  \n",
       "T-test  0.663512  23.737  0.887235  "
      ]
     },
     "execution_count": 37,
     "metadata": {},
     "output_type": "execute_result"
    }
   ],
   "source": [
    "# USING PINGOUN\n",
    "import pingouin as pg\n",
    "pg.ttest(cat1scores, cat2scores)\n",
    "# The result is the same as with the above Welch version using scipy."
   ]
  },
  {
   "cell_type": "markdown",
   "metadata": {},
   "source": [
    "## One-way ANOVA"
   ]
  },
  {
   "cell_type": "code",
   "execution_count": 38,
   "metadata": {},
   "outputs": [],
   "source": [
    "# Often used to determin if there are differences in means between different categories. \n",
    "# ANOVA is short for Analysis of Variances, since to determine if the means are different and investigation in different variances is used.\n",
    "\n",
    "# Is there a difference in price between cars with different cylinders?\n",
    "# H0 There is not a difference.\n",
    "# Ha There is a difference."
   ]
  },
  {
   "cell_type": "code",
   "execution_count": 39,
   "metadata": {},
   "outputs": [
    {
     "data": {
      "text/plain": [
       "<seaborn.axisgrid.FacetGrid at 0x1a13fc84e50>"
      ]
     },
     "execution_count": 39,
     "metadata": {},
     "output_type": "execute_result"
    },
    {
     "data": {
      "image/png": "[encoded data removed]",
      "text/plain": [
       "<Figure size 360x360 with 1 Axes>"
      ]
     },
     "metadata": {
      "needs_background": "light"
     },
     "output_type": "display_data"
    }
   ],
   "source": [
    "sns.catplot(x=\"cylindernumber\", y=\"price\", kind =\"bar\", data=newdata1)"
   ]
  },
  {
   "cell_type": "code",
   "execution_count": 40,
   "metadata": {},
   "outputs": [
    {
     "data": {
      "text/html": [
       "<div>\n",
       "<style scoped>\n",
       "    .dataframe tbody tr th:only-of-type {\n",
       "        vertical-align: middle;\n",
       "    }\n",
       "\n",
       "    .dataframe tbody tr th {\n",
       "        vertical-align: top;\n",
       "    }\n",
       "\n",
       "    .dataframe thead th {\n",
       "        text-align: right;\n",
       "    }\n",
       "</style>\n",
       "<table border=\"1\" class=\"dataframe\">\n",
       "  <thead>\n",
       "    <tr style=\"text-align: right;\">\n",
       "      <th></th>\n",
       "      <th>Source</th>\n",
       "      <th>SS</th>\n",
       "      <th>DF</th>\n",
       "      <th>MS</th>\n",
       "      <th>F</th>\n",
       "      <th>p-unc</th>\n",
       "      <th>np2</th>\n",
       "    </tr>\n",
       "  </thead>\n",
       "  <tbody>\n",
       "    <tr>\n",
       "      <th>0</th>\n",
       "      <td>cylindernumber</td>\n",
       "      <td>2.451565e+09</td>\n",
       "      <td>3</td>\n",
       "      <td>8.171885e+08</td>\n",
       "      <td>33.92718</td>\n",
       "      <td>4.879907e-15</td>\n",
       "      <td>0.514616</td>\n",
       "    </tr>\n",
       "    <tr>\n",
       "      <th>1</th>\n",
       "      <td>Within</td>\n",
       "      <td>2.312308e+09</td>\n",
       "      <td>96</td>\n",
       "      <td>2.408654e+07</td>\n",
       "      <td>NaN</td>\n",
       "      <td>NaN</td>\n",
       "      <td>NaN</td>\n",
       "    </tr>\n",
       "  </tbody>\n",
       "</table>\n",
       "</div>"
      ],
      "text/plain": [
       "           Source            SS  DF            MS         F         p-unc  \\\n",
       "0  cylindernumber  2.451565e+09   3  8.171885e+08  33.92718  4.879907e-15   \n",
       "1          Within  2.312308e+09  96  2.408654e+07       NaN           NaN   \n",
       "\n",
       "        np2  \n",
       "0  0.514616  \n",
       "1       NaN  "
      ]
     },
     "execution_count": 40,
     "metadata": {},
     "output_type": "execute_result"
    }
   ],
   "source": [
    "# USING PINGOUN\n",
    "import pingouin as pg\n",
    "# This asks for the dv (dependent  variable), which is scale variable.\n",
    "# between which is the variable with categories\n",
    "# If we want to see the results in dataframe then detailed=True\n",
    "anv = pg.anova(dv=\"price\", between=\"cylindernumber\", data=newdata1, detailed=True)\n",
    "anv\n",
    "# The most important result is probably the p-unc (this is the p-value also known as significance),\n",
    "# it is the chance of an F-value or even more extreme, if the assumption about the population would be true.\n",
    "# The assumption is that all the categories have the same mean in the dataset.\n",
    "# With a p-value way below the usual threshold of 0.05, we therefore conclude that the cylinder number \n",
    "# has a significant influence on the mean price."
   ]
  },
  {
   "cell_type": "markdown",
   "metadata": {},
   "source": [
    "# Two numerical - Correlation test\n",
    "<img src=\"twonum.png\">"
   ]
  },
  {
   "cell_type": "code",
   "execution_count": 41,
   "metadata": {},
   "outputs": [],
   "source": [
    "# The most commonly used measure to test if linear relation exists between two scale variables is the Pearson Correlation Coefficient.\n",
    "# PC varies between -1 and +1. If it is -1 there is a perfect negative linear relationship, 0 no relationship, +1 positive linear r.\n",
    "# Positive relationship means if one variable goes up, the other goes up, negative is opposite trend.\n",
    "\n",
    "# Is there a relationship between price and engine size?\n",
    "# H0 There is not a relationship.\n",
    "# Ha There is a relationship. "
   ]
  },
  {
   "cell_type": "code",
   "execution_count": 42,
   "metadata": {},
   "outputs": [
    {
     "data": {
      "text/html": [
       "<div>\n",
       "<style scoped>\n",
       "    .dataframe tbody tr th:only-of-type {\n",
       "        vertical-align: middle;\n",
       "    }\n",
       "\n",
       "    .dataframe tbody tr th {\n",
       "        vertical-align: top;\n",
       "    }\n",
       "\n",
       "    .dataframe thead th {\n",
       "        text-align: right;\n",
       "    }\n",
       "</style>\n",
       "<table border=\"1\" class=\"dataframe\">\n",
       "  <thead>\n",
       "    <tr style=\"text-align: right;\">\n",
       "      <th></th>\n",
       "      <th>price</th>\n",
       "      <th>enginesize</th>\n",
       "      <th>carlength</th>\n",
       "    </tr>\n",
       "  </thead>\n",
       "  <tbody>\n",
       "    <tr>\n",
       "      <th>price</th>\n",
       "      <td>1.000000</td>\n",
       "      <td>0.859571</td>\n",
       "      <td>0.551936</td>\n",
       "    </tr>\n",
       "    <tr>\n",
       "      <th>enginesize</th>\n",
       "      <td>0.859571</td>\n",
       "      <td>1.000000</td>\n",
       "      <td>0.560839</td>\n",
       "    </tr>\n",
       "    <tr>\n",
       "      <th>carlength</th>\n",
       "      <td>0.551936</td>\n",
       "      <td>0.560839</td>\n",
       "      <td>1.000000</td>\n",
       "    </tr>\n",
       "  </tbody>\n",
       "</table>\n",
       "</div>"
      ],
      "text/plain": [
       "               price  enginesize  carlength\n",
       "price       1.000000    0.859571   0.551936\n",
       "enginesize  0.859571    1.000000   0.560839\n",
       "carlength   0.551936    0.560839   1.000000"
      ]
     },
     "execution_count": 42,
     "metadata": {},
     "output_type": "execute_result"
    }
   ],
   "source": [
    "# We can use the pandas library with its built function, in which we don't get the important p-value, but with the option of more than 2 columns.\n",
    "newdata1[[\"price\", \"enginesize\", \"carlength\"]].corr()"
   ]
  },
  {
   "cell_type": "code",
   "execution_count": 43,
   "metadata": {},
   "outputs": [
    {
     "name": "stdout",
     "output_type": "stream",
     "text": [
      "The Pearson correlation coefficient is:  0.85957\n",
      "The p-value is:  2.488847911533779e-30\n"
     ]
    }
   ],
   "source": [
    "# To get the p-value with the correlation coefficient we have to use for example scipy stats and its pearsonr function.\n",
    "cc, cpvalue = stats.pearsonr(newdata1[\"price\"], newdata1[\"enginesize\"])\n",
    "print(\"The Pearson correlation coefficient is: \", round(cc,5))\n",
    "print(\"The p-value is: \", cpvalue)"
   ]
  },
  {
   "cell_type": "code",
   "execution_count": 44,
   "metadata": {},
   "outputs": [
    {
     "data": {
      "image/png": "[encoded data removed]",
      "text/plain": [
       "<Figure size 432x288 with 2 Axes>"
      ]
     },
     "metadata": {
      "needs_background": "light"
     },
     "output_type": "display_data"
    }
   ],
   "source": [
    "sns.heatmap(newdata1[[\"price\",\"enginesize\", \"carlength\"]].corr(), annot=True, annot_kws={\"size\":20}, cmap=\"BuPu\")\n",
    "plt.show()"
   ]
  },
  {
   "cell_type": "code",
   "execution_count": 45,
   "metadata": {},
   "outputs": [],
   "source": [
    "j = [14, 22, 25, 28, 30]\n",
    "k = [23.8, 23.8, 23.8, 23.8, 23.8]"
   ]
  },
  {
   "cell_type": "code",
   "execution_count": 46,
   "metadata": {},
   "outputs": [
    {
     "data": {
      "text/plain": [
       "Power_divergenceResult(statistic=6.588235294117648, pvalue=0.15931505648894703)"
      ]
     },
     "execution_count": 46,
     "metadata": {},
     "output_type": "execute_result"
    }
   ],
   "source": [
    "stats.chisquare(f_obs=j, f_exp=k)"
   ]
  },
  {
   "cell_type": "code",
   "execution_count": 47,
   "metadata": {},
   "outputs": [
    {
     "data": {
      "text/plain": [
       "(0.019225489813725107,\n",
       " 0.9999540925912066,\n",
       " 4,\n",
       " array([[0.0126, 0.0074],\n",
       "        [0.0189, 0.0111],\n",
       "        [0.2142, 0.1258],\n",
       "        [0.2772, 0.1628],\n",
       "        [0.1071, 0.0629]]))"
      ]
     },
     "execution_count": 47,
     "metadata": {},
     "output_type": "execute_result"
    }
   ],
   "source": [
    "stats.chi2_contingency(pd.crosstab(newdata1[\"carbody\"], newdata1[\"aspiration\"], normalize=\"all\"))"
   ]
  },
  {
   "cell_type": "code",
   "execution_count": 48,
   "metadata": {},
   "outputs": [
    {
     "data": {
      "text/html": [
       "<div>\n",
       "<style scoped>\n",
       "    .dataframe tbody tr th:only-of-type {\n",
       "        vertical-align: middle;\n",
       "    }\n",
       "\n",
       "    .dataframe tbody tr th {\n",
       "        vertical-align: top;\n",
       "    }\n",
       "\n",
       "    .dataframe thead th {\n",
       "        text-align: right;\n",
       "    }\n",
       "</style>\n",
       "<table border=\"1\" class=\"dataframe\">\n",
       "  <thead>\n",
       "    <tr style=\"text-align: right;\">\n",
       "      <th>aspiration</th>\n",
       "      <th>std</th>\n",
       "      <th>turbo</th>\n",
       "    </tr>\n",
       "    <tr>\n",
       "      <th>carbody</th>\n",
       "      <th></th>\n",
       "      <th></th>\n",
       "    </tr>\n",
       "  </thead>\n",
       "  <tbody>\n",
       "    <tr>\n",
       "      <th>convertible</th>\n",
       "      <td>0.02</td>\n",
       "      <td>0.00</td>\n",
       "    </tr>\n",
       "    <tr>\n",
       "      <th>hardtop</th>\n",
       "      <td>0.02</td>\n",
       "      <td>0.01</td>\n",
       "    </tr>\n",
       "    <tr>\n",
       "      <th>hatchback</th>\n",
       "      <td>0.21</td>\n",
       "      <td>0.13</td>\n",
       "    </tr>\n",
       "    <tr>\n",
       "      <th>sedan</th>\n",
       "      <td>0.26</td>\n",
       "      <td>0.18</td>\n",
       "    </tr>\n",
       "    <tr>\n",
       "      <th>wagon</th>\n",
       "      <td>0.12</td>\n",
       "      <td>0.05</td>\n",
       "    </tr>\n",
       "  </tbody>\n",
       "</table>\n",
       "</div>"
      ],
      "text/plain": [
       "aspiration    std  turbo\n",
       "carbody                 \n",
       "convertible  0.02   0.00\n",
       "hardtop      0.02   0.01\n",
       "hatchback    0.21   0.13\n",
       "sedan        0.26   0.18\n",
       "wagon        0.12   0.05"
      ]
     },
     "execution_count": 48,
     "metadata": {},
     "output_type": "execute_result"
    }
   ],
   "source": [
    "pd.crosstab(newdata1[\"carbody\"], newdata1[\"aspiration\"], normalize=\"all\")"
   ]
  },
  {
   "cell_type": "code",
   "execution_count": 49,
   "metadata": {},
   "outputs": [],
   "source": [
    "observed = [71,18,4]\n",
    "reality = [579349, 14993, 2739]"
   ]
  },
  {
   "cell_type": "code",
   "execution_count": 50,
   "metadata": {},
   "outputs": [],
   "source": [
    "observeddf = pd.DataFrame(observed)\n",
    "realitydf = pd.DataFrame(reality)"
   ]
  },
  {
   "cell_type": "code",
   "execution_count": 51,
   "metadata": {},
   "outputs": [],
   "source": [
    "realitydf[\"%\"] = (realitydf[0]/597171)"
   ]
  },
  {
   "cell_type": "code",
   "execution_count": 52,
   "metadata": {},
   "outputs": [
    {
     "data": {
      "text/html": [
       "<div>\n",
       "<style scoped>\n",
       "    .dataframe tbody tr th:only-of-type {\n",
       "        vertical-align: middle;\n",
       "    }\n",
       "\n",
       "    .dataframe tbody tr th {\n",
       "        vertical-align: top;\n",
       "    }\n",
       "\n",
       "    .dataframe thead th {\n",
       "        text-align: right;\n",
       "    }\n",
       "</style>\n",
       "<table border=\"1\" class=\"dataframe\">\n",
       "  <thead>\n",
       "    <tr style=\"text-align: right;\">\n",
       "      <th></th>\n",
       "      <th>0</th>\n",
       "      <th>%</th>\n",
       "    </tr>\n",
       "  </thead>\n",
       "  <tbody>\n",
       "    <tr>\n",
       "      <th>0</th>\n",
       "      <td>579349</td>\n",
       "      <td>0.970156</td>\n",
       "    </tr>\n",
       "    <tr>\n",
       "      <th>1</th>\n",
       "      <td>14993</td>\n",
       "      <td>0.025107</td>\n",
       "    </tr>\n",
       "    <tr>\n",
       "      <th>2</th>\n",
       "      <td>2739</td>\n",
       "      <td>0.004587</td>\n",
       "    </tr>\n",
       "  </tbody>\n",
       "</table>\n",
       "</div>"
      ],
      "text/plain": [
       "        0         %\n",
       "0  579349  0.970156\n",
       "1   14993  0.025107\n",
       "2    2739  0.004587"
      ]
     },
     "execution_count": 52,
     "metadata": {},
     "output_type": "execute_result"
    }
   ],
   "source": [
    "realitydf"
   ]
  },
  {
   "cell_type": "code",
   "execution_count": 53,
   "metadata": {},
   "outputs": [],
   "source": [
    "maindf = pd.DataFrame()"
   ]
  },
  {
   "cell_type": "code",
   "execution_count": 54,
   "metadata": {},
   "outputs": [],
   "source": [
    "maindf[\"Ei\"] = observeddf[0]\n",
    "maindf[\"Ti\"] = round(realitydf[\"%\"] * 93)"
   ]
  },
  {
   "cell_type": "code",
   "execution_count": 55,
   "metadata": {},
   "outputs": [],
   "source": [
    "maindf[\"ABS(Ei-Ti)\"] = abs(maindf[\"Ei\"] - maindf[\"Ti\"])\n",
    "maindf[\"^2\"] = abs(maindf[\"Ei\"] - maindf[\"Ti\"])**2\n",
    "maindf[\"/Ti\"] = (abs(maindf[\"Ei\"] - maindf[\"Ti\"])**2)/maindf[\"Ti\"]\n"
   ]
  },
  {
   "cell_type": "code",
   "execution_count": 56,
   "metadata": {},
   "outputs": [],
   "source": [
    "maindf[\"/Ti\"].replace({np.inf:0}, inplace=True)"
   ]
  },
  {
   "cell_type": "code",
   "execution_count": 57,
   "metadata": {},
   "outputs": [
    {
     "data": {
      "text/html": [
       "<div>\n",
       "<style scoped>\n",
       "    .dataframe tbody tr th:only-of-type {\n",
       "        vertical-align: middle;\n",
       "    }\n",
       "\n",
       "    .dataframe tbody tr th {\n",
       "        vertical-align: top;\n",
       "    }\n",
       "\n",
       "    .dataframe thead th {\n",
       "        text-align: right;\n",
       "    }\n",
       "</style>\n",
       "<table border=\"1\" class=\"dataframe\">\n",
       "  <thead>\n",
       "    <tr style=\"text-align: right;\">\n",
       "      <th></th>\n",
       "      <th>Ei</th>\n",
       "      <th>Ti</th>\n",
       "      <th>ABS(Ei-Ti)</th>\n",
       "      <th>^2</th>\n",
       "      <th>/Ti</th>\n",
       "    </tr>\n",
       "  </thead>\n",
       "  <tbody>\n",
       "    <tr>\n",
       "      <th>0</th>\n",
       "      <td>71</td>\n",
       "      <td>90.0</td>\n",
       "      <td>19.0</td>\n",
       "      <td>361.0</td>\n",
       "      <td>4.011111</td>\n",
       "    </tr>\n",
       "    <tr>\n",
       "      <th>1</th>\n",
       "      <td>18</td>\n",
       "      <td>2.0</td>\n",
       "      <td>16.0</td>\n",
       "      <td>256.0</td>\n",
       "      <td>128.000000</td>\n",
       "    </tr>\n",
       "    <tr>\n",
       "      <th>2</th>\n",
       "      <td>4</td>\n",
       "      <td>0.0</td>\n",
       "      <td>4.0</td>\n",
       "      <td>16.0</td>\n",
       "      <td>0.000000</td>\n",
       "    </tr>\n",
       "  </tbody>\n",
       "</table>\n",
       "</div>"
      ],
      "text/plain": [
       "   Ei    Ti  ABS(Ei-Ti)     ^2         /Ti\n",
       "0  71  90.0        19.0  361.0    4.011111\n",
       "1  18   2.0        16.0  256.0  128.000000\n",
       "2   4   0.0         4.0   16.0    0.000000"
      ]
     },
     "execution_count": 57,
     "metadata": {},
     "output_type": "execute_result"
    }
   ],
   "source": [
    "maindf"
   ]
  },
  {
   "cell_type": "code",
   "execution_count": 58,
   "metadata": {},
   "outputs": [
    {
     "name": "stdout",
     "output_type": "stream",
     "text": [
      "Chi-square value is:  132.01111111111112\n",
      "Critical value based on Df=2:  5.99\n",
      "Chi-square is larger than critical value so we reject H0.\n"
     ]
    }
   ],
   "source": [
    "print(\"Chi-square value is: \", maindf[\"/Ti\"].sum())\n",
    "print(\"Critical value based on Df=2: \", 5.99)\n",
    "print(\"Chi-square is larger than critical value so we reject H0.\")"
   ]
  },
  {
   "cell_type": "code",
   "execution_count": 59,
   "metadata": {},
   "outputs": [
    {
     "data": {
      "text/plain": [
       "Power_divergenceResult(statistic=28.32, pvalue=3.1115137804306093e-06)"
      ]
     },
     "execution_count": 59,
     "metadata": {},
     "output_type": "execute_result"
    }
   ],
   "source": [
    "stats.chisquare(f_obs=[102,90,66,42])"
   ]
  },
  {
   "cell_type": "markdown",
   "metadata": {},
   "source": [
    "# Proportion Z-test"
   ]
  },
  {
   "cell_type": "code",
   "execution_count": 62,
   "metadata": {},
   "outputs": [
    {
     "data": {
      "text/plain": [
       "fwd    58\n",
       "rwd    34\n",
       "4wd     8\n",
       "Name: drivewheel, dtype: int64"
      ]
     },
     "execution_count": 62,
     "metadata": {},
     "output_type": "execute_result"
    }
   ],
   "source": [
    "# Is the ditribution in our dataset different than what we expect?\n",
    "# H0 There is not a difference.\n",
    "# H0 There is a difference.\n",
    "newdata1[\"drivewheel\"].value_counts()"
   ]
  },
  {
   "cell_type": "code",
   "execution_count": 63,
   "metadata": {},
   "outputs": [],
   "source": [
    "rwd = newdata1[\"drivewheel\"].value_counts()[1]"
   ]
  },
  {
   "cell_type": "code",
   "execution_count": 65,
   "metadata": {},
   "outputs": [
    {
     "data": {
      "text/plain": [
       "100"
      ]
     },
     "execution_count": 65,
     "metadata": {},
     "output_type": "execute_result"
    }
   ],
   "source": [
    "newdata1[\"drivewheel\"].value_counts().sum()"
   ]
  },
  {
   "cell_type": "code",
   "execution_count": 93,
   "metadata": {},
   "outputs": [
    {
     "name": "stdout",
     "output_type": "stream",
     "text": [
      "Fail to reject the null hypothesis as p-value is larger than significance alpha 0.05 -  0.20529799730252218\n"
     ]
    }
   ],
   "source": [
    "zzz, ppp = proportions_ztest(count=rwd, nobs=newdata1[\"drivewheel\"].value_counts().sum(), value=0.4, alternative=\"two-sided\")\n",
    "\n",
    "if ppp < 0.05:\n",
    "    print(\"Reject the null hypothesis as p-value is smaller than significance alpha 0.05 - \", ppp)\n",
    "else:\n",
    "    print(\"Fail to reject the null hypothesis as p-value is larger than significance alpha 0.05 - \", ppp)"
   ]
  },
  {
   "cell_type": "markdown",
   "metadata": {},
   "source": [
    "# Chi-square Independance"
   ]
  },
  {
   "cell_type": "code",
   "execution_count": 104,
   "metadata": {},
   "outputs": [],
   "source": [
    "# Is the aspiration of a car differenct across the car body types?\n",
    "# H0 There is not a difference.\n",
    "# H0 There is a difference.\n",
    "jkk = pd.crosstab(newdata[\"carbody\"], newdata1[\"aspiration\"])"
   ]
  },
  {
   "cell_type": "code",
   "execution_count": 102,
   "metadata": {},
   "outputs": [
    {
     "data": {
      "text/html": [
       "<div>\n",
       "<style scoped>\n",
       "    .dataframe tbody tr th:only-of-type {\n",
       "        vertical-align: middle;\n",
       "    }\n",
       "\n",
       "    .dataframe tbody tr th {\n",
       "        vertical-align: top;\n",
       "    }\n",
       "\n",
       "    .dataframe thead th {\n",
       "        text-align: right;\n",
       "    }\n",
       "</style>\n",
       "<table border=\"1\" class=\"dataframe\">\n",
       "  <thead>\n",
       "    <tr style=\"text-align: right;\">\n",
       "      <th>carbody</th>\n",
       "      <th>convertible</th>\n",
       "      <th>hardtop</th>\n",
       "      <th>hatchback</th>\n",
       "      <th>sedan</th>\n",
       "      <th>wagon</th>\n",
       "    </tr>\n",
       "    <tr>\n",
       "      <th>aspiration</th>\n",
       "      <th></th>\n",
       "      <th></th>\n",
       "      <th></th>\n",
       "      <th></th>\n",
       "      <th></th>\n",
       "    </tr>\n",
       "  </thead>\n",
       "  <tbody>\n",
       "    <tr>\n",
       "      <th>std</th>\n",
       "      <td>2</td>\n",
       "      <td>2</td>\n",
       "      <td>21</td>\n",
       "      <td>26</td>\n",
       "      <td>12</td>\n",
       "    </tr>\n",
       "    <tr>\n",
       "      <th>turbo</th>\n",
       "      <td>0</td>\n",
       "      <td>1</td>\n",
       "      <td>13</td>\n",
       "      <td>18</td>\n",
       "      <td>5</td>\n",
       "    </tr>\n",
       "  </tbody>\n",
       "</table>\n",
       "</div>"
      ],
      "text/plain": [
       "carbody     convertible  hardtop  hatchback  sedan  wagon\n",
       "aspiration                                               \n",
       "std                   2        2         21     26     12\n",
       "turbo                 0        1         13     18      5"
      ]
     },
     "execution_count": 102,
     "metadata": {},
     "output_type": "execute_result"
    }
   ],
   "source": [
    "jkk"
   ]
  },
  {
   "cell_type": "code",
   "execution_count": 111,
   "metadata": {},
   "outputs": [
    {
     "name": "stdout",
     "output_type": "stream",
     "text": [
      "Chi-square value =  1.9225489813725103\n",
      "P-value =  0.7500015705293386\n",
      "Df =  4  = 9,488\n",
      "Expected values =  [[ 1.26  0.74]\n",
      " [ 1.89  1.11]\n",
      " [21.42 12.58]\n",
      " [27.72 16.28]\n",
      " [10.71  6.29]]\n",
      "Fail to reject the null hypothesis based on chi-square value\n",
      "Fail to reject the null hypothesis based on P-value\n"
     ]
    }
   ],
   "source": [
    "aa, bb, cc, dd = stats.chi2_contingency(jkk)\n",
    "print(\"Chi-square value = \", aa)\n",
    "print(\"P-value = \", bb)\n",
    "print(\"Df = \", cc, \" = 9,488\")\n",
    "print(\"Expected values = \", dd)\n",
    "if aa > 9.488:\n",
    "    print(\"Reject the null hypothesis\")\n",
    "else:\n",
    "    print(\"Fail to reject the null hypothesis based on chi-square value\")\n",
    "if bb < 0.05:\n",
    "    print(\"Reject the null hypothesis\")\n",
    "else:\n",
    "    print(\"Fail to reject the null hypothesis based on P-value\")"
   ]
  },
  {
   "cell_type": "markdown",
   "metadata": {},
   "source": [
    "# T-test one sample"
   ]
  },
  {
   "cell_type": "code",
   "execution_count": 136,
   "metadata": {},
   "outputs": [
    {
     "name": "stdout",
     "output_type": "stream",
     "text": [
      "T-value =  2.9196042624192557\n",
      "P-value =  0.004339485801476046\n",
      "Reject the null hypothesis based on P-value\n"
     ]
    }
   ],
   "source": [
    "# Is there a difference between the average price of cars and the average price of cars from 2010?\n",
    "# H0 There is not a difference.\n",
    "# H0 There is a difference.\n",
    "ee, ff = stats.ttest_1samp(newdata1[\"price\"], popmean=11500)\n",
    "print(\"T-value = \", ee)\n",
    "print(\"P-value = \", ff)\n",
    "if ff < 0.05:\n",
    "    print(\"Reject the null hypothesis based on P-value\")\n",
    "else:\n",
    "    print(\"Fail to reject the null hypothesis based on P-value\")"
   ]
  },
  {
   "cell_type": "markdown",
   "metadata": {},
   "source": [
    "# Two sample T-test"
   ]
  },
  {
   "cell_type": "code",
   "execution_count": 191,
   "metadata": {},
   "outputs": [],
   "source": [
    "# Is there a difference in horsepower between different fuel types?\n",
    "# H0 There is not difference.\n",
    "# Ha There is a difference.\n",
    "categorical = newdata1[\"fueltype\"]\n",
    "numeric = newdata1[\"horsepower\"]"
   ]
  },
  {
   "cell_type": "code",
   "execution_count": 192,
   "metadata": {},
   "outputs": [],
   "source": [
    "category1 = categorical == \"gas\"\n",
    "category2 = categorical == \"diesel\""
   ]
  },
  {
   "cell_type": "code",
   "execution_count": 193,
   "metadata": {},
   "outputs": [],
   "source": [
    "categ1 = numeric[category1]\n",
    "categ2 = numeric[category2]"
   ]
  },
  {
   "cell_type": "code",
   "execution_count": 194,
   "metadata": {},
   "outputs": [
    {
     "name": "stdout",
     "output_type": "stream",
     "text": [
      "T-value =  2.287143063272177\n",
      "P-value =  0.024338\n",
      "Reject the null hypothesis based on P-value\n"
     ]
    }
   ],
   "source": [
    "gg, hh = stats.ttest_ind(categ1, categ2)\n",
    "print(\"T-value = \", gg)\n",
    "print(\"P-value = \", round(hh,6))\n",
    "if hh < 0.05:\n",
    "    print(\"Reject the null hypothesis based on P-value\")\n",
    "else:\n",
    "    print(\"Fail to reject the null hypothesis based on P-value\")"
   ]
  },
  {
   "cell_type": "markdown",
   "metadata": {},
   "source": [
    "# ANOVA"
   ]
  },
  {
   "cell_type": "code",
   "execution_count": 195,
   "metadata": {},
   "outputs": [
    {
     "data": {
      "text/html": [
       "<div>\n",
       "<style scoped>\n",
       "    .dataframe tbody tr th:only-of-type {\n",
       "        vertical-align: middle;\n",
       "    }\n",
       "\n",
       "    .dataframe tbody tr th {\n",
       "        vertical-align: top;\n",
       "    }\n",
       "\n",
       "    .dataframe thead th {\n",
       "        text-align: right;\n",
       "    }\n",
       "</style>\n",
       "<table border=\"1\" class=\"dataframe\">\n",
       "  <thead>\n",
       "    <tr style=\"text-align: right;\">\n",
       "      <th></th>\n",
       "      <th>Source</th>\n",
       "      <th>SS</th>\n",
       "      <th>DF</th>\n",
       "      <th>MS</th>\n",
       "      <th>F</th>\n",
       "      <th>p-unc</th>\n",
       "      <th>np2</th>\n",
       "    </tr>\n",
       "  </thead>\n",
       "  <tbody>\n",
       "    <tr>\n",
       "      <th>0</th>\n",
       "      <td>fueltype</td>\n",
       "      <td>8534.085053</td>\n",
       "      <td>1</td>\n",
       "      <td>8534.085053</td>\n",
       "      <td>5.231023</td>\n",
       "      <td>0.024338</td>\n",
       "      <td>0.050673</td>\n",
       "    </tr>\n",
       "    <tr>\n",
       "      <th>1</th>\n",
       "      <td>Within</td>\n",
       "      <td>159880.824947</td>\n",
       "      <td>98</td>\n",
       "      <td>1631.436989</td>\n",
       "      <td>NaN</td>\n",
       "      <td>NaN</td>\n",
       "      <td>NaN</td>\n",
       "    </tr>\n",
       "  </tbody>\n",
       "</table>\n",
       "</div>"
      ],
      "text/plain": [
       "     Source             SS  DF           MS         F     p-unc       np2\n",
       "0  fueltype    8534.085053   1  8534.085053  5.231023  0.024338  0.050673\n",
       "1    Within  159880.824947  98  1631.436989       NaN       NaN       NaN"
      ]
     },
     "execution_count": 195,
     "metadata": {},
     "output_type": "execute_result"
    }
   ],
   "source": [
    "# Is the price of a car different across the car body types?\n",
    "# H0 There is not difference in price.\n",
    "# Ha There is a difference in price.\n",
    "pg.anova(dv=\"horsepower\", between=\"fueltype\", data=newdata1, detailed=True)"
   ]
  },
  {
   "cell_type": "markdown",
   "metadata": {},
   "source": [
    "# Correlation - Pearson correlation coefficient"
   ]
  },
  {
   "cell_type": "code",
   "execution_count": 196,
   "metadata": {},
   "outputs": [
    {
     "name": "stdout",
     "output_type": "stream",
     "text": [
      "PCC value =  -0.6516927264279304\n",
      "P-value =  0.0\n",
      "Strong negative correlation\n",
      "Reject the null hypothesis based on P-value\n"
     ]
    }
   ],
   "source": [
    "# Is there a correlation between price of the car and mileage per gallon in city?\n",
    "# H0 There is not correlation.\n",
    "# Ha There is a correlation.\n",
    "jj, kk = stats.pearsonr(newdata1[\"price\"], newdata1[\"citympg\"])\n",
    "print(\"PCC value = \", jj)\n",
    "print(\"P-value = \", round(kk,6))\n",
    "if jj >= 0.5:\n",
    "    print(\"Strong positive correlation\")\n",
    "elif jj <= -0.5:\n",
    "    print(\"Strong negative correlation\")\n",
    "else:\n",
    "    print(\"Slight positive/negative correlation\")\n",
    "    print(\"Fail to reject the null hypothesis based on P-value\")\n",
    "if kk < 0.05:\n",
    "    print(\"Reject the null hypothesis based on P-value\")\n",
    "else:\n",
    "    print(\"Fail to reject the null hypothesis based on P-value\")"
   ]
  }
 ],
 "metadata": {
  "kernelspec": {
   "display_name": "Python 3.10.2 64-bit",
   "language": "python",
   "name": "python3"
  },
  "language_info": {
   "codemirror_mode": {
    "name": "ipython",
    "version": 3
   },
   "file_extension": ".py",
   "mimetype": "text/x-python",
   "name": "python",
   "nbconvert_exporter": "python",
   "pygments_lexer": "ipython3",
   "version": "3.10.2"
  },
  "orig_nbformat": 4,
  "vscode": {
   "interpreter": {
    "hash": "4d8546321cadb325a106918ecab26f0085318f6086fcab55f85fe19b56b4f4f0"
   }
  }
 },
 "nbformat": 4,
 "nbformat_minor": 2
}
