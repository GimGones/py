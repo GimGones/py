{
 "cells": [
  {
   "cell_type": "code",
   "execution_count": 1,
   "metadata": {},
   "outputs": [],
   "source": [
    "import pandas as pd\n",
    "import numpy as np\n",
    "import matplotlib.pyplot as plt \n",
    "import seaborn as sns\n",
    "import statsmodels.api as sm\n",
    "from scipy import stats\n"
   ]
  },
  {
   "cell_type": "code",
   "execution_count": 2,
   "metadata": {},
   "outputs": [],
   "source": [
    "data = pd.read_csv('car_data_all_together.csv')"
   ]
  },
  {
   "cell_type": "code",
   "execution_count": 3,
   "metadata": {},
   "outputs": [
    {
     "data": {
      "text/plain": [
       "std      63\n",
       "turbo    37\n",
       "Name: aspiration, dtype: int64"
      ]
     },
     "execution_count": 3,
     "metadata": {},
     "output_type": "execute_result"
    }
   ],
   "source": [
    "newdata = data.sort_values(by=\"aspiration\", ascending=False)\n",
    "newdata1 = newdata.iloc[:100]\n",
    "newdata1[\"aspiration\"].value_counts()"
   ]
  },
  {
   "cell_type": "markdown",
   "metadata": {},
   "source": [
    "# One categorical - One sample proportion test - Z-test\n",
    "<img src=\"onecat.png\">"
   ]
  },
  {
   "cell_type": "code",
   "execution_count": 4,
   "metadata": {},
   "outputs": [
    {
     "data": {
      "text/plain": [
       "std      63\n",
       "turbo    37\n",
       "Name: aspiration, dtype: int64"
      ]
     },
     "execution_count": 4,
     "metadata": {},
     "output_type": "execute_result"
    }
   ],
   "source": [
    "from statsmodels.stats.proportion import proportions_ztest\n",
    "# Is there difference in the number of gas and diesel in our dataset?\n",
    "# H0 There is not a difference in distribution\n",
    "# Ha There is a difference in distribution\n",
    "\n",
    "# H0: p = p0 (population proportion is equal to hypothesized proportion p0)\n",
    "\n",
    "# The alternative hypothesis can be either two-tailed, left-tailed, or right-tailed:\n",
    "# H1 (two-tailed) alternative=\"two-sided\": p ≠ p0 (population proportion is not equal to some hypothesized value p0)\n",
    "# H1 (left-tailed) alternative=\"smaller\": p < p0 (population proportion is less than some hypothesized value p0)\n",
    "# H1 (right-tailed) alternative=\"larger\": p > p0 (population proportion is greater than some hypothesized value p0)\n",
    "\n",
    "obs = newdata1[\"aspiration\"].value_counts()\n",
    "obs \n",
    "#There were 63 std and 37 turbo charged cars in our dataset."
   ]
  },
  {
   "cell_type": "code",
   "execution_count": 5,
   "metadata": {},
   "outputs": [
    {
     "data": {
      "image/png": "[encoded data removed]",
      "text/plain": [
       "<Figure size 432x288 with 1 Axes>"
      ]
     },
     "metadata": {
      "needs_background": "light"
     },
     "output_type": "display_data"
    }
   ],
   "source": [
    "sns.countplot(x=\"aspiration\", data=newdata1, palette=\"magma\")\n",
    "plt.show()"
   ]
  },
  {
   "cell_type": "code",
   "execution_count": 6,
   "metadata": {},
   "outputs": [
    {
     "name": "stdout",
     "output_type": "stream",
     "text": [
      "The count of std (first category) is:  63\n"
     ]
    }
   ],
   "source": [
    "# Let's use the first category as 'success' and store them under a separate name:\n",
    "x = obs[0]\n",
    "print(\"The count of std (first category) is: \",x)"
   ]
  },
  {
   "cell_type": "code",
   "execution_count": 7,
   "metadata": {},
   "outputs": [
    {
     "name": "stdout",
     "output_type": "stream",
     "text": [
      "The total count is:  100\n"
     ]
    }
   ],
   "source": [
    "# The value_counts returns a python series, so we can get the sum of values by using Python's sum function:\n",
    "n = sum(obs.values)\n",
    "print(\"The total count is: \",n)"
   ]
  },
  {
   "cell_type": "code",
   "execution_count": 8,
   "metadata": {},
   "outputs": [
    {
     "name": "stdout",
     "output_type": "stream",
     "text": [
      "The expected proportion is:  0.5\n"
     ]
    }
   ],
   "source": [
    "# Let's set the expected proportions to be 0.5.\n",
    "p0 = 0.5\n",
    "print(\"The expected proportion is: \", p0)"
   ]
  },
  {
   "cell_type": "code",
   "execution_count": 9,
   "metadata": {},
   "outputs": [
    {
     "name": "stdout",
     "output_type": "stream",
     "text": [
      "The z-value of one sample proportion test is:  2.6\n",
      "The p-value of one sample proportion test is:  0.00932\n"
     ]
    }
   ],
   "source": [
    "# The function requires the number of successes, the sample size, the expected proportion and also set prop_var to this expected proportion. I want a two-sided test, so all together.\n",
    "zvalue, pvalue = proportions_ztest(count=x, nobs=n, value=p0, prop_var=p0, alternative=\"two-sided\")\n",
    "# The first value is the z-value, the second is the p-value (significance)\n",
    "# and we can conclude that there is a significant difference between the proportions of the two categories.\n",
    "# The 0.00932 (p-value) is the probability of obtaining a z-value of 2.6 or more extreme if the assumption about the fueltype (the expected proportion of 0.5) was true.\n",
    "print(\"The z-value of one sample proportion test is: \", zvalue)\n",
    "print(\"The p-value of one sample proportion test is: \", round(pvalue, 5))"
   ]
  },
  {
   "cell_type": "markdown",
   "metadata": {},
   "source": [
    "# Two categorical - Chi-squared test of independence (Pearson chi square test)\n",
    "<img src=\"twocat.png\">"
   ]
  },
  {
   "cell_type": "code",
   "execution_count": 10,
   "metadata": {},
   "outputs": [],
   "source": [
    "from scipy.stats import chi2_contingency\n",
    "# Does the proportion of std an turbo differ across fueltype groups?\n",
    "# H0 Aspiration is not dependent on fueltype.\n",
    "# Ha Aspiration is dependent on fueltype."
   ]
  },
  {
   "cell_type": "code",
   "execution_count": 11,
   "metadata": {},
   "outputs": [
    {
     "data": {
      "image/png": "[encoded data removed]",
      "text/plain": [
       "<Figure size 432x288 with 1 Axes>"
      ]
     },
     "metadata": {
      "needs_background": "light"
     },
     "output_type": "display_data"
    }
   ],
   "source": [
    "sns.countplot(x=\"aspiration\", data=newdata1, palette=\"magma\", hue=\"fueltype\")\n",
    "plt.show()"
   ]
  },
  {
   "cell_type": "code",
   "execution_count": 12,
   "metadata": {},
   "outputs": [
    {
     "data": {
      "text/html": [
       "<div>\n",
       "<style scoped>\n",
       "    .dataframe tbody tr th:only-of-type {\n",
       "        vertical-align: middle;\n",
       "    }\n",
       "\n",
       "    .dataframe tbody tr th {\n",
       "        vertical-align: top;\n",
       "    }\n",
       "\n",
       "    .dataframe thead th {\n",
       "        text-align: right;\n",
       "    }\n",
       "</style>\n",
       "<table border=\"1\" class=\"dataframe\">\n",
       "  <thead>\n",
       "    <tr style=\"text-align: right;\">\n",
       "      <th>fueltype</th>\n",
       "      <th>diesel</th>\n",
       "      <th>gas</th>\n",
       "    </tr>\n",
       "    <tr>\n",
       "      <th>aspiration</th>\n",
       "      <th></th>\n",
       "      <th></th>\n",
       "    </tr>\n",
       "  </thead>\n",
       "  <tbody>\n",
       "    <tr>\n",
       "      <th>std</th>\n",
       "      <td>4</td>\n",
       "      <td>59</td>\n",
       "    </tr>\n",
       "    <tr>\n",
       "      <th>turbo</th>\n",
       "      <td>13</td>\n",
       "      <td>24</td>\n",
       "    </tr>\n",
       "  </tbody>\n",
       "</table>\n",
       "</div>"
      ],
      "text/plain": [
       "fueltype    diesel  gas\n",
       "aspiration             \n",
       "std              4   59\n",
       "turbo           13   24"
      ]
     },
     "execution_count": 12,
     "metadata": {},
     "output_type": "execute_result"
    }
   ],
   "source": [
    "crosstab = pd.crosstab(newdata1[\"aspiration\"], newdata1[\"fueltype\"])\n",
    "crosstab"
   ]
  },
  {
   "cell_type": "code",
   "execution_count": 13,
   "metadata": {},
   "outputs": [
    {
     "name": "stdout",
     "output_type": "stream",
     "text": [
      "The chi-square value of chi-square test is:  11.72503\n",
      "The p-value of chi-square test is:  0.00062\n",
      "The degrees of freedom of chi-square test is:  1\n",
      "The expected values of chi-square test is:  [[10.71 52.29]\n",
      " [ 6.29 30.71]]\n"
     ]
    }
   ],
   "source": [
    "# The function requires the number of successes, the sample size, the expected proportion and also set prop_var to this expected proportion. I want a two-sided test, so all together.\n",
    "chiVal, pVal, df, exp = chi2_contingency(crosstab)\n",
    "# As the p-value is lower than alpha we can conclude that aspiration type is dependent on fuel type.\n",
    "# The first value is the chi-square value of 11.72503. The chance of such a value or even more extreme, in a sample, if there is no association in the dataset is 0.00062 (p-value).\n",
    "# The second value is p-value (0.00062). It is considered 'significant' usually if this value is below 0.05, which in this case it is. This indicates an association between the two variables. (One has an impact on the other.)\n",
    "# The third value is the degrees of freedom, which is an indication of the size of the table, since it is simply the number of rows -1, times the number of columns - 1.\n",
    "# The forth values are the expected values. There are the counts to be expected if the two variables had no influence on each other. \n",
    "# (Note that as a criteria the lowest expected value should be at least 1, and not too many should be below 5. Often a threshold of 20% is used (so if more than 20% of the cells have an expected count of 5 or less, the test is not reliabe to use.))\n",
    "print(\"The chi-square value of chi-square test is: \", round(chiVal,5))\n",
    "print(\"The p-value of chi-square test is: \", round(pVal,5))\n",
    "print(\"The degrees of freedom of chi-square test is: \", df)\n",
    "print(\"The expected values of chi-square test is: \", exp)"
   ]
  },
  {
   "cell_type": "code",
   "execution_count": 14,
   "metadata": {},
   "outputs": [
    {
     "data": {
      "text/plain": [
       "array([10.71, 52.29,  6.29, 30.71])"
      ]
     },
     "execution_count": 14,
     "metadata": {},
     "output_type": "execute_result"
    }
   ],
   "source": [
    "# Concatenate values in both lists into one list.\n",
    "exp1 = np.concatenate((exp[0], exp[1]))\n",
    "exp1"
   ]
  },
  {
   "cell_type": "code",
   "execution_count": 15,
   "metadata": {},
   "outputs": [
    {
     "name": "stdout",
     "output_type": "stream",
     "text": [
      "The lowest expected value is:  6.29\n",
      "The percentage of cells with a count of less than 5:  0.0\n"
     ]
    }
   ],
   "source": [
    "# Check the first lowest expected value.\n",
    "print(\"The lowest expected value is: \", exp.min())\n",
    "# Check the percentage of cells with a count of less than 5.\n",
    "print(\"The percentage of cells with a count of less than 5: \", len(exp1[exp1 < 5])/(len(exp1))*100)"
   ]
  },
  {
   "cell_type": "code",
   "execution_count": 16,
   "metadata": {},
   "outputs": [
    {
     "data": {
      "text/plain": [
       "(6.4802346882456145,\n",
       " 0.16604002590822953,\n",
       " 4,\n",
       " array([[ 7.1148, 26.6574, 12.4278],\n",
       "        [ 7.1148, 26.6574, 12.4278],\n",
       "        [ 1.1704,  4.3852,  2.0444]]))"
      ]
     },
     "execution_count": 16,
     "metadata": {},
     "output_type": "execute_result"
    }
   ],
   "source": [
    "students = [(2, 8, 2), (2, 6, 4), (0, 1, 1)]\n",
    "podniky = pd.DataFrame(students, columns=[\"A\", \"B\", \"C\"])\n",
    "podniky.values.sum()\n",
    "\n",
    "for i in [\"A\", \"B\", \"C\"]:\n",
    "    podniky[i+\"%\"] = round((podniky[i]/26)*100, 1)\n",
    "\n",
    "podniky.drop(columns=[\"A\", \"B\", \"C\"], inplace=True)\n",
    "\n",
    "podniky\n",
    "\n",
    "stats.chi2_contingency(podniky)"
   ]
  },
  {
   "cell_type": "code",
   "execution_count": 17,
   "metadata": {},
   "outputs": [
    {
     "data": {
      "text/plain": [
       "(6.4802346882456145,\n",
       " 0.16604002590822953,\n",
       " 4,\n",
       " array([[ 7.1148, 26.6574, 12.4278],\n",
       "        [ 7.1148, 26.6574, 12.4278],\n",
       "        [ 1.1704,  4.3852,  2.0444]]))"
      ]
     },
     "execution_count": 17,
     "metadata": {},
     "output_type": "execute_result"
    }
   ],
   "source": [
    "stats.chi2_contingency(podniky)"
   ]
  },
  {
   "cell_type": "markdown",
   "metadata": {},
   "source": [
    "# Pearson Chi-Square Goodness-of-Fit Test"
   ]
  },
  {
   "cell_type": "code",
   "execution_count": 18,
   "metadata": {},
   "outputs": [],
   "source": [
    "# A Pearson chi-square Goodness of Fit test can be used to determine if one or more of the observed counts is significantly\n",
    "# different from the expected counts. It can be seen as 'omnibus test', since it will not show which one is different.\n",
    "# It is therefor often  followe by a so-called post-hoc test to find whic category or categories were different, or even diff from eachother.\n",
    "# One thing to note is that not too many cells should have a low expected count."
   ]
  },
  {
   "cell_type": "code",
   "execution_count": 19,
   "metadata": {},
   "outputs": [],
   "source": [
    "# The column we are interested in.\n",
    "dwh = newdata1[\"drivewheel\"]\n",
    "dwh1 = dwh.value_counts()"
   ]
  },
  {
   "cell_type": "code",
   "execution_count": 20,
   "metadata": {},
   "outputs": [
    {
     "name": "stdout",
     "output_type": "stream",
     "text": [
      "Chi-square value is:  37.519999999999996\n",
      "The p-value is:  7.122550210643063e-09\n"
     ]
    }
   ],
   "source": [
    "# Is there a significant difference between the observed and the expected value?\n",
    "# H0 There is not significant difference between the observed and the expected value.\n",
    "# Ha There is a significant difference between the observed and the expected value.\n",
    "\n",
    "# Pearson chi-square Goodness of Fit test is done easily by chisquare function from scipy stats.\n",
    "chi2g, chi2gpval = stats.chisquare(f_obs=dwh1)\n",
    "# The first value is the chi-square value itself, the second value is p-value. It is the chance of a chi-square value like this or even more extreme if in the dataset the observed frequencies would have been equal to the expected frequencies.\n",
    "print(\"Chi-square value is: \", chi2g)\n",
    "print(\"The p-value is: \", chi2gpval)"
   ]
  },
  {
   "cell_type": "code",
   "execution_count": 21,
   "metadata": {},
   "outputs": [
    {
     "name": "stdout",
     "output_type": "stream",
     "text": [
      "Expected counts per category: 33.333333333333336\n"
     ]
    }
   ],
   "source": [
    "expectedcount = sum(dwh1)/len(dwh1)\n",
    "print(\"Expected counts per category:\",expectedcount)"
   ]
  },
  {
   "cell_type": "code",
   "execution_count": 22,
   "metadata": {},
   "outputs": [],
   "source": [
    "yes = pd.DataFrame({\"A\":[2,4,6],\"B\":[1,3,5],\"C\":[12,14,16],})"
   ]
  },
  {
   "cell_type": "code",
   "execution_count": 23,
   "metadata": {},
   "outputs": [],
   "source": [
    "yes[\"sums\"] = yes.sum(axis=1)"
   ]
  },
  {
   "cell_type": "code",
   "execution_count": 24,
   "metadata": {},
   "outputs": [],
   "source": [
    "yes.loc[\"Total\"] = yes[[\"A\",\"B\",\"C\",\"sums\"]].sum()"
   ]
  },
  {
   "cell_type": "code",
   "execution_count": 25,
   "metadata": {},
   "outputs": [
    {
     "data": {
      "text/html": [
       "<div>\n",
       "<style scoped>\n",
       "    .dataframe tbody tr th:only-of-type {\n",
       "        vertical-align: middle;\n",
       "    }\n",
       "\n",
       "    .dataframe tbody tr th {\n",
       "        vertical-align: top;\n",
       "    }\n",
       "\n",
       "    .dataframe thead th {\n",
       "        text-align: right;\n",
       "    }\n",
       "</style>\n",
       "<table border=\"1\" class=\"dataframe\">\n",
       "  <thead>\n",
       "    <tr style=\"text-align: right;\">\n",
       "      <th></th>\n",
       "      <th>A</th>\n",
       "      <th>B</th>\n",
       "      <th>C</th>\n",
       "      <th>sums</th>\n",
       "    </tr>\n",
       "  </thead>\n",
       "  <tbody>\n",
       "    <tr>\n",
       "      <th>0</th>\n",
       "      <td>2</td>\n",
       "      <td>1</td>\n",
       "      <td>12</td>\n",
       "      <td>15</td>\n",
       "    </tr>\n",
       "    <tr>\n",
       "      <th>1</th>\n",
       "      <td>4</td>\n",
       "      <td>3</td>\n",
       "      <td>14</td>\n",
       "      <td>21</td>\n",
       "    </tr>\n",
       "    <tr>\n",
       "      <th>2</th>\n",
       "      <td>6</td>\n",
       "      <td>5</td>\n",
       "      <td>16</td>\n",
       "      <td>27</td>\n",
       "    </tr>\n",
       "    <tr>\n",
       "      <th>Total</th>\n",
       "      <td>12</td>\n",
       "      <td>9</td>\n",
       "      <td>42</td>\n",
       "      <td>63</td>\n",
       "    </tr>\n",
       "  </tbody>\n",
       "</table>\n",
       "</div>"
      ],
      "text/plain": [
       "        A  B   C  sums\n",
       "0       2  1  12    15\n",
       "1       4  3  14    21\n",
       "2       6  5  16    27\n",
       "Total  12  9  42    63"
      ]
     },
     "execution_count": 25,
     "metadata": {},
     "output_type": "execute_result"
    }
   ],
   "source": [
    "yes"
   ]
  },
  {
   "cell_type": "code",
   "execution_count": 26,
   "metadata": {},
   "outputs": [],
   "source": [
    "# Expected values per value are calculated as (sum of row * sum of column)/Grand Total\n",
    "# For 0A it is (15*12)/63 = 2,857\n",
    "# For 0B it is (15*9)/63 = 2,1428\n",
    "# For 0C it is (15*42)/63 = 10"
   ]
  },
  {
   "cell_type": "markdown",
   "metadata": {},
   "source": [
    "# One numeric - T-test\n",
    "<img src=\"onenum1.png\">"
   ]
  },
  {
   "cell_type": "code",
   "execution_count": 27,
   "metadata": {},
   "outputs": [],
   "source": [
    "from scipy.stats import ttest_1samp\n",
    "# Is the average price of cars different from the previously estabilished average price of cars?\n",
    "# H0 There is not a difference.\n",
    "# Ha There is a difference."
   ]
  },
  {
   "cell_type": "code",
   "execution_count": 28,
   "metadata": {},
   "outputs": [
    {
     "data": {
      "image/png": "[encoded data removed]",
      "text/plain": [
       "<Figure size 432x288 with 1 Axes>"
      ]
     },
     "metadata": {
      "needs_background": "light"
     },
     "output_type": "display_data"
    }
   ],
   "source": [
    "sns.boxplot(x=\"price\", data=newdata1, color=\"pink\")\n",
    "plt.show()"
   ]
  },
  {
   "cell_type": "code",
   "execution_count": 29,
   "metadata": {},
   "outputs": [],
   "source": [
    "# We need to set a hypothesized mean (the mean we'd like to test, or the mean we'd expect in the population). In this example I'd like to test if the price would be 11900.\n",
    "hmean = 11900"
   ]
  },
  {
   "cell_type": "code",
   "execution_count": 30,
   "metadata": {},
   "outputs": [
    {
     "data": {
      "text/plain": [
       "13525.28667"
      ]
     },
     "execution_count": 30,
     "metadata": {},
     "output_type": "execute_result"
    }
   ],
   "source": [
    "newdata1[\"price\"].mean()"
   ]
  },
  {
   "cell_type": "code",
   "execution_count": 31,
   "metadata": {},
   "outputs": [
    {
     "name": "stdout",
     "output_type": "stream",
     "text": [
      "The t-value of t-test is:  2.34297\n",
      "The p-value of t-test is:  0.021131204696073953\n"
     ]
    }
   ],
   "source": [
    "# As the p-value is lower than alpha we can conclude that average price of cars in dataset is different from the previously estabilished average price of cars.\n",
    "# The first value is the t-test value, the second value is the p-value.\n",
    "ttest, ttestpvaulue = ttest_1samp(newdata1[\"price\"], hmean)\n",
    "print(\"The t-value of t-test is: \", round(ttest,5))\n",
    "print(\"The p-value of t-test is: \", ttestpvaulue)"
   ]
  },
  {
   "cell_type": "markdown",
   "metadata": {},
   "source": [
    "# One numeric and one categorical - T-test or ANOVA\n",
    "<img src=\"onenumonecat.png\">\n",
    "\n",
    "## Two sample T-test"
   ]
  },
  {
   "cell_type": "code",
   "execution_count": 32,
   "metadata": {},
   "outputs": [],
   "source": [
    "from scipy.stats import ttest_ind\n",
    "# Is there a difference in price between standard and turbo charged cars?\n",
    "# H0 There is not a difference.\n",
    "# Ha There is a difference."
   ]
  },
  {
   "cell_type": "code",
   "execution_count": 33,
   "metadata": {},
   "outputs": [
    {
     "data": {
      "image/png": "[encoded data removed]",
      "text/plain": [
       "<Figure size 432x288 with 1 Axes>"
      ]
     },
     "metadata": {
      "needs_background": "light"
     },
     "output_type": "display_data"
    }
   ],
   "source": [
    "sns.boxplot(y=\"aspiration\", x=\"price\", data=newdata1)\n",
    "plt.show()"
   ]
  },
  {
   "cell_type": "code",
   "execution_count": 34,
   "metadata": {},
   "outputs": [],
   "source": [
    "# Binary field = aspiration and numerical field = price.\n",
    "onecat = newdata1[\"aspiration\"]\n",
    "onenum = newdata1[\"price\"]\n",
    "# We need to separate the scores for each category. We can create a list with booleans (true/false) for each category:\n",
    "cat1 = onecat == \"std\"\n",
    "cat2 = onecat == \"turbo\""
   ]
  },
  {
   "cell_type": "code",
   "execution_count": 35,
   "metadata": {},
   "outputs": [],
   "source": [
    "# These we can use to select the scores of each category and store them separately, then immediately drop any missing values with dropna function.\n",
    "cat1scores = onenum[cat1].dropna()\n",
    "cat2scores = onenum[cat2].dropna()"
   ]
  },
  {
   "cell_type": "code",
   "execution_count": 36,
   "metadata": {},
   "outputs": [
    {
     "name": "stdout",
     "output_type": "stream",
     "text": [
      "The t-value of two sample t-test is:  -3.20346\n",
      "The p-value of two sample t-test is:  0.0018322658915423179\n"
     ]
    }
   ],
   "source": [
    "# For the Student version, we cam simply enter the two lists with scores:\n",
    "# Student's t-test assumes that the sample means being compared for two populations are normally distributed\n",
    "# and that the populations have equal variances\n",
    "t2tests, t2testpvaulues = ttest_ind(cat1scores, cat2scores)\n",
    "print(\"The t-value of two sample t-test is: \", round(t2tests,5))\n",
    "print(\"The p-value of two sample t-test is: \", t2testpvaulues)"
   ]
  },
  {
   "cell_type": "code",
   "execution_count": 37,
   "metadata": {},
   "outputs": [
    {
     "name": "stdout",
     "output_type": "stream",
     "text": [
      "The t-value of two sample t-test is:  -3.31156\n",
      "The p-value of two sample t-test is:  0.0013727729912793116\n"
     ]
    }
   ],
   "source": [
    "# For the Welch version, we add the 'equal_var=False'\n",
    "# Welch's t-test is designed for unequal population variances,\n",
    "# but the assumption of normality is maintained.\n",
    "# The first value is the t-value used, the second is the chance of such a t-value or even more extreme, if the assuption\n",
    "# about the population would be true (p-value). In this case the chance is 0.00183 to 0.00137, depending on Student/Welch.\n",
    "t2testw, t2testpvauluew = ttest_ind(cat1scores, cat2scores, equal_var=False)\n",
    "print(\"The t-value of two sample t-test is: \", round(t2testw,5))\n",
    "print(\"The p-value of two sample t-test is: \", t2testpvauluew)"
   ]
  },
  {
   "cell_type": "code",
   "execution_count": 38,
   "metadata": {},
   "outputs": [
    {
     "data": {
      "text/html": [
       "<div>\n",
       "<style scoped>\n",
       "    .dataframe tbody tr th:only-of-type {\n",
       "        vertical-align: middle;\n",
       "    }\n",
       "\n",
       "    .dataframe tbody tr th {\n",
       "        vertical-align: top;\n",
       "    }\n",
       "\n",
       "    .dataframe thead th {\n",
       "        text-align: right;\n",
       "    }\n",
       "</style>\n",
       "<table border=\"1\" class=\"dataframe\">\n",
       "  <thead>\n",
       "    <tr style=\"text-align: right;\">\n",
       "      <th></th>\n",
       "      <th>T</th>\n",
       "      <th>dof</th>\n",
       "      <th>alternative</th>\n",
       "      <th>p-val</th>\n",
       "      <th>CI95%</th>\n",
       "      <th>cohen-d</th>\n",
       "      <th>BF10</th>\n",
       "      <th>power</th>\n",
       "    </tr>\n",
       "  </thead>\n",
       "  <tbody>\n",
       "    <tr>\n",
       "      <th>T-test</th>\n",
       "      <td>-3.311563</td>\n",
       "      <td>83.394578</td>\n",
       "      <td>two-sided</td>\n",
       "      <td>0.001373</td>\n",
       "      <td>[-7044.74, -1758.06]</td>\n",
       "      <td>0.663512</td>\n",
       "      <td>23.737</td>\n",
       "      <td>0.887235</td>\n",
       "    </tr>\n",
       "  </tbody>\n",
       "</table>\n",
       "</div>"
      ],
      "text/plain": [
       "               T        dof alternative     p-val                 CI95%  \\\n",
       "T-test -3.311563  83.394578   two-sided  0.001373  [-7044.74, -1758.06]   \n",
       "\n",
       "         cohen-d    BF10     power  \n",
       "T-test  0.663512  23.737  0.887235  "
      ]
     },
     "execution_count": 38,
     "metadata": {},
     "output_type": "execute_result"
    }
   ],
   "source": [
    "# USING PINGOUN\n",
    "import pingouin as pg\n",
    "pg.ttest(cat1scores, cat2scores)\n",
    "# The result is the same as with the above Welch version using scipy."
   ]
  },
  {
   "cell_type": "markdown",
   "metadata": {},
   "source": [
    "## One-way ANOVA"
   ]
  },
  {
   "cell_type": "code",
   "execution_count": 39,
   "metadata": {},
   "outputs": [],
   "source": [
    "# Often used to determin if there are differences in means between different categories. \n",
    "# ANOVA is short for Analysis of Variances, since to determine if the means are different and investigation in different variances is used.\n",
    "\n",
    "# Is there a difference in price between cars with different cylinders?\n",
    "# H0 There is not a difference.\n",
    "# Ha There is a difference."
   ]
  },
  {
   "cell_type": "code",
   "execution_count": 40,
   "metadata": {},
   "outputs": [
    {
     "data": {
      "text/plain": [
       "<seaborn.axisgrid.FacetGrid at 0x25004db9210>"
      ]
     },
     "execution_count": 40,
     "metadata": {},
     "output_type": "execute_result"
    },
    {
     "data": {
      "image/png": "[encoded data removed]",
      "text/plain": [
       "<Figure size 360x360 with 1 Axes>"
      ]
     },
     "metadata": {
      "needs_background": "light"
     },
     "output_type": "display_data"
    }
   ],
   "source": [
    "sns.catplot(x=\"cylindernumber\", y=\"price\", kind =\"bar\", data=newdata1)"
   ]
  },
  {
   "cell_type": "code",
   "execution_count": 41,
   "metadata": {},
   "outputs": [
    {
     "data": {
      "text/html": [
       "<div>\n",
       "<style scoped>\n",
       "    .dataframe tbody tr th:only-of-type {\n",
       "        vertical-align: middle;\n",
       "    }\n",
       "\n",
       "    .dataframe tbody tr th {\n",
       "        vertical-align: top;\n",
       "    }\n",
       "\n",
       "    .dataframe thead th {\n",
       "        text-align: right;\n",
       "    }\n",
       "</style>\n",
       "<table border=\"1\" class=\"dataframe\">\n",
       "  <thead>\n",
       "    <tr style=\"text-align: right;\">\n",
       "      <th></th>\n",
       "      <th>Source</th>\n",
       "      <th>SS</th>\n",
       "      <th>DF</th>\n",
       "      <th>MS</th>\n",
       "      <th>F</th>\n",
       "      <th>p-unc</th>\n",
       "      <th>np2</th>\n",
       "    </tr>\n",
       "  </thead>\n",
       "  <tbody>\n",
       "    <tr>\n",
       "      <th>0</th>\n",
       "      <td>cylindernumber</td>\n",
       "      <td>2.451565e+09</td>\n",
       "      <td>3</td>\n",
       "      <td>8.171885e+08</td>\n",
       "      <td>33.92718</td>\n",
       "      <td>4.879907e-15</td>\n",
       "      <td>0.514616</td>\n",
       "    </tr>\n",
       "    <tr>\n",
       "      <th>1</th>\n",
       "      <td>Within</td>\n",
       "      <td>2.312308e+09</td>\n",
       "      <td>96</td>\n",
       "      <td>2.408654e+07</td>\n",
       "      <td>NaN</td>\n",
       "      <td>NaN</td>\n",
       "      <td>NaN</td>\n",
       "    </tr>\n",
       "  </tbody>\n",
       "</table>\n",
       "</div>"
      ],
      "text/plain": [
       "           Source            SS  DF            MS         F         p-unc  \\\n",
       "0  cylindernumber  2.451565e+09   3  8.171885e+08  33.92718  4.879907e-15   \n",
       "1          Within  2.312308e+09  96  2.408654e+07       NaN           NaN   \n",
       "\n",
       "        np2  \n",
       "0  0.514616  \n",
       "1       NaN  "
      ]
     },
     "execution_count": 41,
     "metadata": {},
     "output_type": "execute_result"
    }
   ],
   "source": [
    "# USING PINGOUN\n",
    "import pingouin as pg\n",
    "# This asks for the dv (dependent  variable), which is scale variable.\n",
    "# between which is the variable with categories\n",
    "# If we want to see the results in dataframe then detailed=True\n",
    "anv = pg.anova(dv=\"price\", between=\"cylindernumber\", data=newdata1, detailed=True)\n",
    "anv\n",
    "# The most important result is probably the p-unc (this is the p-value also known as significance),\n",
    "# it is the chance of an F-value or even more extreme, if the assumption about the population would be true.\n",
    "# The assumption is that all the categories have the same mean in the dataset.\n",
    "# With a p-value way below the usual threshold of 0.05, we therefore conclude that the cylinder number \n",
    "# has a significant influence on the mean price."
   ]
  },
  {
   "cell_type": "code",
   "execution_count": 42,
   "metadata": {},
   "outputs": [
    {
     "data": {
      "text/html": [
       "<div>\n",
       "<style scoped>\n",
       "    .dataframe tbody tr th:only-of-type {\n",
       "        vertical-align: middle;\n",
       "    }\n",
       "\n",
       "    .dataframe tbody tr th {\n",
       "        vertical-align: top;\n",
       "    }\n",
       "\n",
       "    .dataframe thead th {\n",
       "        text-align: right;\n",
       "    }\n",
       "</style>\n",
       "<table border=\"1\" class=\"dataframe\">\n",
       "  <thead>\n",
       "    <tr style=\"text-align: right;\">\n",
       "      <th></th>\n",
       "      <th>Source</th>\n",
       "      <th>SS</th>\n",
       "      <th>DF</th>\n",
       "      <th>MS</th>\n",
       "      <th>F</th>\n",
       "      <th>p-unc</th>\n",
       "      <th>np2</th>\n",
       "    </tr>\n",
       "  </thead>\n",
       "  <tbody>\n",
       "    <tr>\n",
       "      <th>0</th>\n",
       "      <td>aspiration</td>\n",
       "      <td>4.515682e+08</td>\n",
       "      <td>1</td>\n",
       "      <td>4.515682e+08</td>\n",
       "      <td>10.262186</td>\n",
       "      <td>0.001832</td>\n",
       "      <td>0.09479</td>\n",
       "    </tr>\n",
       "    <tr>\n",
       "      <th>1</th>\n",
       "      <td>Within</td>\n",
       "      <td>4.312305e+09</td>\n",
       "      <td>98</td>\n",
       "      <td>4.400312e+07</td>\n",
       "      <td>NaN</td>\n",
       "      <td>NaN</td>\n",
       "      <td>NaN</td>\n",
       "    </tr>\n",
       "  </tbody>\n",
       "</table>\n",
       "</div>"
      ],
      "text/plain": [
       "       Source            SS  DF            MS          F     p-unc      np2\n",
       "0  aspiration  4.515682e+08   1  4.515682e+08  10.262186  0.001832  0.09479\n",
       "1      Within  4.312305e+09  98  4.400312e+07        NaN       NaN      NaN"
      ]
     },
     "execution_count": 42,
     "metadata": {},
     "output_type": "execute_result"
    }
   ],
   "source": [
    "pg.anova(dv=\"price\", between=\"aspiration\", data=newdata1, detailed=True)"
   ]
  },
  {
   "cell_type": "markdown",
   "metadata": {},
   "source": [
    "# Two-way ANOVA"
   ]
  },
  {
   "cell_type": "code",
   "execution_count": 43,
   "metadata": {},
   "outputs": [
    {
     "data": {
      "text/html": [
       "<div>\n",
       "<style scoped>\n",
       "    .dataframe tbody tr th:only-of-type {\n",
       "        vertical-align: middle;\n",
       "    }\n",
       "\n",
       "    .dataframe tbody tr th {\n",
       "        vertical-align: top;\n",
       "    }\n",
       "\n",
       "    .dataframe thead th {\n",
       "        text-align: right;\n",
       "    }\n",
       "</style>\n",
       "<table border=\"1\" class=\"dataframe\">\n",
       "  <thead>\n",
       "    <tr style=\"text-align: right;\">\n",
       "      <th></th>\n",
       "      <th>Source</th>\n",
       "      <th>SS</th>\n",
       "      <th>DF</th>\n",
       "      <th>MS</th>\n",
       "      <th>F</th>\n",
       "      <th>p-unc</th>\n",
       "      <th>np2</th>\n",
       "    </tr>\n",
       "  </thead>\n",
       "  <tbody>\n",
       "    <tr>\n",
       "      <th>0</th>\n",
       "      <td>cylindernumber</td>\n",
       "      <td>1.291928e+10</td>\n",
       "      <td>3.0</td>\n",
       "      <td>4.306426e+09</td>\n",
       "      <td>184.094278</td>\n",
       "      <td>5.466500e-39</td>\n",
       "      <td>0.855877</td>\n",
       "    </tr>\n",
       "    <tr>\n",
       "      <th>1</th>\n",
       "      <td>doornumber</td>\n",
       "      <td>1.139621e+07</td>\n",
       "      <td>1.0</td>\n",
       "      <td>1.139621e+07</td>\n",
       "      <td>0.487174</td>\n",
       "      <td>4.869323e-01</td>\n",
       "      <td>0.005211</td>\n",
       "    </tr>\n",
       "    <tr>\n",
       "      <th>2</th>\n",
       "      <td>cylindernumber * doornumber</td>\n",
       "      <td>5.040889e+08</td>\n",
       "      <td>3.0</td>\n",
       "      <td>1.680296e+08</td>\n",
       "      <td>7.183054</td>\n",
       "      <td>2.171484e-04</td>\n",
       "      <td>0.188122</td>\n",
       "    </tr>\n",
       "    <tr>\n",
       "      <th>3</th>\n",
       "      <td>Residual</td>\n",
       "      <td>2.175503e+09</td>\n",
       "      <td>93.0</td>\n",
       "      <td>2.339250e+07</td>\n",
       "      <td>NaN</td>\n",
       "      <td>NaN</td>\n",
       "      <td>NaN</td>\n",
       "    </tr>\n",
       "  </tbody>\n",
       "</table>\n",
       "</div>"
      ],
      "text/plain": [
       "                        Source            SS    DF            MS           F  \\\n",
       "0               cylindernumber  1.291928e+10   3.0  4.306426e+09  184.094278   \n",
       "1                   doornumber  1.139621e+07   1.0  1.139621e+07    0.487174   \n",
       "2  cylindernumber * doornumber  5.040889e+08   3.0  1.680296e+08    7.183054   \n",
       "3                     Residual  2.175503e+09  93.0  2.339250e+07         NaN   \n",
       "\n",
       "          p-unc       np2  \n",
       "0  5.466500e-39  0.855877  \n",
       "1  4.869323e-01  0.005211  \n",
       "2  2.171484e-04  0.188122  \n",
       "3           NaN       NaN  "
      ]
     },
     "execution_count": 43,
     "metadata": {},
     "output_type": "execute_result"
    }
   ],
   "source": [
    "anv1 = pg.anova(dv=\"price\", between=[\"cylindernumber\", \"doornumber\"], data=newdata1, detailed=True)\n",
    "anv1"
   ]
  },
  {
   "cell_type": "code",
   "execution_count": 44,
   "metadata": {},
   "outputs": [
    {
     "data": {
      "text/html": [
       "<div>\n",
       "<style scoped>\n",
       "    .dataframe tbody tr th:only-of-type {\n",
       "        vertical-align: middle;\n",
       "    }\n",
       "\n",
       "    .dataframe tbody tr th {\n",
       "        vertical-align: top;\n",
       "    }\n",
       "\n",
       "    .dataframe thead th {\n",
       "        text-align: right;\n",
       "    }\n",
       "</style>\n",
       "<table border=\"1\" class=\"dataframe\">\n",
       "  <thead>\n",
       "    <tr style=\"text-align: right;\">\n",
       "      <th></th>\n",
       "      <th>Source</th>\n",
       "      <th>SS</th>\n",
       "      <th>DF</th>\n",
       "      <th>MS</th>\n",
       "      <th>F</th>\n",
       "      <th>p-unc</th>\n",
       "      <th>np2</th>\n",
       "    </tr>\n",
       "  </thead>\n",
       "  <tbody>\n",
       "    <tr>\n",
       "      <th>0</th>\n",
       "      <td>cylindernumber</td>\n",
       "      <td>2.451565e+09</td>\n",
       "      <td>3.0</td>\n",
       "      <td>8.171885e+08</td>\n",
       "      <td>34.933777</td>\n",
       "      <td>3.277395e-15</td>\n",
       "      <td>0.529831</td>\n",
       "    </tr>\n",
       "    <tr>\n",
       "      <th>1</th>\n",
       "      <td>doornumber</td>\n",
       "      <td>1.125285e+04</td>\n",
       "      <td>1.0</td>\n",
       "      <td>1.125285e+04</td>\n",
       "      <td>0.000481</td>\n",
       "      <td>9.825486e-01</td>\n",
       "      <td>0.000005</td>\n",
       "    </tr>\n",
       "    <tr>\n",
       "      <th>2</th>\n",
       "      <td>cylindernumber * doornumber</td>\n",
       "      <td>1.510705e+08</td>\n",
       "      <td>3.0</td>\n",
       "      <td>5.035683e+07</td>\n",
       "      <td>2.152691</td>\n",
       "      <td>9.888685e-02</td>\n",
       "      <td>0.064933</td>\n",
       "    </tr>\n",
       "    <tr>\n",
       "      <th>3</th>\n",
       "      <td>Residual</td>\n",
       "      <td>2.175503e+09</td>\n",
       "      <td>93.0</td>\n",
       "      <td>2.339250e+07</td>\n",
       "      <td>NaN</td>\n",
       "      <td>NaN</td>\n",
       "      <td>NaN</td>\n",
       "    </tr>\n",
       "  </tbody>\n",
       "</table>\n",
       "</div>"
      ],
      "text/plain": [
       "                        Source            SS    DF            MS          F  \\\n",
       "0               cylindernumber  2.451565e+09   3.0  8.171885e+08  34.933777   \n",
       "1                   doornumber  1.125285e+04   1.0  1.125285e+04   0.000481   \n",
       "2  cylindernumber * doornumber  1.510705e+08   3.0  5.035683e+07   2.152691   \n",
       "3                     Residual  2.175503e+09  93.0  2.339250e+07        NaN   \n",
       "\n",
       "          p-unc       np2  \n",
       "0  3.277395e-15  0.529831  \n",
       "1  9.825486e-01  0.000005  \n",
       "2  9.888685e-02  0.064933  \n",
       "3           NaN       NaN  "
      ]
     },
     "execution_count": 44,
     "metadata": {},
     "output_type": "execute_result"
    }
   ],
   "source": [
    "pg.anova(dv=\"price\", between=[\"cylindernumber\", \"doornumber\"], data=newdata1, ss_type=1, detailed=True)"
   ]
  },
  {
   "cell_type": "markdown",
   "metadata": {},
   "source": [
    "# Post-hoc ANOVA test - Tukey's test"
   ]
  },
  {
   "cell_type": "code",
   "execution_count": 45,
   "metadata": {},
   "outputs": [],
   "source": [
    "# If the overall p-value from the ANOVA table is less than some significance level,\n",
    "# then we have sufficient evidence to say that at least one of the means of the groups is different from the others.\n",
    "# However, this doesn’t tell us which groups are different from each other. It simply tells us that not all of the group \n",
    "# means are equal. In order to find out exactly which groups are different from each other, we must conduct a post hoc test.\n",
    "\n",
    "# One of the most commonly used post hoc tests is Tukey’s Test, which allows us to make pairwise comparisons between the \n",
    "# means of each group while controlling for the family-wise error rate."
   ]
  },
  {
   "cell_type": "code",
   "execution_count": 46,
   "metadata": {},
   "outputs": [
    {
     "data": {
      "text/html": [
       "<div>\n",
       "<style scoped>\n",
       "    .dataframe tbody tr th:only-of-type {\n",
       "        vertical-align: middle;\n",
       "    }\n",
       "\n",
       "    .dataframe tbody tr th {\n",
       "        vertical-align: top;\n",
       "    }\n",
       "\n",
       "    .dataframe thead th {\n",
       "        text-align: right;\n",
       "    }\n",
       "</style>\n",
       "<table border=\"1\" class=\"dataframe\">\n",
       "  <thead>\n",
       "    <tr style=\"text-align: right;\">\n",
       "      <th></th>\n",
       "      <th>score</th>\n",
       "      <th>group</th>\n",
       "    </tr>\n",
       "  </thead>\n",
       "  <tbody>\n",
       "    <tr>\n",
       "      <th>0</th>\n",
       "      <td>85</td>\n",
       "      <td>a</td>\n",
       "    </tr>\n",
       "    <tr>\n",
       "      <th>1</th>\n",
       "      <td>86</td>\n",
       "      <td>a</td>\n",
       "    </tr>\n",
       "    <tr>\n",
       "      <th>2</th>\n",
       "      <td>88</td>\n",
       "      <td>a</td>\n",
       "    </tr>\n",
       "    <tr>\n",
       "      <th>3</th>\n",
       "      <td>75</td>\n",
       "      <td>a</td>\n",
       "    </tr>\n",
       "    <tr>\n",
       "      <th>4</th>\n",
       "      <td>78</td>\n",
       "      <td>a</td>\n",
       "    </tr>\n",
       "    <tr>\n",
       "      <th>5</th>\n",
       "      <td>94</td>\n",
       "      <td>a</td>\n",
       "    </tr>\n",
       "    <tr>\n",
       "      <th>6</th>\n",
       "      <td>98</td>\n",
       "      <td>a</td>\n",
       "    </tr>\n",
       "    <tr>\n",
       "      <th>7</th>\n",
       "      <td>79</td>\n",
       "      <td>a</td>\n",
       "    </tr>\n",
       "    <tr>\n",
       "      <th>8</th>\n",
       "      <td>71</td>\n",
       "      <td>a</td>\n",
       "    </tr>\n",
       "    <tr>\n",
       "      <th>9</th>\n",
       "      <td>80</td>\n",
       "      <td>a</td>\n",
       "    </tr>\n",
       "    <tr>\n",
       "      <th>10</th>\n",
       "      <td>91</td>\n",
       "      <td>b</td>\n",
       "    </tr>\n",
       "    <tr>\n",
       "      <th>11</th>\n",
       "      <td>92</td>\n",
       "      <td>b</td>\n",
       "    </tr>\n",
       "    <tr>\n",
       "      <th>12</th>\n",
       "      <td>93</td>\n",
       "      <td>b</td>\n",
       "    </tr>\n",
       "    <tr>\n",
       "      <th>13</th>\n",
       "      <td>90</td>\n",
       "      <td>b</td>\n",
       "    </tr>\n",
       "    <tr>\n",
       "      <th>14</th>\n",
       "      <td>97</td>\n",
       "      <td>b</td>\n",
       "    </tr>\n",
       "    <tr>\n",
       "      <th>15</th>\n",
       "      <td>94</td>\n",
       "      <td>b</td>\n",
       "    </tr>\n",
       "    <tr>\n",
       "      <th>16</th>\n",
       "      <td>82</td>\n",
       "      <td>b</td>\n",
       "    </tr>\n",
       "    <tr>\n",
       "      <th>17</th>\n",
       "      <td>88</td>\n",
       "      <td>b</td>\n",
       "    </tr>\n",
       "    <tr>\n",
       "      <th>18</th>\n",
       "      <td>95</td>\n",
       "      <td>b</td>\n",
       "    </tr>\n",
       "    <tr>\n",
       "      <th>19</th>\n",
       "      <td>96</td>\n",
       "      <td>b</td>\n",
       "    </tr>\n",
       "    <tr>\n",
       "      <th>20</th>\n",
       "      <td>79</td>\n",
       "      <td>c</td>\n",
       "    </tr>\n",
       "    <tr>\n",
       "      <th>21</th>\n",
       "      <td>78</td>\n",
       "      <td>c</td>\n",
       "    </tr>\n",
       "    <tr>\n",
       "      <th>22</th>\n",
       "      <td>88</td>\n",
       "      <td>c</td>\n",
       "    </tr>\n",
       "    <tr>\n",
       "      <th>23</th>\n",
       "      <td>94</td>\n",
       "      <td>c</td>\n",
       "    </tr>\n",
       "    <tr>\n",
       "      <th>24</th>\n",
       "      <td>92</td>\n",
       "      <td>c</td>\n",
       "    </tr>\n",
       "    <tr>\n",
       "      <th>25</th>\n",
       "      <td>85</td>\n",
       "      <td>c</td>\n",
       "    </tr>\n",
       "    <tr>\n",
       "      <th>26</th>\n",
       "      <td>83</td>\n",
       "      <td>c</td>\n",
       "    </tr>\n",
       "    <tr>\n",
       "      <th>27</th>\n",
       "      <td>85</td>\n",
       "      <td>c</td>\n",
       "    </tr>\n",
       "    <tr>\n",
       "      <th>28</th>\n",
       "      <td>82</td>\n",
       "      <td>c</td>\n",
       "    </tr>\n",
       "    <tr>\n",
       "      <th>29</th>\n",
       "      <td>81</td>\n",
       "      <td>c</td>\n",
       "    </tr>\n",
       "  </tbody>\n",
       "</table>\n",
       "</div>"
      ],
      "text/plain": [
       "    score group\n",
       "0      85     a\n",
       "1      86     a\n",
       "2      88     a\n",
       "3      75     a\n",
       "4      78     a\n",
       "5      94     a\n",
       "6      98     a\n",
       "7      79     a\n",
       "8      71     a\n",
       "9      80     a\n",
       "10     91     b\n",
       "11     92     b\n",
       "12     93     b\n",
       "13     90     b\n",
       "14     97     b\n",
       "15     94     b\n",
       "16     82     b\n",
       "17     88     b\n",
       "18     95     b\n",
       "19     96     b\n",
       "20     79     c\n",
       "21     78     c\n",
       "22     88     c\n",
       "23     94     c\n",
       "24     92     c\n",
       "25     85     c\n",
       "26     83     c\n",
       "27     85     c\n",
       "28     82     c\n",
       "29     81     c"
      ]
     },
     "execution_count": 46,
     "metadata": {},
     "output_type": "execute_result"
    }
   ],
   "source": [
    "df123 = pd.DataFrame({'score': [85, 86, 88, 75, 78, 94, 98, 79, 71, 80,\n",
    "                             91, 92, 93, 90, 97, 94, 82, 88, 95, 96,\n",
    "                             79, 78, 88, 94, 92, 85, 83, 85, 82, 81],\n",
    "                   'group': np.repeat(['a', 'b', 'c'], repeats=10)}) \n",
    "df123"
   ]
  },
  {
   "cell_type": "code",
   "execution_count": 47,
   "metadata": {},
   "outputs": [
    {
     "name": "stdout",
     "output_type": "stream",
     "text": [
      " Multiple Comparison of Means - Tukey HSD, FWER=0.05 \n",
      "=====================================================\n",
      "group1 group2 meandiff p-adj   lower    upper  reject\n",
      "-----------------------------------------------------\n",
      "     a      b      8.4 0.0159   1.4259 15.3741   True\n",
      "     a      c      1.3 0.8894  -5.6741  8.2741  False\n",
      "     b      c     -7.1 0.0454 -14.0741 -0.1259   True\n",
      "-----------------------------------------------------\n"
     ]
    }
   ],
   "source": [
    "from statsmodels.stats.multicomp import pairwise_tukeyhsd\n",
    "tukey1 = pairwise_tukeyhsd(endog=df123['score'],\n",
    "                          groups=df123['group'],\n",
    "                          alpha=0.05)\n",
    "print(tukey1)"
   ]
  },
  {
   "cell_type": "code",
   "execution_count": 48,
   "metadata": {},
   "outputs": [],
   "source": [
    "# Here’s how to interpret the output:\n",
    "# P-value for the difference in means between A and B: .0159\n",
    "# P-value for the difference in means between A and C: .8894\n",
    "# P-value for the difference in means between B and C: .0454\n",
    "\n",
    "# Thus, we would conclude that there is a statistically significant difference \n",
    "# between the means of groups a and b and groups b and c, but not a statistically\n",
    "# significant difference between the means of groups a and c."
   ]
  },
  {
   "cell_type": "code",
   "execution_count": 49,
   "metadata": {},
   "outputs": [
    {
     "data": {
      "text/html": [
       "<div>\n",
       "<style scoped>\n",
       "    .dataframe tbody tr th:only-of-type {\n",
       "        vertical-align: middle;\n",
       "    }\n",
       "\n",
       "    .dataframe tbody tr th {\n",
       "        vertical-align: top;\n",
       "    }\n",
       "\n",
       "    .dataframe thead th {\n",
       "        text-align: right;\n",
       "    }\n",
       "</style>\n",
       "<table border=\"1\" class=\"dataframe\">\n",
       "  <thead>\n",
       "    <tr style=\"text-align: right;\">\n",
       "      <th></th>\n",
       "      <th>Source</th>\n",
       "      <th>SS</th>\n",
       "      <th>DF</th>\n",
       "      <th>MS</th>\n",
       "      <th>F</th>\n",
       "      <th>p-unc</th>\n",
       "      <th>np2</th>\n",
       "    </tr>\n",
       "  </thead>\n",
       "  <tbody>\n",
       "    <tr>\n",
       "      <th>0</th>\n",
       "      <td>cylindernumber</td>\n",
       "      <td>1.291928e+10</td>\n",
       "      <td>3.0</td>\n",
       "      <td>4.306426e+09</td>\n",
       "      <td>184.094278</td>\n",
       "      <td>5.466500e-39</td>\n",
       "      <td>0.855877</td>\n",
       "    </tr>\n",
       "    <tr>\n",
       "      <th>1</th>\n",
       "      <td>doornumber</td>\n",
       "      <td>1.139621e+07</td>\n",
       "      <td>1.0</td>\n",
       "      <td>1.139621e+07</td>\n",
       "      <td>0.487174</td>\n",
       "      <td>4.869323e-01</td>\n",
       "      <td>0.005211</td>\n",
       "    </tr>\n",
       "    <tr>\n",
       "      <th>2</th>\n",
       "      <td>cylindernumber * doornumber</td>\n",
       "      <td>5.040889e+08</td>\n",
       "      <td>3.0</td>\n",
       "      <td>1.680296e+08</td>\n",
       "      <td>7.183054</td>\n",
       "      <td>2.171484e-04</td>\n",
       "      <td>0.188122</td>\n",
       "    </tr>\n",
       "    <tr>\n",
       "      <th>3</th>\n",
       "      <td>Residual</td>\n",
       "      <td>2.175503e+09</td>\n",
       "      <td>93.0</td>\n",
       "      <td>2.339250e+07</td>\n",
       "      <td>NaN</td>\n",
       "      <td>NaN</td>\n",
       "      <td>NaN</td>\n",
       "    </tr>\n",
       "  </tbody>\n",
       "</table>\n",
       "</div>"
      ],
      "text/plain": [
       "                        Source            SS    DF            MS           F  \\\n",
       "0               cylindernumber  1.291928e+10   3.0  4.306426e+09  184.094278   \n",
       "1                   doornumber  1.139621e+07   1.0  1.139621e+07    0.487174   \n",
       "2  cylindernumber * doornumber  5.040889e+08   3.0  1.680296e+08    7.183054   \n",
       "3                     Residual  2.175503e+09  93.0  2.339250e+07         NaN   \n",
       "\n",
       "          p-unc       np2  \n",
       "0  5.466500e-39  0.855877  \n",
       "1  4.869323e-01  0.005211  \n",
       "2  2.171484e-04  0.188122  \n",
       "3           NaN       NaN  "
      ]
     },
     "execution_count": 49,
     "metadata": {},
     "output_type": "execute_result"
    }
   ],
   "source": [
    "pg.anova(dv=\"price\", between=[\"cylindernumber\", \"doornumber\"], data=newdata1)\n"
   ]
  },
  {
   "cell_type": "code",
   "execution_count": 50,
   "metadata": {},
   "outputs": [
    {
     "name": "stdout",
     "output_type": "stream",
     "text": [
      "     Multiple Comparison of Means - Tukey HSD, FWER=0.05      \n",
      "==============================================================\n",
      "group1 group2   meandiff  p-adj     lower      upper    reject\n",
      "--------------------------------------------------------------\n",
      " eight   five  -7314.0476 0.5062 -21032.0093  6403.9141  False\n",
      " eight   four -20165.2683 0.0005 -33075.2531 -7255.2835   True\n",
      " eight    six     -8277.1  0.379 -21735.3922  5181.1922  False\n",
      "  five   four -12851.2207    0.0 -17904.0272 -7798.4142   True\n",
      "  five    six   -963.0524 0.9785  -7286.7203  5360.6155  False\n",
      "  four    six  11888.1683    0.0   7590.0279 16186.3087   True\n",
      "--------------------------------------------------------------\n"
     ]
    }
   ],
   "source": [
    "from statsmodels.stats.multicomp import pairwise_tukeyhsd\n",
    "tukey = pairwise_tukeyhsd(endog=newdata1[\"price\"],\n",
    "                          groups=newdata1[\"cylindernumber\"],\n",
    "                          alpha=0.05)\n",
    "print(tukey)"
   ]
  },
  {
   "cell_type": "code",
   "execution_count": 51,
   "metadata": {},
   "outputs": [
    {
     "data": {
      "text/html": [
       "<div>\n",
       "<style scoped>\n",
       "    .dataframe tbody tr th:only-of-type {\n",
       "        vertical-align: middle;\n",
       "    }\n",
       "\n",
       "    .dataframe tbody tr th {\n",
       "        vertical-align: top;\n",
       "    }\n",
       "\n",
       "    .dataframe thead th {\n",
       "        text-align: right;\n",
       "    }\n",
       "</style>\n",
       "<table border=\"1\" class=\"dataframe\">\n",
       "  <thead>\n",
       "    <tr style=\"text-align: right;\">\n",
       "      <th></th>\n",
       "      <th>A</th>\n",
       "      <th>B</th>\n",
       "      <th>mean(A)</th>\n",
       "      <th>mean(B)</th>\n",
       "      <th>diff</th>\n",
       "      <th>se</th>\n",
       "      <th>T</th>\n",
       "      <th>p-tukey</th>\n",
       "      <th>hedges</th>\n",
       "    </tr>\n",
       "  </thead>\n",
       "  <tbody>\n",
       "    <tr>\n",
       "      <th>0</th>\n",
       "      <td>eight</td>\n",
       "      <td>five</td>\n",
       "      <td>31400.500000</td>\n",
       "      <td>24086.452429</td>\n",
       "      <td>7314.047571</td>\n",
       "      <td>5246.663458</td>\n",
       "      <td>1.394038</td>\n",
       "      <td>5.061594e-01</td>\n",
       "      <td>1.295904</td>\n",
       "    </tr>\n",
       "    <tr>\n",
       "      <th>1</th>\n",
       "      <td>eight</td>\n",
       "      <td>four</td>\n",
       "      <td>31400.500000</td>\n",
       "      <td>11235.231707</td>\n",
       "      <td>20165.268293</td>\n",
       "      <td>4937.639222</td>\n",
       "      <td>4.083990</td>\n",
       "      <td>5.249388e-04</td>\n",
       "      <td>4.070654</td>\n",
       "    </tr>\n",
       "    <tr>\n",
       "      <th>2</th>\n",
       "      <td>eight</td>\n",
       "      <td>six</td>\n",
       "      <td>31400.500000</td>\n",
       "      <td>23123.400000</td>\n",
       "      <td>8277.100000</td>\n",
       "      <td>5147.348544</td>\n",
       "      <td>1.608032</td>\n",
       "      <td>3.790037e-01</td>\n",
       "      <td>1.541959</td>\n",
       "    </tr>\n",
       "    <tr>\n",
       "      <th>3</th>\n",
       "      <td>five</td>\n",
       "      <td>four</td>\n",
       "      <td>24086.452429</td>\n",
       "      <td>11235.231707</td>\n",
       "      <td>12851.220721</td>\n",
       "      <td>1932.530208</td>\n",
       "      <td>6.649946</td>\n",
       "      <td>1.071028e-08</td>\n",
       "      <td>2.595889</td>\n",
       "    </tr>\n",
       "    <tr>\n",
       "      <th>4</th>\n",
       "      <td>five</td>\n",
       "      <td>six</td>\n",
       "      <td>24086.452429</td>\n",
       "      <td>23123.400000</td>\n",
       "      <td>963.052429</td>\n",
       "      <td>2418.592350</td>\n",
       "      <td>0.398187</td>\n",
       "      <td>9.784968e-01</td>\n",
       "      <td>0.186251</td>\n",
       "    </tr>\n",
       "    <tr>\n",
       "      <th>5</th>\n",
       "      <td>four</td>\n",
       "      <td>six</td>\n",
       "      <td>11235.231707</td>\n",
       "      <td>23123.400000</td>\n",
       "      <td>-11888.168293</td>\n",
       "      <td>1643.895557</td>\n",
       "      <td>-7.231705</td>\n",
       "      <td>6.921222e-10</td>\n",
       "      <td>-2.402057</td>\n",
       "    </tr>\n",
       "  </tbody>\n",
       "</table>\n",
       "</div>"
      ],
      "text/plain": [
       "       A     B       mean(A)       mean(B)          diff           se  \\\n",
       "0  eight  five  31400.500000  24086.452429   7314.047571  5246.663458   \n",
       "1  eight  four  31400.500000  11235.231707  20165.268293  4937.639222   \n",
       "2  eight   six  31400.500000  23123.400000   8277.100000  5147.348544   \n",
       "3   five  four  24086.452429  11235.231707  12851.220721  1932.530208   \n",
       "4   five   six  24086.452429  23123.400000    963.052429  2418.592350   \n",
       "5   four   six  11235.231707  23123.400000 -11888.168293  1643.895557   \n",
       "\n",
       "          T       p-tukey    hedges  \n",
       "0  1.394038  5.061594e-01  1.295904  \n",
       "1  4.083990  5.249388e-04  4.070654  \n",
       "2  1.608032  3.790037e-01  1.541959  \n",
       "3  6.649946  1.071028e-08  2.595889  \n",
       "4  0.398187  9.784968e-01  0.186251  \n",
       "5 -7.231705  6.921222e-10 -2.402057  "
      ]
     },
     "execution_count": 51,
     "metadata": {},
     "output_type": "execute_result"
    }
   ],
   "source": [
    "# USING PINGOUIN\n",
    "pg.pairwise_tukey(dv=\"price\", between=\"cylindernumber\", data=newdata1)"
   ]
  },
  {
   "cell_type": "code",
   "execution_count": 52,
   "metadata": {},
   "outputs": [
    {
     "data": {
      "text/html": [
       "<div>\n",
       "<style scoped>\n",
       "    .dataframe tbody tr th:only-of-type {\n",
       "        vertical-align: middle;\n",
       "    }\n",
       "\n",
       "    .dataframe tbody tr th {\n",
       "        vertical-align: top;\n",
       "    }\n",
       "\n",
       "    .dataframe thead th {\n",
       "        text-align: right;\n",
       "    }\n",
       "</style>\n",
       "<table border=\"1\" class=\"dataframe\">\n",
       "  <thead>\n",
       "    <tr style=\"text-align: right;\">\n",
       "      <th></th>\n",
       "      <th>A</th>\n",
       "      <th>B</th>\n",
       "      <th>mean(A)</th>\n",
       "      <th>mean(B)</th>\n",
       "      <th>diff</th>\n",
       "      <th>se</th>\n",
       "      <th>T</th>\n",
       "      <th>p-tukey</th>\n",
       "      <th>hedges</th>\n",
       "    </tr>\n",
       "  </thead>\n",
       "  <tbody>\n",
       "    <tr>\n",
       "      <th>0</th>\n",
       "      <td>four</td>\n",
       "      <td>two</td>\n",
       "      <td>12947.784615</td>\n",
       "      <td>14597.790486</td>\n",
       "      <td>-1650.00587</td>\n",
       "      <td>1452.227409</td>\n",
       "      <td>-1.13619</td>\n",
       "      <td>0.258648</td>\n",
       "      <td>-0.236382</td>\n",
       "    </tr>\n",
       "  </tbody>\n",
       "</table>\n",
       "</div>"
      ],
      "text/plain": [
       "      A    B       mean(A)       mean(B)        diff           se        T  \\\n",
       "0  four  two  12947.784615  14597.790486 -1650.00587  1452.227409 -1.13619   \n",
       "\n",
       "    p-tukey    hedges  \n",
       "0  0.258648 -0.236382  "
      ]
     },
     "execution_count": 52,
     "metadata": {},
     "output_type": "execute_result"
    }
   ],
   "source": [
    "# USING PINGOUIN\n",
    "pg.pairwise_tukey(dv=\"price\", between=\"doornumber\", data=newdata1)"
   ]
  },
  {
   "cell_type": "markdown",
   "metadata": {},
   "source": [
    "# Two numerical - Correlation test\n",
    "<img src=\"twonum.png\">"
   ]
  },
  {
   "cell_type": "code",
   "execution_count": 53,
   "metadata": {},
   "outputs": [],
   "source": [
    "# The most commonly used measure to test if linear relation exists between two scale variables is the Pearson Correlation Coefficient.\n",
    "# PC varies between -1 and +1. If it is -1 there is a perfect negative linear relationship, 0 no relationship, +1 positive linear r.\n",
    "# Positive relationship means if one variable goes up, the other goes up, negative is opposite trend.\n",
    "\n",
    "# Is there a relationship between price and engine size?\n",
    "# H0 There is not a relationship.\n",
    "# Ha There is a relationship. "
   ]
  },
  {
   "cell_type": "code",
   "execution_count": 54,
   "metadata": {},
   "outputs": [
    {
     "data": {
      "text/html": [
       "<div>\n",
       "<style scoped>\n",
       "    .dataframe tbody tr th:only-of-type {\n",
       "        vertical-align: middle;\n",
       "    }\n",
       "\n",
       "    .dataframe tbody tr th {\n",
       "        vertical-align: top;\n",
       "    }\n",
       "\n",
       "    .dataframe thead th {\n",
       "        text-align: right;\n",
       "    }\n",
       "</style>\n",
       "<table border=\"1\" class=\"dataframe\">\n",
       "  <thead>\n",
       "    <tr style=\"text-align: right;\">\n",
       "      <th></th>\n",
       "      <th>price</th>\n",
       "      <th>enginesize</th>\n",
       "      <th>carlength</th>\n",
       "    </tr>\n",
       "  </thead>\n",
       "  <tbody>\n",
       "    <tr>\n",
       "      <th>price</th>\n",
       "      <td>1.000000</td>\n",
       "      <td>0.859571</td>\n",
       "      <td>0.551936</td>\n",
       "    </tr>\n",
       "    <tr>\n",
       "      <th>enginesize</th>\n",
       "      <td>0.859571</td>\n",
       "      <td>1.000000</td>\n",
       "      <td>0.560839</td>\n",
       "    </tr>\n",
       "    <tr>\n",
       "      <th>carlength</th>\n",
       "      <td>0.551936</td>\n",
       "      <td>0.560839</td>\n",
       "      <td>1.000000</td>\n",
       "    </tr>\n",
       "  </tbody>\n",
       "</table>\n",
       "</div>"
      ],
      "text/plain": [
       "               price  enginesize  carlength\n",
       "price       1.000000    0.859571   0.551936\n",
       "enginesize  0.859571    1.000000   0.560839\n",
       "carlength   0.551936    0.560839   1.000000"
      ]
     },
     "execution_count": 54,
     "metadata": {},
     "output_type": "execute_result"
    }
   ],
   "source": [
    "# We can use the pandas library with its built function, in which we don't get the important p-value, but with the option of more than 2 columns.\n",
    "newdata1[[\"price\", \"enginesize\", \"carlength\"]].corr()"
   ]
  },
  {
   "cell_type": "code",
   "execution_count": 55,
   "metadata": {},
   "outputs": [
    {
     "name": "stdout",
     "output_type": "stream",
     "text": [
      "The Pearson correlation coefficient is:  0.85957\n",
      "The p-value is:  2.488847911533779e-30\n"
     ]
    }
   ],
   "source": [
    "# To get the p-value with the correlation coefficient we have to use for example scipy stats and its pearsonr function.\n",
    "cc, cpvalue = stats.pearsonr(newdata1[\"price\"], newdata1[\"enginesize\"])\n",
    "print(\"The Pearson correlation coefficient is: \", round(cc,5))\n",
    "print(\"The p-value is: \", cpvalue)"
   ]
  },
  {
   "cell_type": "code",
   "execution_count": 56,
   "metadata": {},
   "outputs": [
    {
     "data": {
      "image/png": "[encoded data removed]",
      "text/plain": [
       "<Figure size 432x288 with 2 Axes>"
      ]
     },
     "metadata": {
      "needs_background": "light"
     },
     "output_type": "display_data"
    }
   ],
   "source": [
    "sns.heatmap(newdata1[[\"price\",\"enginesize\", \"carlength\"]].corr(), annot=True, annot_kws={\"size\":20}, cmap=\"BuPu\")\n",
    "plt.show()"
   ]
  },
  {
   "cell_type": "markdown",
   "metadata": {},
   "source": [
    "# Linear regression\n",
    "### Linear regression analysis is used to predict the value of a variable based on the value of another variable.\n",
    "### Mainly used for forecasting, time series modeling and finding the cause and effect relationship between variables."
   ]
  },
  {
   "cell_type": "code",
   "execution_count": 57,
   "metadata": {},
   "outputs": [],
   "source": [
    "linearr = pd.DataFrame({'hours': [1, 2, 2, 4, 2, 1, 5, 4, 2, 4, 4, 3, 6, 5, 3, 4, 6, 2, 1, 2],\n",
    "                   'exams': [1, 3, 3, 5, 2, 2, 1, 1, 0, 3, 4, 3, 2, 4, 4, 4, 5, 1, 0, 1],\n",
    "                   'score': [76, 78, 85, 88, 72, 69, 94, 94, 88, 92, 90, 75, 96, 90, 82, 85, 99, 83, 62, 76]})"
   ]
  },
  {
   "cell_type": "code",
   "execution_count": 58,
   "metadata": {},
   "outputs": [
    {
     "name": "stdout",
     "output_type": "stream",
     "text": [
      "                            OLS Regression Results                            \n",
      "==============================================================================\n",
      "Dep. Variable:                  score   R-squared:                       0.734\n",
      "Model:                            OLS   Adj. R-squared:                  0.703\n",
      "Method:                 Least Squares   F-statistic:                     23.46\n",
      "Date:                Tue, 05 Jul 2022   Prob (F-statistic):           1.29e-05\n",
      "Time:                        19:09:14   Log-Likelihood:                -60.354\n",
      "No. Observations:                  20   AIC:                             126.7\n",
      "Df Residuals:                      17   BIC:                             129.7\n",
      "Df Model:                           2                                         \n",
      "Covariance Type:            nonrobust                                         \n",
      "==============================================================================\n",
      "                 coef    std err          t      P>|t|      [0.025      0.975]\n",
      "------------------------------------------------------------------------------\n",
      "const         67.6735      2.816     24.033      0.000      61.733      73.614\n",
      "hours          5.5557      0.899      6.179      0.000       3.659       7.453\n",
      "exams         -0.6017      0.914     -0.658      0.519      -2.531       1.327\n",
      "==============================================================================\n",
      "Omnibus:                        0.341   Durbin-Watson:                   1.506\n",
      "Prob(Omnibus):                  0.843   Jarque-Bera (JB):                0.196\n",
      "Skew:                          -0.216   Prob(JB):                        0.907\n",
      "Kurtosis:                       2.782   Cond. No.                         10.8\n",
      "==============================================================================\n",
      "\n",
      "Notes:\n",
      "[1] Standard Errors assume that the covariance matrix of the errors is correctly specified.\n"
     ]
    }
   ],
   "source": [
    "import statsmodels.api as sm\n",
    "#define response variable\n",
    "lineary = linearr['score']\n",
    "#define predictor variables\n",
    "linearx = linearr[['hours', 'exams']]\n",
    "#add constant to predictor variables\n",
    "linearx = sm.add_constant(linearx)\n",
    "#fit linear regression model\n",
    "model = sm.OLS(lineary, linearx).fit()\n",
    "#view model summary\n",
    "print(model.summary())"
   ]
  },
  {
   "cell_type": "code",
   "execution_count": 59,
   "metadata": {},
   "outputs": [],
   "source": [
    "# INTERPRETATION\n",
    "# R-squared: 0.734. This is known as the coefficient of determination. It is the proportion of the variance in the response variable that can be explained by the predictor variables. \n",
    "# In this example, 73.4% of the variation in the exam scores can be explained by the number of hours studied and the number of prep exams taken.\n",
    "\n",
    "# F-statistic: 23.46. This is the overall F-statistic for the regression model.\n",
    "\n",
    "# Prob (F-statistic): 1.29e-05. This is the p-value associated with the overall F-statistic.  It tells us whether or not the regression model as a whole is statistically significant. \n",
    "# In other words, it tells us if the two predictor variables combined have a statistically significant association with the response variable. In this case the p-value is less than 0.05, \n",
    "# which indicates that the predictor variables “hours studied” and “prep exams taken” combined have a statistically significant association with exam score.\n",
    "\n",
    "# coef: The coefficients for each predictor variable tell us the average expected change in the response variable, assuming the other predictor variable remains constant. \n",
    "# For example, for each additional hour spent studying, the average exam score is expected to increase by 5.56, assuming that prep exams taken remains constant.\n",
    "\n",
    "# Here’s another way to think about this: If student A and student B both take the same amount of prep exams but student A studies for one hour more, \n",
    "# then student A is expected to earn a score that is 5.56 points higher than student B.\n",
    "\n",
    "# Here’s another way to think about this: If student A and student B both take the same amount of prep exams but student A studies for one hour more, \n",
    "# then student A is expected to earn a score that is 5.56 points higher than student B.\n",
    "\n",
    "# P>|t|. The individual p-values tell us whether or not each predictor variable is statistically significant. \n",
    "# We can see that “hours” is statistically significant (p = 0.00) while “exams” (p = 0.52) is not statistically significant at α = 0.05. Since “exams” is not statistically significant, \n",
    "# we may end up deciding to remove it from the model.\n",
    "\n",
    "# Estimated regression equation: We can use the coefficients from the output of the model to create the following estimated regression equation:\n",
    "\n",
    "# exam score = 67.67 + 5.56*(hours) – 0.60*(prep exams)\n",
    "\n"
   ]
  },
  {
   "cell_type": "code",
   "execution_count": 60,
   "metadata": {},
   "outputs": [],
   "source": [
    "# CHECK MODEL ASSUMPTIONS\n",
    "\n",
    "# Once you perform linear regression, there are several assumptions you may want to check to ensure that the results of the regression model are reliable. These assumptions include:\n",
    "\n",
    "# Assumption #1: There exists a linear relationship between the predictor variables and the response variable.\n",
    "# Check this assumption by generating a residual plot that displays the fitted values against the residual values for a regression model.\n",
    "\n",
    "# Assumption #2: Independence of residuals.\n",
    "# Check this assumption by performing a Durbin-Watson Test.\n",
    "\n",
    "# Assumption #3: Homoscedasticity of residuals.\n",
    "# Check this assumption by performing a Breusch-Pagan Test.\n",
    "\n",
    "# Assumption #4: Normality of residuals. \n",
    "# Check this assumption visually using a Q-Q plot.\n",
    "# Check this assumption with formal tests like a Jarque-Bera Test or an Anderson-Darling Test.\n",
    "\n",
    "# Assumption #5: Verify that multicollinearity doesn’t exist among predictor variables.\n",
    "# Check this assumption by calculating the VIF value of each predictor variable.\n",
    "\n",
    "# If these assumptions are met, you can be confident that the results of your multiple linear regression model are reliable."
   ]
  },
  {
   "cell_type": "code",
   "execution_count": 61,
   "metadata": {},
   "outputs": [
    {
     "data": {
      "text/html": [
       "<div>\n",
       "<style scoped>\n",
       "    .dataframe tbody tr th:only-of-type {\n",
       "        vertical-align: middle;\n",
       "    }\n",
       "\n",
       "    .dataframe tbody tr th {\n",
       "        vertical-align: top;\n",
       "    }\n",
       "\n",
       "    .dataframe thead th {\n",
       "        text-align: right;\n",
       "    }\n",
       "</style>\n",
       "<table border=\"1\" class=\"dataframe\">\n",
       "  <thead>\n",
       "    <tr style=\"text-align: right;\">\n",
       "      <th></th>\n",
       "      <th>names</th>\n",
       "      <th>coef</th>\n",
       "      <th>se</th>\n",
       "      <th>T</th>\n",
       "      <th>pval</th>\n",
       "      <th>r2</th>\n",
       "      <th>adj_r2</th>\n",
       "      <th>CI[2.5%]</th>\n",
       "      <th>CI[97.5%]</th>\n",
       "    </tr>\n",
       "  </thead>\n",
       "  <tbody>\n",
       "    <tr>\n",
       "      <th>0</th>\n",
       "      <td>Intercept</td>\n",
       "      <td>67.673526</td>\n",
       "      <td>2.815802</td>\n",
       "      <td>24.033480</td>\n",
       "      <td>1.458191e-14</td>\n",
       "      <td>0.734027</td>\n",
       "      <td>0.702736</td>\n",
       "      <td>61.732702</td>\n",
       "      <td>73.614349</td>\n",
       "    </tr>\n",
       "    <tr>\n",
       "      <th>1</th>\n",
       "      <td>hours</td>\n",
       "      <td>5.555748</td>\n",
       "      <td>0.899192</td>\n",
       "      <td>6.178603</td>\n",
       "      <td>1.010687e-05</td>\n",
       "      <td>0.734027</td>\n",
       "      <td>0.702736</td>\n",
       "      <td>3.658620</td>\n",
       "      <td>7.452877</td>\n",
       "    </tr>\n",
       "    <tr>\n",
       "      <th>2</th>\n",
       "      <td>exams</td>\n",
       "      <td>-0.601687</td>\n",
       "      <td>0.914385</td>\n",
       "      <td>-0.658023</td>\n",
       "      <td>5.193352e-01</td>\n",
       "      <td>0.734027</td>\n",
       "      <td>0.702736</td>\n",
       "      <td>-2.530871</td>\n",
       "      <td>1.327497</td>\n",
       "    </tr>\n",
       "  </tbody>\n",
       "</table>\n",
       "</div>"
      ],
      "text/plain": [
       "       names       coef        se          T          pval        r2  \\\n",
       "0  Intercept  67.673526  2.815802  24.033480  1.458191e-14  0.734027   \n",
       "1      hours   5.555748  0.899192   6.178603  1.010687e-05  0.734027   \n",
       "2      exams  -0.601687  0.914385  -0.658023  5.193352e-01  0.734027   \n",
       "\n",
       "     adj_r2   CI[2.5%]  CI[97.5%]  \n",
       "0  0.702736  61.732702  73.614349  \n",
       "1  0.702736   3.658620   7.452877  \n",
       "2  0.702736  -2.530871   1.327497  "
      ]
     },
     "execution_count": 61,
     "metadata": {},
     "output_type": "execute_result"
    }
   ],
   "source": [
    "# USING PINGOUIN (EASIER)\n",
    "pg.linear_regression(linearx, lineary)"
   ]
  },
  {
   "cell_type": "code",
   "execution_count": 62,
   "metadata": {},
   "outputs": [],
   "source": [
    "# Prep exams were not statistically significant so we might as well remove it from the model, for this case we keep it in and calculate the predicted exam scores.\n",
    "linearr[\"exam score\"] = 67.67 + 5.56*linearr[\"hours\"] - 0.60*linearr[\"exams\"]"
   ]
  },
  {
   "cell_type": "code",
   "execution_count": 63,
   "metadata": {},
   "outputs": [
    {
     "data": {
      "text/html": [
       "<div>\n",
       "<style scoped>\n",
       "    .dataframe tbody tr th:only-of-type {\n",
       "        vertical-align: middle;\n",
       "    }\n",
       "\n",
       "    .dataframe tbody tr th {\n",
       "        vertical-align: top;\n",
       "    }\n",
       "\n",
       "    .dataframe thead th {\n",
       "        text-align: right;\n",
       "    }\n",
       "</style>\n",
       "<table border=\"1\" class=\"dataframe\">\n",
       "  <thead>\n",
       "    <tr style=\"text-align: right;\">\n",
       "      <th></th>\n",
       "      <th>hours</th>\n",
       "      <th>exams</th>\n",
       "      <th>score</th>\n",
       "      <th>exam score</th>\n",
       "    </tr>\n",
       "  </thead>\n",
       "  <tbody>\n",
       "    <tr>\n",
       "      <th>0</th>\n",
       "      <td>1</td>\n",
       "      <td>1</td>\n",
       "      <td>76</td>\n",
       "      <td>72.63</td>\n",
       "    </tr>\n",
       "    <tr>\n",
       "      <th>1</th>\n",
       "      <td>2</td>\n",
       "      <td>3</td>\n",
       "      <td>78</td>\n",
       "      <td>76.99</td>\n",
       "    </tr>\n",
       "    <tr>\n",
       "      <th>2</th>\n",
       "      <td>2</td>\n",
       "      <td>3</td>\n",
       "      <td>85</td>\n",
       "      <td>76.99</td>\n",
       "    </tr>\n",
       "    <tr>\n",
       "      <th>3</th>\n",
       "      <td>4</td>\n",
       "      <td>5</td>\n",
       "      <td>88</td>\n",
       "      <td>86.91</td>\n",
       "    </tr>\n",
       "    <tr>\n",
       "      <th>4</th>\n",
       "      <td>2</td>\n",
       "      <td>2</td>\n",
       "      <td>72</td>\n",
       "      <td>77.59</td>\n",
       "    </tr>\n",
       "    <tr>\n",
       "      <th>5</th>\n",
       "      <td>1</td>\n",
       "      <td>2</td>\n",
       "      <td>69</td>\n",
       "      <td>72.03</td>\n",
       "    </tr>\n",
       "    <tr>\n",
       "      <th>6</th>\n",
       "      <td>5</td>\n",
       "      <td>1</td>\n",
       "      <td>94</td>\n",
       "      <td>94.87</td>\n",
       "    </tr>\n",
       "    <tr>\n",
       "      <th>7</th>\n",
       "      <td>4</td>\n",
       "      <td>1</td>\n",
       "      <td>94</td>\n",
       "      <td>89.31</td>\n",
       "    </tr>\n",
       "    <tr>\n",
       "      <th>8</th>\n",
       "      <td>2</td>\n",
       "      <td>0</td>\n",
       "      <td>88</td>\n",
       "      <td>78.79</td>\n",
       "    </tr>\n",
       "    <tr>\n",
       "      <th>9</th>\n",
       "      <td>4</td>\n",
       "      <td>3</td>\n",
       "      <td>92</td>\n",
       "      <td>88.11</td>\n",
       "    </tr>\n",
       "    <tr>\n",
       "      <th>10</th>\n",
       "      <td>4</td>\n",
       "      <td>4</td>\n",
       "      <td>90</td>\n",
       "      <td>87.51</td>\n",
       "    </tr>\n",
       "    <tr>\n",
       "      <th>11</th>\n",
       "      <td>3</td>\n",
       "      <td>3</td>\n",
       "      <td>75</td>\n",
       "      <td>82.55</td>\n",
       "    </tr>\n",
       "    <tr>\n",
       "      <th>12</th>\n",
       "      <td>6</td>\n",
       "      <td>2</td>\n",
       "      <td>96</td>\n",
       "      <td>99.83</td>\n",
       "    </tr>\n",
       "    <tr>\n",
       "      <th>13</th>\n",
       "      <td>5</td>\n",
       "      <td>4</td>\n",
       "      <td>90</td>\n",
       "      <td>93.07</td>\n",
       "    </tr>\n",
       "    <tr>\n",
       "      <th>14</th>\n",
       "      <td>3</td>\n",
       "      <td>4</td>\n",
       "      <td>82</td>\n",
       "      <td>81.95</td>\n",
       "    </tr>\n",
       "    <tr>\n",
       "      <th>15</th>\n",
       "      <td>4</td>\n",
       "      <td>4</td>\n",
       "      <td>85</td>\n",
       "      <td>87.51</td>\n",
       "    </tr>\n",
       "    <tr>\n",
       "      <th>16</th>\n",
       "      <td>6</td>\n",
       "      <td>5</td>\n",
       "      <td>99</td>\n",
       "      <td>98.03</td>\n",
       "    </tr>\n",
       "    <tr>\n",
       "      <th>17</th>\n",
       "      <td>2</td>\n",
       "      <td>1</td>\n",
       "      <td>83</td>\n",
       "      <td>78.19</td>\n",
       "    </tr>\n",
       "    <tr>\n",
       "      <th>18</th>\n",
       "      <td>1</td>\n",
       "      <td>0</td>\n",
       "      <td>62</td>\n",
       "      <td>73.23</td>\n",
       "    </tr>\n",
       "    <tr>\n",
       "      <th>19</th>\n",
       "      <td>2</td>\n",
       "      <td>1</td>\n",
       "      <td>76</td>\n",
       "      <td>78.19</td>\n",
       "    </tr>\n",
       "  </tbody>\n",
       "</table>\n",
       "</div>"
      ],
      "text/plain": [
       "    hours  exams  score  exam score\n",
       "0       1      1     76       72.63\n",
       "1       2      3     78       76.99\n",
       "2       2      3     85       76.99\n",
       "3       4      5     88       86.91\n",
       "4       2      2     72       77.59\n",
       "5       1      2     69       72.03\n",
       "6       5      1     94       94.87\n",
       "7       4      1     94       89.31\n",
       "8       2      0     88       78.79\n",
       "9       4      3     92       88.11\n",
       "10      4      4     90       87.51\n",
       "11      3      3     75       82.55\n",
       "12      6      2     96       99.83\n",
       "13      5      4     90       93.07\n",
       "14      3      4     82       81.95\n",
       "15      4      4     85       87.51\n",
       "16      6      5     99       98.03\n",
       "17      2      1     83       78.19\n",
       "18      1      0     62       73.23\n",
       "19      2      1     76       78.19"
      ]
     },
     "execution_count": 63,
     "metadata": {},
     "output_type": "execute_result"
    }
   ],
   "source": [
    "linearr"
   ]
  },
  {
   "cell_type": "code",
   "execution_count": 64,
   "metadata": {},
   "outputs": [
    {
     "data": {
      "image/png": "[encoded data removed]",
      "text/plain": [
       "<Figure size 432x288 with 1 Axes>"
      ]
     },
     "metadata": {
      "needs_background": "light"
     },
     "output_type": "display_data"
    }
   ],
   "source": [
    "sns.regplot(x=\"score\", y=\"hours\", data=linearr, label=\"hours\", ci=False)\n",
    "sns.regplot(x=\"score\", y=\"exams\", data=linearr, label=\"exams\", ci=False)\n",
    "plt.legend()\n",
    "plt.ylabel(\"hours/exams\")\n",
    "plt.show()"
   ]
  },
  {
   "cell_type": "code",
   "execution_count": 65,
   "metadata": {},
   "outputs": [
    {
     "data": {
      "text/plain": [
       "1.5064454336332627"
      ]
     },
     "execution_count": 65,
     "metadata": {},
     "output_type": "execute_result"
    }
   ],
   "source": [
    "# Assumption 2 - Durbin-Watson Test\n",
    "from statsmodels.stats.stattools import durbin_watson\n",
    "from statsmodels.formula.api import ols\n",
    "\n",
    "#fit multiple linear regression model\n",
    "model1 = ols('score ~ hours + exams', data=linearr).fit()\n",
    "durbin_watson(model1.resid)\n",
    "# The test statistic is 1.506445. Since this is within the range of 1.5 and 2.5, \n",
    "# we would consider autocorrelation not to be problematic in this regression model."
   ]
  },
  {
   "cell_type": "code",
   "execution_count": 66,
   "metadata": {},
   "outputs": [
    {
     "name": "stdout",
     "output_type": "stream",
     "text": [
      "                            OLS Regression Results                            \n",
      "==============================================================================\n",
      "Dep. Variable:                  score   R-squared:                       0.734\n",
      "Model:                            OLS   Adj. R-squared:                  0.703\n",
      "Method:                 Least Squares   F-statistic:                     23.46\n",
      "Date:                Tue, 05 Jul 2022   Prob (F-statistic):           1.29e-05\n",
      "Time:                        19:09:15   Log-Likelihood:                -60.354\n",
      "No. Observations:                  20   AIC:                             126.7\n",
      "Df Residuals:                      17   BIC:                             129.7\n",
      "Df Model:                           2                                         \n",
      "Covariance Type:            nonrobust                                         \n",
      "==============================================================================\n",
      "                 coef    std err          t      P>|t|      [0.025      0.975]\n",
      "------------------------------------------------------------------------------\n",
      "Intercept     67.6735      2.816     24.033      0.000      61.733      73.614\n",
      "hours          5.5557      0.899      6.179      0.000       3.659       7.453\n",
      "exams         -0.6017      0.914     -0.658      0.519      -2.531       1.327\n",
      "==============================================================================\n",
      "Omnibus:                        0.341   Durbin-Watson:                   1.506\n",
      "Prob(Omnibus):                  0.843   Jarque-Bera (JB):                0.196\n",
      "Skew:                          -0.216   Prob(JB):                        0.907\n",
      "Kurtosis:                       2.782   Cond. No.                         10.8\n",
      "==============================================================================\n",
      "\n",
      "Notes:\n",
      "[1] Standard Errors assume that the covariance matrix of the errors is correctly specified.\n"
     ]
    }
   ],
   "source": [
    "print(model1.summary())"
   ]
  },
  {
   "cell_type": "code",
   "execution_count": 67,
   "metadata": {},
   "outputs": [],
   "source": [
    "import sklearn\n",
    "from sklearn.linear_model import LinearRegression\n",
    "from sklearn.preprocessing import scale\n",
    "from collections import Counter"
   ]
  },
  {
   "cell_type": "code",
   "execution_count": 68,
   "metadata": {},
   "outputs": [
    {
     "data": {
      "text/plain": [
       "array([  1.1092454 , -32.45509036])"
      ]
     },
     "execution_count": 68,
     "metadata": {},
     "output_type": "execute_result"
    }
   ],
   "source": [
    "reg = np.polyfit(newdata1[\"enginesize\"], newdata1[\"horsepower\"], deg=1)\n",
    "reg"
   ]
  },
  {
   "cell_type": "code",
   "execution_count": 69,
   "metadata": {},
   "outputs": [
    {
     "data": {
      "text/html": [
       "<div>\n",
       "<style scoped>\n",
       "    .dataframe tbody tr th:only-of-type {\n",
       "        vertical-align: middle;\n",
       "    }\n",
       "\n",
       "    .dataframe tbody tr th {\n",
       "        vertical-align: top;\n",
       "    }\n",
       "\n",
       "    .dataframe thead th {\n",
       "        text-align: right;\n",
       "    }\n",
       "</style>\n",
       "<table border=\"1\" class=\"dataframe\">\n",
       "  <thead>\n",
       "    <tr style=\"text-align: right;\">\n",
       "      <th></th>\n",
       "      <th>enginesize</th>\n",
       "      <th>horsepower</th>\n",
       "    </tr>\n",
       "  </thead>\n",
       "  <tbody>\n",
       "    <tr>\n",
       "      <th>enginesize</th>\n",
       "      <td>1.00</td>\n",
       "      <td>0.79</td>\n",
       "    </tr>\n",
       "    <tr>\n",
       "      <th>horsepower</th>\n",
       "      <td>0.79</td>\n",
       "      <td>1.00</td>\n",
       "    </tr>\n",
       "  </tbody>\n",
       "</table>\n",
       "</div>"
      ],
      "text/plain": [
       "            enginesize  horsepower\n",
       "enginesize        1.00        0.79\n",
       "horsepower        0.79        1.00"
      ]
     },
     "execution_count": 69,
     "metadata": {},
     "output_type": "execute_result"
    }
   ],
   "source": [
    "round(newdata1[[\"enginesize\",\"horsepower\"]].corr(),2)"
   ]
  },
  {
   "cell_type": "code",
   "execution_count": 70,
   "metadata": {},
   "outputs": [
    {
     "data": {
      "text/plain": [
       "[<matplotlib.lines.Line2D at 0x25008402500>]"
      ]
     },
     "execution_count": 70,
     "metadata": {},
     "output_type": "execute_result"
    },
    {
     "data": {
      "image/png": "[encoded data removed]",
      "text/plain": [
       "<Figure size 432x288 with 1 Axes>"
      ]
     },
     "metadata": {
      "needs_background": "light"
     },
     "output_type": "display_data"
    }
   ],
   "source": [
    "trend = np.polyval(reg, newdata1[\"enginesize\"])\n",
    "plt.scatter(newdata1[\"enginesize\"],newdata1[\"horsepower\"])\n",
    "plt.plot(newdata1[\"enginesize\"],trend, c=\"red\")"
   ]
  },
  {
   "cell_type": "code",
   "execution_count": 71,
   "metadata": {},
   "outputs": [
    {
     "data": {
      "text/plain": [
       "<AxesSubplot:xlabel='enginesize', ylabel='horsepower'>"
      ]
     },
     "execution_count": 71,
     "metadata": {},
     "output_type": "execute_result"
    },
    {
     "data": {
      "image/png": "[encoded data removed]",
      "text/plain": [
       "<Figure size 432x288 with 1 Axes>"
      ]
     },
     "metadata": {
      "needs_background": "light"
     },
     "output_type": "display_data"
    }
   ],
   "source": [
    "sns.regplot(x=\"enginesize\",y=\"horsepower\",data=newdata1, ci=False, line_kws={\"color\":\"#99ff99\"})"
   ]
  },
  {
   "cell_type": "code",
   "execution_count": 72,
   "metadata": {},
   "outputs": [
    {
     "data": {
      "text/plain": [
       "<AxesSubplot:xlabel='enginesize', ylabel='horsepower'>"
      ]
     },
     "execution_count": 72,
     "metadata": {},
     "output_type": "execute_result"
    },
    {
     "data": {
      "image/png": "[encoded data removed]",
      "text/plain": [
       "<Figure size 432x288 with 2 Axes>"
      ]
     },
     "metadata": {
      "needs_background": "light"
     },
     "output_type": "display_data"
    }
   ],
   "source": [
    "plt.subplot(121)\n",
    "trend = np.polyval(reg, newdata1[\"enginesize\"])\n",
    "plt.scatter(newdata1[\"enginesize\"],newdata1[\"horsepower\"])\n",
    "plt.plot(newdata1[\"enginesize\"],trend, c=\"r\")\n",
    "plt.subplot(122)\n",
    "sns.regplot(x=\"enginesize\",y=\"horsepower\",data=newdata1, ci=False)"
   ]
  },
  {
   "cell_type": "code",
   "execution_count": 73,
   "metadata": {},
   "outputs": [
    {
     "data": {
      "text/plain": [
       "<AxesSubplot:xlabel='enginesize', ylabel='horsepower'>"
      ]
     },
     "execution_count": 73,
     "metadata": {},
     "output_type": "execute_result"
    },
    {
     "data": {
      "image/png": "[encoded data removed]",
      "text/plain": [
       "<Figure size 432x288 with 1 Axes>"
      ]
     },
     "metadata": {
      "needs_background": "light"
     },
     "output_type": "display_data"
    }
   ],
   "source": [
    "sns.regplot(x=\"enginesize\",y=\"horsepower\",data=newdata1, ci=False)"
   ]
  },
  {
   "cell_type": "code",
   "execution_count": 74,
   "metadata": {},
   "outputs": [],
   "source": [
    "j = [14, 22, 25, 28, 30]\n",
    "k = [23.8, 23.8, 23.8, 23.8, 23.8]"
   ]
  },
  {
   "cell_type": "code",
   "execution_count": 75,
   "metadata": {},
   "outputs": [
    {
     "data": {
      "text/plain": [
       "Power_divergenceResult(statistic=6.588235294117648, pvalue=0.15931505648894703)"
      ]
     },
     "execution_count": 75,
     "metadata": {},
     "output_type": "execute_result"
    }
   ],
   "source": [
    "stats.chisquare(f_obs=j, f_exp=k)"
   ]
  },
  {
   "cell_type": "code",
   "execution_count": 76,
   "metadata": {},
   "outputs": [
    {
     "data": {
      "text/plain": [
       "(0.019225489813725107,\n",
       " 0.9999540925912066,\n",
       " 4,\n",
       " array([[0.0126, 0.0074],\n",
       "        [0.0189, 0.0111],\n",
       "        [0.2142, 0.1258],\n",
       "        [0.2772, 0.1628],\n",
       "        [0.1071, 0.0629]]))"
      ]
     },
     "execution_count": 76,
     "metadata": {},
     "output_type": "execute_result"
    }
   ],
   "source": [
    "stats.chi2_contingency(pd.crosstab(newdata1[\"carbody\"], newdata1[\"aspiration\"], normalize=\"all\"))"
   ]
  },
  {
   "cell_type": "code",
   "execution_count": 77,
   "metadata": {},
   "outputs": [
    {
     "data": {
      "text/html": [
       "<div>\n",
       "<style scoped>\n",
       "    .dataframe tbody tr th:only-of-type {\n",
       "        vertical-align: middle;\n",
       "    }\n",
       "\n",
       "    .dataframe tbody tr th {\n",
       "        vertical-align: top;\n",
       "    }\n",
       "\n",
       "    .dataframe thead th {\n",
       "        text-align: right;\n",
       "    }\n",
       "</style>\n",
       "<table border=\"1\" class=\"dataframe\">\n",
       "  <thead>\n",
       "    <tr style=\"text-align: right;\">\n",
       "      <th>aspiration</th>\n",
       "      <th>std</th>\n",
       "      <th>turbo</th>\n",
       "    </tr>\n",
       "    <tr>\n",
       "      <th>carbody</th>\n",
       "      <th></th>\n",
       "      <th></th>\n",
       "    </tr>\n",
       "  </thead>\n",
       "  <tbody>\n",
       "    <tr>\n",
       "      <th>convertible</th>\n",
       "      <td>0.02</td>\n",
       "      <td>0.00</td>\n",
       "    </tr>\n",
       "    <tr>\n",
       "      <th>hardtop</th>\n",
       "      <td>0.02</td>\n",
       "      <td>0.01</td>\n",
       "    </tr>\n",
       "    <tr>\n",
       "      <th>hatchback</th>\n",
       "      <td>0.21</td>\n",
       "      <td>0.13</td>\n",
       "    </tr>\n",
       "    <tr>\n",
       "      <th>sedan</th>\n",
       "      <td>0.26</td>\n",
       "      <td>0.18</td>\n",
       "    </tr>\n",
       "    <tr>\n",
       "      <th>wagon</th>\n",
       "      <td>0.12</td>\n",
       "      <td>0.05</td>\n",
       "    </tr>\n",
       "  </tbody>\n",
       "</table>\n",
       "</div>"
      ],
      "text/plain": [
       "aspiration    std  turbo\n",
       "carbody                 \n",
       "convertible  0.02   0.00\n",
       "hardtop      0.02   0.01\n",
       "hatchback    0.21   0.13\n",
       "sedan        0.26   0.18\n",
       "wagon        0.12   0.05"
      ]
     },
     "execution_count": 77,
     "metadata": {},
     "output_type": "execute_result"
    }
   ],
   "source": [
    "pd.crosstab(newdata1[\"carbody\"], newdata1[\"aspiration\"], normalize=\"all\")"
   ]
  },
  {
   "cell_type": "code",
   "execution_count": 78,
   "metadata": {},
   "outputs": [],
   "source": [
    "observed = [71,18,4]\n",
    "reality = [579349, 14993, 2739]"
   ]
  },
  {
   "cell_type": "code",
   "execution_count": 79,
   "metadata": {},
   "outputs": [],
   "source": [
    "observeddf = pd.DataFrame(observed)\n",
    "realitydf = pd.DataFrame(reality)"
   ]
  },
  {
   "cell_type": "code",
   "execution_count": 80,
   "metadata": {},
   "outputs": [],
   "source": [
    "realitydf[\"%\"] = (realitydf[0]/597171)"
   ]
  },
  {
   "cell_type": "code",
   "execution_count": 81,
   "metadata": {},
   "outputs": [
    {
     "data": {
      "text/html": [
       "<div>\n",
       "<style scoped>\n",
       "    .dataframe tbody tr th:only-of-type {\n",
       "        vertical-align: middle;\n",
       "    }\n",
       "\n",
       "    .dataframe tbody tr th {\n",
       "        vertical-align: top;\n",
       "    }\n",
       "\n",
       "    .dataframe thead th {\n",
       "        text-align: right;\n",
       "    }\n",
       "</style>\n",
       "<table border=\"1\" class=\"dataframe\">\n",
       "  <thead>\n",
       "    <tr style=\"text-align: right;\">\n",
       "      <th></th>\n",
       "      <th>0</th>\n",
       "      <th>%</th>\n",
       "    </tr>\n",
       "  </thead>\n",
       "  <tbody>\n",
       "    <tr>\n",
       "      <th>0</th>\n",
       "      <td>579349</td>\n",
       "      <td>0.970156</td>\n",
       "    </tr>\n",
       "    <tr>\n",
       "      <th>1</th>\n",
       "      <td>14993</td>\n",
       "      <td>0.025107</td>\n",
       "    </tr>\n",
       "    <tr>\n",
       "      <th>2</th>\n",
       "      <td>2739</td>\n",
       "      <td>0.004587</td>\n",
       "    </tr>\n",
       "  </tbody>\n",
       "</table>\n",
       "</div>"
      ],
      "text/plain": [
       "        0         %\n",
       "0  579349  0.970156\n",
       "1   14993  0.025107\n",
       "2    2739  0.004587"
      ]
     },
     "execution_count": 81,
     "metadata": {},
     "output_type": "execute_result"
    }
   ],
   "source": [
    "realitydf"
   ]
  },
  {
   "cell_type": "code",
   "execution_count": 82,
   "metadata": {},
   "outputs": [],
   "source": [
    "maindf = pd.DataFrame()"
   ]
  },
  {
   "cell_type": "code",
   "execution_count": 83,
   "metadata": {},
   "outputs": [],
   "source": [
    "maindf[\"Ei\"] = observeddf[0]\n",
    "maindf[\"Ti\"] = round(realitydf[\"%\"] * 93)"
   ]
  },
  {
   "cell_type": "code",
   "execution_count": 84,
   "metadata": {},
   "outputs": [],
   "source": [
    "maindf[\"ABS(Ei-Ti)\"] = abs(maindf[\"Ei\"] - maindf[\"Ti\"])\n",
    "maindf[\"^2\"] = abs(maindf[\"Ei\"] - maindf[\"Ti\"])**2\n",
    "maindf[\"/Ti\"] = (abs(maindf[\"Ei\"] - maindf[\"Ti\"])**2)/maindf[\"Ti\"]\n"
   ]
  },
  {
   "cell_type": "code",
   "execution_count": 85,
   "metadata": {},
   "outputs": [],
   "source": [
    "maindf[\"/Ti\"].replace({np.inf:0}, inplace=True)"
   ]
  },
  {
   "cell_type": "code",
   "execution_count": 86,
   "metadata": {},
   "outputs": [
    {
     "data": {
      "text/html": [
       "<div>\n",
       "<style scoped>\n",
       "    .dataframe tbody tr th:only-of-type {\n",
       "        vertical-align: middle;\n",
       "    }\n",
       "\n",
       "    .dataframe tbody tr th {\n",
       "        vertical-align: top;\n",
       "    }\n",
       "\n",
       "    .dataframe thead th {\n",
       "        text-align: right;\n",
       "    }\n",
       "</style>\n",
       "<table border=\"1\" class=\"dataframe\">\n",
       "  <thead>\n",
       "    <tr style=\"text-align: right;\">\n",
       "      <th></th>\n",
       "      <th>Ei</th>\n",
       "      <th>Ti</th>\n",
       "      <th>ABS(Ei-Ti)</th>\n",
       "      <th>^2</th>\n",
       "      <th>/Ti</th>\n",
       "    </tr>\n",
       "  </thead>\n",
       "  <tbody>\n",
       "    <tr>\n",
       "      <th>0</th>\n",
       "      <td>71</td>\n",
       "      <td>90.0</td>\n",
       "      <td>19.0</td>\n",
       "      <td>361.0</td>\n",
       "      <td>4.011111</td>\n",
       "    </tr>\n",
       "    <tr>\n",
       "      <th>1</th>\n",
       "      <td>18</td>\n",
       "      <td>2.0</td>\n",
       "      <td>16.0</td>\n",
       "      <td>256.0</td>\n",
       "      <td>128.000000</td>\n",
       "    </tr>\n",
       "    <tr>\n",
       "      <th>2</th>\n",
       "      <td>4</td>\n",
       "      <td>0.0</td>\n",
       "      <td>4.0</td>\n",
       "      <td>16.0</td>\n",
       "      <td>0.000000</td>\n",
       "    </tr>\n",
       "  </tbody>\n",
       "</table>\n",
       "</div>"
      ],
      "text/plain": [
       "   Ei    Ti  ABS(Ei-Ti)     ^2         /Ti\n",
       "0  71  90.0        19.0  361.0    4.011111\n",
       "1  18   2.0        16.0  256.0  128.000000\n",
       "2   4   0.0         4.0   16.0    0.000000"
      ]
     },
     "execution_count": 86,
     "metadata": {},
     "output_type": "execute_result"
    }
   ],
   "source": [
    "maindf"
   ]
  },
  {
   "cell_type": "code",
   "execution_count": 87,
   "metadata": {},
   "outputs": [
    {
     "name": "stdout",
     "output_type": "stream",
     "text": [
      "Chi-square value is:  132.01111111111112\n",
      "Critical value based on Df=2:  5.99\n",
      "Chi-square is larger than critical value so we reject H0.\n"
     ]
    }
   ],
   "source": [
    "print(\"Chi-square value is: \", maindf[\"/Ti\"].sum())\n",
    "print(\"Critical value based on Df=2: \", 5.99)\n",
    "print(\"Chi-square is larger than critical value so we reject H0.\")"
   ]
  },
  {
   "cell_type": "code",
   "execution_count": 88,
   "metadata": {},
   "outputs": [
    {
     "data": {
      "text/plain": [
       "Power_divergenceResult(statistic=28.32, pvalue=3.1115137804306093e-06)"
      ]
     },
     "execution_count": 88,
     "metadata": {},
     "output_type": "execute_result"
    }
   ],
   "source": [
    "stats.chisquare(f_obs=[102,90,66,42])"
   ]
  },
  {
   "cell_type": "markdown",
   "metadata": {},
   "source": [
    "# Proportion Z-test"
   ]
  },
  {
   "cell_type": "code",
   "execution_count": 89,
   "metadata": {},
   "outputs": [
    {
     "data": {
      "text/plain": [
       "fwd    58\n",
       "rwd    34\n",
       "4wd     8\n",
       "Name: drivewheel, dtype: int64"
      ]
     },
     "execution_count": 89,
     "metadata": {},
     "output_type": "execute_result"
    }
   ],
   "source": [
    "# Is the ditribution in our dataset different than what we expect?\n",
    "# H0 There is not a difference.\n",
    "# H0 There is a difference.\n",
    "newdata1[\"drivewheel\"].value_counts()"
   ]
  },
  {
   "cell_type": "code",
   "execution_count": 90,
   "metadata": {},
   "outputs": [],
   "source": [
    "rwd = newdata1[\"drivewheel\"].value_counts()[1]"
   ]
  },
  {
   "cell_type": "code",
   "execution_count": 91,
   "metadata": {},
   "outputs": [
    {
     "data": {
      "text/plain": [
       "100"
      ]
     },
     "execution_count": 91,
     "metadata": {},
     "output_type": "execute_result"
    }
   ],
   "source": [
    "newdata1[\"drivewheel\"].value_counts().sum()"
   ]
  },
  {
   "cell_type": "code",
   "execution_count": 92,
   "metadata": {},
   "outputs": [
    {
     "name": "stdout",
     "output_type": "stream",
     "text": [
      "Z-value =  -1.2666009927622472\n",
      "P-value =  0.20529799730252218\n",
      "Fail to reject the null hypothesis as p-value is larger than significance alpha 0.05 -  0.20529799730252218\n"
     ]
    }
   ],
   "source": [
    "zzz, ppp = proportions_ztest(count=rwd, nobs=newdata1[\"drivewheel\"].value_counts().sum(), value=0.4, alternative=\"two-sided\")\n",
    "print(\"Z-value = \", zzz)\n",
    "print(\"P-value = \", ppp)\n",
    "if ppp < 0.05:\n",
    "    print(\"Reject the null hypothesis as p-value is smaller than significance alpha 0.05 - \", ppp)\n",
    "else:\n",
    "    print(\"Fail to reject the null hypothesis as p-value is larger than significance alpha 0.05 - \", ppp)"
   ]
  },
  {
   "cell_type": "markdown",
   "metadata": {},
   "source": [
    "# Chi-square Independance"
   ]
  },
  {
   "cell_type": "code",
   "execution_count": 93,
   "metadata": {},
   "outputs": [],
   "source": [
    "# Is the aspiration of a car differenct across the car body types?\n",
    "# H0 There is not a difference.\n",
    "# H0 There is a difference.\n",
    "jkk = pd.crosstab(newdata[\"carbody\"], newdata1[\"aspiration\"])"
   ]
  },
  {
   "cell_type": "code",
   "execution_count": 94,
   "metadata": {},
   "outputs": [
    {
     "data": {
      "text/html": [
       "<div>\n",
       "<style scoped>\n",
       "    .dataframe tbody tr th:only-of-type {\n",
       "        vertical-align: middle;\n",
       "    }\n",
       "\n",
       "    .dataframe tbody tr th {\n",
       "        vertical-align: top;\n",
       "    }\n",
       "\n",
       "    .dataframe thead th {\n",
       "        text-align: right;\n",
       "    }\n",
       "</style>\n",
       "<table border=\"1\" class=\"dataframe\">\n",
       "  <thead>\n",
       "    <tr style=\"text-align: right;\">\n",
       "      <th>aspiration</th>\n",
       "      <th>std</th>\n",
       "      <th>turbo</th>\n",
       "    </tr>\n",
       "    <tr>\n",
       "      <th>carbody</th>\n",
       "      <th></th>\n",
       "      <th></th>\n",
       "    </tr>\n",
       "  </thead>\n",
       "  <tbody>\n",
       "    <tr>\n",
       "      <th>convertible</th>\n",
       "      <td>2</td>\n",
       "      <td>0</td>\n",
       "    </tr>\n",
       "    <tr>\n",
       "      <th>hardtop</th>\n",
       "      <td>2</td>\n",
       "      <td>1</td>\n",
       "    </tr>\n",
       "    <tr>\n",
       "      <th>hatchback</th>\n",
       "      <td>21</td>\n",
       "      <td>13</td>\n",
       "    </tr>\n",
       "    <tr>\n",
       "      <th>sedan</th>\n",
       "      <td>26</td>\n",
       "      <td>18</td>\n",
       "    </tr>\n",
       "    <tr>\n",
       "      <th>wagon</th>\n",
       "      <td>12</td>\n",
       "      <td>5</td>\n",
       "    </tr>\n",
       "  </tbody>\n",
       "</table>\n",
       "</div>"
      ],
      "text/plain": [
       "aspiration   std  turbo\n",
       "carbody                \n",
       "convertible    2      0\n",
       "hardtop        2      1\n",
       "hatchback     21     13\n",
       "sedan         26     18\n",
       "wagon         12      5"
      ]
     },
     "execution_count": 94,
     "metadata": {},
     "output_type": "execute_result"
    }
   ],
   "source": [
    "jkk"
   ]
  },
  {
   "cell_type": "code",
   "execution_count": 95,
   "metadata": {},
   "outputs": [
    {
     "name": "stdout",
     "output_type": "stream",
     "text": [
      "Chi-square value =  1.9225489813725103\n",
      "P-value =  0.7500015705293386\n",
      "Df =  4  = 9,488\n",
      "Expected values =  [[ 1.26  0.74]\n",
      " [ 1.89  1.11]\n",
      " [21.42 12.58]\n",
      " [27.72 16.28]\n",
      " [10.71  6.29]]\n",
      "Fail to reject the null hypothesis based on chi-square value\n",
      "Fail to reject the null hypothesis based on P-value\n"
     ]
    }
   ],
   "source": [
    "aa, bb, cc, dd = stats.chi2_contingency(jkk)\n",
    "print(\"Chi-square value = \", aa)\n",
    "print(\"P-value = \", bb)\n",
    "print(\"Df = \", cc, \" = 9,488\")\n",
    "print(\"Expected values = \", dd)\n",
    "if aa > 9.488:\n",
    "    print(\"Reject the null hypothesis\")\n",
    "else:\n",
    "    print(\"Fail to reject the null hypothesis based on chi-square value\")\n",
    "if bb < 0.05:\n",
    "    print(\"Reject the null hypothesis\")\n",
    "else:\n",
    "    print(\"Fail to reject the null hypothesis based on P-value\")"
   ]
  },
  {
   "cell_type": "markdown",
   "metadata": {},
   "source": [
    "# T-test one sample"
   ]
  },
  {
   "cell_type": "code",
   "execution_count": 96,
   "metadata": {},
   "outputs": [
    {
     "name": "stdout",
     "output_type": "stream",
     "text": [
      "T-value =  2.9196042624192557\n",
      "P-value =  0.004339485801476046\n",
      "Reject the null hypothesis based on P-value\n"
     ]
    }
   ],
   "source": [
    "# Is there a difference between the average price of cars and the average price of cars from 2010?\n",
    "# H0 There is not a difference.\n",
    "# H0 There is a difference.\n",
    "ee, ff = stats.ttest_1samp(newdata1[\"price\"], popmean=11500)\n",
    "print(\"T-value = \", ee)\n",
    "print(\"P-value = \", ff)\n",
    "if ff < 0.05:\n",
    "    print(\"Reject the null hypothesis based on P-value\")\n",
    "else:\n",
    "    print(\"Fail to reject the null hypothesis based on P-value\")"
   ]
  },
  {
   "cell_type": "markdown",
   "metadata": {},
   "source": [
    "# Two sample T-test non-paired"
   ]
  },
  {
   "cell_type": "code",
   "execution_count": 97,
   "metadata": {},
   "outputs": [],
   "source": [
    "# Is there a difference in horsepower between different fuel types?\n",
    "# H0 There is not difference.\n",
    "# Ha There is a difference.\n",
    "categorical = newdata1[\"fueltype\"]\n",
    "numeric = newdata1[\"horsepower\"]"
   ]
  },
  {
   "cell_type": "code",
   "execution_count": 98,
   "metadata": {},
   "outputs": [],
   "source": [
    "category1 = categorical == \"gas\"\n",
    "category2 = categorical == \"diesel\""
   ]
  },
  {
   "cell_type": "code",
   "execution_count": 99,
   "metadata": {},
   "outputs": [],
   "source": [
    "categ1 = numeric[category1]\n",
    "categ2 = numeric[category2]"
   ]
  },
  {
   "cell_type": "code",
   "execution_count": 100,
   "metadata": {},
   "outputs": [
    {
     "name": "stdout",
     "output_type": "stream",
     "text": [
      "T-value =  2.287143063272177\n",
      "P-value =  0.024338\n",
      "Reject the null hypothesis based on P-value\n"
     ]
    }
   ],
   "source": [
    "gg, hh = stats.ttest_ind(categ1, categ2)\n",
    "print(\"T-value = \", gg)\n",
    "print(\"P-value = \", round(hh,6))\n",
    "if hh < 0.05:\n",
    "    print(\"Reject the null hypothesis based on P-value\")\n",
    "else:\n",
    "    print(\"Fail to reject the null hypothesis based on P-value\")"
   ]
  },
  {
   "cell_type": "markdown",
   "metadata": {},
   "source": [
    "# ANOVA"
   ]
  },
  {
   "cell_type": "code",
   "execution_count": 101,
   "metadata": {},
   "outputs": [
    {
     "data": {
      "text/html": [
       "<div>\n",
       "<style scoped>\n",
       "    .dataframe tbody tr th:only-of-type {\n",
       "        vertical-align: middle;\n",
       "    }\n",
       "\n",
       "    .dataframe tbody tr th {\n",
       "        vertical-align: top;\n",
       "    }\n",
       "\n",
       "    .dataframe thead th {\n",
       "        text-align: right;\n",
       "    }\n",
       "</style>\n",
       "<table border=\"1\" class=\"dataframe\">\n",
       "  <thead>\n",
       "    <tr style=\"text-align: right;\">\n",
       "      <th></th>\n",
       "      <th>Source</th>\n",
       "      <th>SS</th>\n",
       "      <th>DF</th>\n",
       "      <th>MS</th>\n",
       "      <th>F</th>\n",
       "      <th>p-unc</th>\n",
       "      <th>np2</th>\n",
       "    </tr>\n",
       "  </thead>\n",
       "  <tbody>\n",
       "    <tr>\n",
       "      <th>0</th>\n",
       "      <td>fueltype</td>\n",
       "      <td>8534.085053</td>\n",
       "      <td>1</td>\n",
       "      <td>8534.085053</td>\n",
       "      <td>5.231023</td>\n",
       "      <td>0.024338</td>\n",
       "      <td>0.050673</td>\n",
       "    </tr>\n",
       "    <tr>\n",
       "      <th>1</th>\n",
       "      <td>Within</td>\n",
       "      <td>159880.824947</td>\n",
       "      <td>98</td>\n",
       "      <td>1631.436989</td>\n",
       "      <td>NaN</td>\n",
       "      <td>NaN</td>\n",
       "      <td>NaN</td>\n",
       "    </tr>\n",
       "  </tbody>\n",
       "</table>\n",
       "</div>"
      ],
      "text/plain": [
       "     Source             SS  DF           MS         F     p-unc       np2\n",
       "0  fueltype    8534.085053   1  8534.085053  5.231023  0.024338  0.050673\n",
       "1    Within  159880.824947  98  1631.436989       NaN       NaN       NaN"
      ]
     },
     "execution_count": 101,
     "metadata": {},
     "output_type": "execute_result"
    }
   ],
   "source": [
    "# Is the price of a car different across the car body types?\n",
    "# H0 There is not difference in price.\n",
    "# Ha There is a difference in price.\n",
    "pg.anova(dv=\"horsepower\", between=\"fueltype\", data=newdata1, detailed=True)"
   ]
  },
  {
   "cell_type": "markdown",
   "metadata": {},
   "source": [
    "# Correlation - Pearson correlation coefficient"
   ]
  },
  {
   "cell_type": "code",
   "execution_count": 102,
   "metadata": {},
   "outputs": [
    {
     "name": "stdout",
     "output_type": "stream",
     "text": [
      "PCC value =  -0.6516927264279304\n",
      "P-value =  0.0\n",
      "Strong negative correlation\n",
      "Reject the null hypothesis based on P-value\n"
     ]
    }
   ],
   "source": [
    "# Is there a correlation between price of the car and mileage per gallon in city?\n",
    "# H0 There is not correlation.\n",
    "# Ha There is a correlation.\n",
    "jj, kk = stats.pearsonr(newdata1[\"price\"], newdata1[\"citympg\"])\n",
    "print(\"PCC value = \", jj)\n",
    "print(\"P-value = \", round(kk,6))\n",
    "if jj >= 0.5:\n",
    "    print(\"Strong positive correlation\")\n",
    "elif jj <= -0.5:\n",
    "    print(\"Strong negative correlation\")\n",
    "else:\n",
    "    print(\"Slight positive/negative correlation\")\n",
    "    print(\"Fail to reject the null hypothesis based on P-value\")\n",
    "if kk < 0.05:\n",
    "    print(\"Reject the null hypothesis based on P-value\")\n",
    "else:\n",
    "    print(\"Fail to reject the null hypothesis based on P-value\")"
   ]
  },
  {
   "cell_type": "code",
   "execution_count": 103,
   "metadata": {},
   "outputs": [
    {
     "data": {
      "text/plain": [
       "Ttest_relResult(statistic=19.430883645860877, pvalue=1.4778390367186515e-35)"
      ]
     },
     "execution_count": 103,
     "metadata": {},
     "output_type": "execute_result"
    }
   ],
   "source": [
    "# Two sample paired T-test - Used mostly in before/after scenarios.\n",
    "stats.ttest_rel(newdata1[\"price\"], newdata1[\"horsepower\"])"
   ]
  },
  {
   "cell_type": "code",
   "execution_count": 104,
   "metadata": {},
   "outputs": [
    {
     "data": {
      "text/plain": [
       "Ttest_indResult(statistic=19.34092992983336, pvalue=1.6843510442150812e-47)"
      ]
     },
     "execution_count": 104,
     "metadata": {},
     "output_type": "execute_result"
    }
   ],
   "source": [
    "# Comparison with unpaired Two sample T-test.\n",
    "stats.ttest_ind(newdata1[\"price\"], newdata1[\"horsepower\"])"
   ]
  },
  {
   "cell_type": "markdown",
   "metadata": {},
   "source": [
    "# Linear regression"
   ]
  },
  {
   "cell_type": "code",
   "execution_count": 105,
   "metadata": {},
   "outputs": [],
   "source": [
    "ajk = pd.DataFrame({\"Vyska\":[170, 162, 189, 165, 180, 169, 182, 170, 182, 172, 180, 158, 189, 170, 199],\n",
    "    \"Vek\":[15, 19, 18, 18, 19, 30, 47, 25, 21, 44, 54, 32, 14, 39, 41],\n",
    "    \"Pohlavie\":[\"M\", \"Z\",\"M\", \"Z\",\"M\", \"Z\",\"M\", \"Z\",\"M\", \"Z\",\"M\", \"Z\",\"M\", \"Z\", \"M\"]})"
   ]
  },
  {
   "cell_type": "code",
   "execution_count": 106,
   "metadata": {},
   "outputs": [
    {
     "data": {
      "text/html": [
       "<div>\n",
       "<style scoped>\n",
       "    .dataframe tbody tr th:only-of-type {\n",
       "        vertical-align: middle;\n",
       "    }\n",
       "\n",
       "    .dataframe tbody tr th {\n",
       "        vertical-align: top;\n",
       "    }\n",
       "\n",
       "    .dataframe thead th {\n",
       "        text-align: right;\n",
       "    }\n",
       "</style>\n",
       "<table border=\"1\" class=\"dataframe\">\n",
       "  <thead>\n",
       "    <tr style=\"text-align: right;\">\n",
       "      <th></th>\n",
       "      <th>Vyska</th>\n",
       "      <th>Vek</th>\n",
       "      <th>Pohlavie</th>\n",
       "    </tr>\n",
       "  </thead>\n",
       "  <tbody>\n",
       "    <tr>\n",
       "      <th>0</th>\n",
       "      <td>170</td>\n",
       "      <td>15</td>\n",
       "      <td>M</td>\n",
       "    </tr>\n",
       "    <tr>\n",
       "      <th>1</th>\n",
       "      <td>162</td>\n",
       "      <td>19</td>\n",
       "      <td>Z</td>\n",
       "    </tr>\n",
       "    <tr>\n",
       "      <th>2</th>\n",
       "      <td>189</td>\n",
       "      <td>18</td>\n",
       "      <td>M</td>\n",
       "    </tr>\n",
       "    <tr>\n",
       "      <th>3</th>\n",
       "      <td>165</td>\n",
       "      <td>18</td>\n",
       "      <td>Z</td>\n",
       "    </tr>\n",
       "    <tr>\n",
       "      <th>4</th>\n",
       "      <td>180</td>\n",
       "      <td>19</td>\n",
       "      <td>M</td>\n",
       "    </tr>\n",
       "    <tr>\n",
       "      <th>5</th>\n",
       "      <td>169</td>\n",
       "      <td>30</td>\n",
       "      <td>Z</td>\n",
       "    </tr>\n",
       "    <tr>\n",
       "      <th>6</th>\n",
       "      <td>182</td>\n",
       "      <td>47</td>\n",
       "      <td>M</td>\n",
       "    </tr>\n",
       "    <tr>\n",
       "      <th>7</th>\n",
       "      <td>170</td>\n",
       "      <td>25</td>\n",
       "      <td>Z</td>\n",
       "    </tr>\n",
       "    <tr>\n",
       "      <th>8</th>\n",
       "      <td>182</td>\n",
       "      <td>21</td>\n",
       "      <td>M</td>\n",
       "    </tr>\n",
       "    <tr>\n",
       "      <th>9</th>\n",
       "      <td>172</td>\n",
       "      <td>44</td>\n",
       "      <td>Z</td>\n",
       "    </tr>\n",
       "    <tr>\n",
       "      <th>10</th>\n",
       "      <td>180</td>\n",
       "      <td>54</td>\n",
       "      <td>M</td>\n",
       "    </tr>\n",
       "    <tr>\n",
       "      <th>11</th>\n",
       "      <td>158</td>\n",
       "      <td>32</td>\n",
       "      <td>Z</td>\n",
       "    </tr>\n",
       "    <tr>\n",
       "      <th>12</th>\n",
       "      <td>189</td>\n",
       "      <td>14</td>\n",
       "      <td>M</td>\n",
       "    </tr>\n",
       "    <tr>\n",
       "      <th>13</th>\n",
       "      <td>170</td>\n",
       "      <td>39</td>\n",
       "      <td>Z</td>\n",
       "    </tr>\n",
       "    <tr>\n",
       "      <th>14</th>\n",
       "      <td>199</td>\n",
       "      <td>41</td>\n",
       "      <td>M</td>\n",
       "    </tr>\n",
       "  </tbody>\n",
       "</table>\n",
       "</div>"
      ],
      "text/plain": [
       "    Vyska  Vek Pohlavie\n",
       "0     170   15        M\n",
       "1     162   19        Z\n",
       "2     189   18        M\n",
       "3     165   18        Z\n",
       "4     180   19        M\n",
       "5     169   30        Z\n",
       "6     182   47        M\n",
       "7     170   25        Z\n",
       "8     182   21        M\n",
       "9     172   44        Z\n",
       "10    180   54        M\n",
       "11    158   32        Z\n",
       "12    189   14        M\n",
       "13    170   39        Z\n",
       "14    199   41        M"
      ]
     },
     "execution_count": 106,
     "metadata": {},
     "output_type": "execute_result"
    }
   ],
   "source": [
    "ajk"
   ]
  },
  {
   "cell_type": "code",
   "execution_count": 107,
   "metadata": {},
   "outputs": [],
   "source": [
    "ajklin = ols(\"Vyska ~ Vek + Pohlavie\", data=ajk).fit()"
   ]
  },
  {
   "cell_type": "code",
   "execution_count": 108,
   "metadata": {},
   "outputs": [
    {
     "name": "stdout",
     "output_type": "stream",
     "text": [
      "                            OLS Regression Results                            \n",
      "==============================================================================\n",
      "Dep. Variable:                  Vyska   R-squared:                       0.649\n",
      "Model:                            OLS   Adj. R-squared:                  0.590\n",
      "Method:                 Least Squares   F-statistic:                     11.08\n",
      "Date:                Tue, 05 Jul 2022   Prob (F-statistic):            0.00188\n",
      "Time:                        19:09:18   Log-Likelihood:                -49.277\n",
      "No. Observations:                  15   AIC:                             104.6\n",
      "Df Residuals:                      12   BIC:                             106.7\n",
      "Df Model:                           2                                         \n",
      "Covariance Type:            nonrobust                                         \n",
      "=================================================================================\n",
      "                    coef    std err          t      P>|t|      [0.025      0.975]\n",
      "---------------------------------------------------------------------------------\n",
      "Intercept       180.1592      4.960     36.322      0.000     169.352     190.966\n",
      "Pohlavie[T.Z]   -17.4264      3.743     -4.656      0.001     -25.581      -9.272\n",
      "Vek               0.1298      0.149      0.874      0.399      -0.194       0.453\n",
      "==============================================================================\n",
      "Omnibus:                        0.072   Durbin-Watson:                   1.479\n",
      "Prob(Omnibus):                  0.964   Jarque-Bera (JB):                0.094\n",
      "Skew:                           0.062   Prob(JB):                        0.954\n",
      "Kurtosis:                       2.633   Cond. No.                         88.7\n",
      "==============================================================================\n",
      "\n",
      "Notes:\n",
      "[1] Standard Errors assume that the covariance matrix of the errors is correctly specified.\n"
     ]
    },
    {
     "name": "stderr",
     "output_type": "stream",
     "text": [
      "c:\\Kiki\\Python310\\lib\\site-packages\\scipy\\stats\\_stats_py.py:1477: UserWarning: kurtosistest only valid for n>=20 ... continuing anyway, n=15\n",
      "  warnings.warn(\"kurtosistest only valid for n>=20 ... continuing \"\n"
     ]
    }
   ],
   "source": [
    "print(ajklin.summary())"
   ]
  },
  {
   "cell_type": "code",
   "execution_count": 109,
   "metadata": {},
   "outputs": [],
   "source": [
    "x123 = np.array([1,10,20,40,50,70,80,90,120])\n",
    "y123 = np.array([3,20,90,110,130,70,150,200,260])"
   ]
  },
  {
   "cell_type": "code",
   "execution_count": 110,
   "metadata": {},
   "outputs": [],
   "source": [
    "linreg = LinearRegression()"
   ]
  },
  {
   "cell_type": "code",
   "execution_count": 111,
   "metadata": {},
   "outputs": [],
   "source": [
    "x123 = x123.reshape(-1,1)"
   ]
  },
  {
   "cell_type": "code",
   "execution_count": 112,
   "metadata": {},
   "outputs": [
    {
     "data": {
      "text/plain": [
       "LinearRegression()"
      ]
     },
     "execution_count": 112,
     "metadata": {},
     "output_type": "execute_result"
    }
   ],
   "source": [
    "linreg.fit(x123,y123)"
   ]
  },
  {
   "cell_type": "code",
   "execution_count": 113,
   "metadata": {},
   "outputs": [],
   "source": [
    "y_pred  = linreg.predict(x123)"
   ]
  },
  {
   "cell_type": "code",
   "execution_count": 114,
   "metadata": {},
   "outputs": [
    {
     "data": {
      "text/plain": [
       "array([ 16.47244591,  33.34264057,  52.08730131,  89.57662279,\n",
       "       108.32128352, 145.810605  , 164.55526574, 183.29992648,\n",
       "       239.53390869])"
      ]
     },
     "execution_count": 114,
     "metadata": {},
     "output_type": "execute_result"
    }
   ],
   "source": [
    "y_pred"
   ]
  },
  {
   "cell_type": "code",
   "execution_count": 115,
   "metadata": {},
   "outputs": [
    {
     "data": {
      "text/plain": [
       "[<matplotlib.lines.Line2D at 0x250049c9a20>]"
      ]
     },
     "execution_count": 115,
     "metadata": {},
     "output_type": "execute_result"
    },
    {
     "data": {
      "image/png": "[encoded data removed]",
      "text/plain": [
       "<Figure size 432x288 with 1 Axes>"
      ]
     },
     "metadata": {
      "needs_background": "light"
     },
     "output_type": "display_data"
    }
   ],
   "source": [
    "plt.scatter(x123, y123)\n",
    "plt.plot(x123, y_pred, c=\"red\")"
   ]
  },
  {
   "cell_type": "code",
   "execution_count": 116,
   "metadata": {},
   "outputs": [
    {
     "name": "stdout",
     "output_type": "stream",
     "text": [
      "[1.87446607]\n"
     ]
    }
   ],
   "source": [
    "print(linreg.coef_)"
   ]
  },
  {
   "cell_type": "code",
   "execution_count": 117,
   "metadata": {},
   "outputs": [
    {
     "name": "stdout",
     "output_type": "stream",
     "text": [
      "14.597979833344993\n"
     ]
    }
   ],
   "source": [
    "print(linreg.intercept_)"
   ]
  },
  {
   "cell_type": "code",
   "execution_count": 118,
   "metadata": {},
   "outputs": [
    {
     "data": {
      "text/plain": [
       "16.472445903344994"
      ]
     },
     "execution_count": 118,
     "metadata": {},
     "output_type": "execute_result"
    }
   ],
   "source": [
    "1*1.87446607 + 14.597979833344993"
   ]
  },
  {
   "cell_type": "code",
   "execution_count": 119,
   "metadata": {},
   "outputs": [],
   "source": [
    "data = pd.read_csv(\"car_data_all_together.csv\")"
   ]
  },
  {
   "cell_type": "code",
   "execution_count": 120,
   "metadata": {},
   "outputs": [],
   "source": [
    "from sklearn.model_selection import train_test_split\n",
    "x_train, x_test, y_train, y_test = train_test_split(data[\"price\"], data[\"horsepower\"])"
   ]
  },
  {
   "cell_type": "code",
   "execution_count": 121,
   "metadata": {},
   "outputs": [
    {
     "data": {
      "text/plain": [
       "<AxesSubplot:xlabel='price', ylabel='horsepower'>"
      ]
     },
     "execution_count": 121,
     "metadata": {},
     "output_type": "execute_result"
    },
    {
     "data": {
      "image/png": "[encoded data removed]",
      "text/plain": [
       "<Figure size 432x288 with 1 Axes>"
      ]
     },
     "metadata": {
      "needs_background": "light"
     },
     "output_type": "display_data"
    }
   ],
   "source": [
    "sns.scatterplot(x=x_train, y=y_train, label=\"Training\", color=\"red\", alpha=0.7)\n",
    "sns.scatterplot(x=x_test, y=y_test, label=\"Training\", color=\"green\", alpha=0.7)"
   ]
  },
  {
   "cell_type": "code",
   "execution_count": 122,
   "metadata": {},
   "outputs": [
    {
     "data": {
      "text/plain": [
       "LinearRegression()"
      ]
     },
     "execution_count": 122,
     "metadata": {},
     "output_type": "execute_result"
    }
   ],
   "source": [
    "# Create linear model.\n",
    "lr = LinearRegression()\n",
    "lr.fit(x_train.values.reshape(-1,1), y_train.values)"
   ]
  },
  {
   "cell_type": "code",
   "execution_count": 123,
   "metadata": {},
   "outputs": [],
   "source": [
    "prediction = lr.predict(x_test.values.reshape(-1,1))"
   ]
  },
  {
   "cell_type": "code",
   "execution_count": 124,
   "metadata": {},
   "outputs": [
    {
     "data": {
      "image/png": "[encoded data removed]",
      "text/plain": [
       "<Figure size 432x288 with 1 Axes>"
      ]
     },
     "metadata": {
      "needs_background": "light"
     },
     "output_type": "display_data"
    }
   ],
   "source": [
    "sns.lineplot(x=x_test, y=prediction, label=\"Linear Regression\", color=\"brown\")\n",
    "sns.scatterplot(x=x_test, y=y_test, label=\"Actual Test Data\", color=\"green\", alpha=0.7)\n",
    "plt.legend()\n",
    "plt.show()"
   ]
  },
  {
   "cell_type": "code",
   "execution_count": 125,
   "metadata": {},
   "outputs": [
    {
     "name": "stdout",
     "output_type": "stream",
     "text": [
      "The predicted horsepower of a car that costs 25000 is:  152.22 hp\n"
     ]
    }
   ],
   "source": [
    "# Predict the horsepower of a car with the price of 25000.\n",
    "print(\"The predicted horsepower of a car that costs 25000 is: \", round(lr.predict([[25000]])[0],2), \"hp\")"
   ]
  },
  {
   "cell_type": "code",
   "execution_count": 127,
   "metadata": {},
   "outputs": [
    {
     "name": "stdout",
     "output_type": "stream",
     "text": [
      "[0.00402245]\n"
     ]
    }
   ],
   "source": [
    "print(lr.coef_)"
   ]
  },
  {
   "cell_type": "code",
   "execution_count": 128,
   "metadata": {},
   "outputs": [
    {
     "name": "stdout",
     "output_type": "stream",
     "text": [
      "51.6615747022555\n"
     ]
    }
   ],
   "source": [
    "print(lr.intercept_)"
   ]
  },
  {
   "cell_type": "code",
   "execution_count": 3,
   "metadata": {},
   "outputs": [
    {
     "name": "stdout",
     "output_type": "stream",
     "text": [
      "The predicted horsepower of a car that costs 25000 is:  152.22 hp\n"
     ]
    }
   ],
   "source": [
    "# Prediction of horsepower of a car that costs 25000 using y= mx + b\n",
    "print(\"The predicted horsepower of a car that costs 25000 is: \", round(0.00402245*25000 + 51.6615747022555,2), \"hp\")"
   ]
  },
  {
   "cell_type": "code",
   "execution_count": 126,
   "metadata": {},
   "outputs": [
    {
     "data": {
      "text/plain": [
       "0.7105241943276981"
      ]
     },
     "execution_count": 126,
     "metadata": {},
     "output_type": "execute_result"
    }
   ],
   "source": [
    "# Score this model.\n",
    "lr.score(x_test.values.reshape(-1,1), y_test.values)\n",
    "# The max it could get is 1.0"
   ]
  },
  {
   "cell_type": "code",
   "execution_count": null,
   "metadata": {},
   "outputs": [],
   "source": []
  }
 ],
 "metadata": {
  "kernelspec": {
   "display_name": "Python 3.10.2 64-bit",
   "language": "python",
   "name": "python3"
  },
  "language_info": {
   "codemirror_mode": {
    "name": "ipython",
    "version": 3
   },
   "file_extension": ".py",
   "mimetype": "text/x-python",
   "name": "python",
   "nbconvert_exporter": "python",
   "pygments_lexer": "ipython3",
   "version": "3.10.2"
  },
  "orig_nbformat": 4,
  "vscode": {
   "interpreter": {
    "hash": "4d8546321cadb325a106918ecab26f0085318f6086fcab55f85fe19b56b4f4f0"
   }
  }
 },
 "nbformat": 4,
 "nbformat_minor": 2
}
