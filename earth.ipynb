{
 "cells": [
  {
   "cell_type": "code",
   "execution_count": 115,
   "metadata": {},
   "outputs": [],
   "source": [
    "import pandas as pd\n",
    "import numpy as np\n",
    "import seaborn as sns\n",
    "import matplotlib.pyplot as plt\n",
    "from sklearn.metrics import plot_confusion_matrix"
   ]
  },
  {
   "cell_type": "code",
   "execution_count": 116,
   "metadata": {},
   "outputs": [],
   "source": [
    "data = pd.read_csv(\"neo.csv\")"
   ]
  },
  {
   "cell_type": "markdown",
   "metadata": {},
   "source": [
    "# Data analysis"
   ]
  },
  {
   "cell_type": "code",
   "execution_count": 117,
   "metadata": {},
   "outputs": [
    {
     "data": {
      "text/html": [
       "<div>\n",
       "<style scoped>\n",
       "    .dataframe tbody tr th:only-of-type {\n",
       "        vertical-align: middle;\n",
       "    }\n",
       "\n",
       "    .dataframe tbody tr th {\n",
       "        vertical-align: top;\n",
       "    }\n",
       "\n",
       "    .dataframe thead th {\n",
       "        text-align: right;\n",
       "    }\n",
       "</style>\n",
       "<table border=\"1\" class=\"dataframe\">\n",
       "  <thead>\n",
       "    <tr style=\"text-align: right;\">\n",
       "      <th></th>\n",
       "      <th>id</th>\n",
       "      <th>name</th>\n",
       "      <th>est_diameter_min</th>\n",
       "      <th>est_diameter_max</th>\n",
       "      <th>relative_velocity</th>\n",
       "      <th>miss_distance</th>\n",
       "      <th>orbiting_body</th>\n",
       "      <th>sentry_object</th>\n",
       "      <th>absolute_magnitude</th>\n",
       "      <th>hazardous</th>\n",
       "    </tr>\n",
       "  </thead>\n",
       "  <tbody>\n",
       "    <tr>\n",
       "      <th>0</th>\n",
       "      <td>2162635</td>\n",
       "      <td>162635 (2000 SS164)</td>\n",
       "      <td>1.198271</td>\n",
       "      <td>2.679415</td>\n",
       "      <td>13569.249224</td>\n",
       "      <td>5.483974e+07</td>\n",
       "      <td>Earth</td>\n",
       "      <td>False</td>\n",
       "      <td>16.73</td>\n",
       "      <td>False</td>\n",
       "    </tr>\n",
       "    <tr>\n",
       "      <th>1</th>\n",
       "      <td>2277475</td>\n",
       "      <td>277475 (2005 WK4)</td>\n",
       "      <td>0.265800</td>\n",
       "      <td>0.594347</td>\n",
       "      <td>73588.726663</td>\n",
       "      <td>6.143813e+07</td>\n",
       "      <td>Earth</td>\n",
       "      <td>False</td>\n",
       "      <td>20.00</td>\n",
       "      <td>True</td>\n",
       "    </tr>\n",
       "    <tr>\n",
       "      <th>2</th>\n",
       "      <td>2512244</td>\n",
       "      <td>512244 (2015 YE18)</td>\n",
       "      <td>0.722030</td>\n",
       "      <td>1.614507</td>\n",
       "      <td>114258.692129</td>\n",
       "      <td>4.979872e+07</td>\n",
       "      <td>Earth</td>\n",
       "      <td>False</td>\n",
       "      <td>17.83</td>\n",
       "      <td>False</td>\n",
       "    </tr>\n",
       "    <tr>\n",
       "      <th>3</th>\n",
       "      <td>3596030</td>\n",
       "      <td>(2012 BV13)</td>\n",
       "      <td>0.096506</td>\n",
       "      <td>0.215794</td>\n",
       "      <td>24764.303138</td>\n",
       "      <td>2.543497e+07</td>\n",
       "      <td>Earth</td>\n",
       "      <td>False</td>\n",
       "      <td>22.20</td>\n",
       "      <td>False</td>\n",
       "    </tr>\n",
       "    <tr>\n",
       "      <th>4</th>\n",
       "      <td>3667127</td>\n",
       "      <td>(2014 GE35)</td>\n",
       "      <td>0.255009</td>\n",
       "      <td>0.570217</td>\n",
       "      <td>42737.733765</td>\n",
       "      <td>4.627557e+07</td>\n",
       "      <td>Earth</td>\n",
       "      <td>False</td>\n",
       "      <td>20.09</td>\n",
       "      <td>True</td>\n",
       "    </tr>\n",
       "  </tbody>\n",
       "</table>\n",
       "</div>"
      ],
      "text/plain": [
       "        id                 name  est_diameter_min  est_diameter_max  \\\n",
       "0  2162635  162635 (2000 SS164)          1.198271          2.679415   \n",
       "1  2277475    277475 (2005 WK4)          0.265800          0.594347   \n",
       "2  2512244   512244 (2015 YE18)          0.722030          1.614507   \n",
       "3  3596030          (2012 BV13)          0.096506          0.215794   \n",
       "4  3667127          (2014 GE35)          0.255009          0.570217   \n",
       "\n",
       "   relative_velocity  miss_distance orbiting_body  sentry_object  \\\n",
       "0       13569.249224   5.483974e+07         Earth          False   \n",
       "1       73588.726663   6.143813e+07         Earth          False   \n",
       "2      114258.692129   4.979872e+07         Earth          False   \n",
       "3       24764.303138   2.543497e+07         Earth          False   \n",
       "4       42737.733765   4.627557e+07         Earth          False   \n",
       "\n",
       "   absolute_magnitude  hazardous  \n",
       "0               16.73      False  \n",
       "1               20.00       True  \n",
       "2               17.83      False  \n",
       "3               22.20      False  \n",
       "4               20.09       True  "
      ]
     },
     "execution_count": 117,
     "metadata": {},
     "output_type": "execute_result"
    }
   ],
   "source": [
    "data.head()"
   ]
  },
  {
   "cell_type": "code",
   "execution_count": 118,
   "metadata": {},
   "outputs": [
    {
     "data": {
      "text/html": [
       "<div>\n",
       "<style scoped>\n",
       "    .dataframe tbody tr th:only-of-type {\n",
       "        vertical-align: middle;\n",
       "    }\n",
       "\n",
       "    .dataframe tbody tr th {\n",
       "        vertical-align: top;\n",
       "    }\n",
       "\n",
       "    .dataframe thead th {\n",
       "        text-align: right;\n",
       "    }\n",
       "</style>\n",
       "<table border=\"1\" class=\"dataframe\">\n",
       "  <thead>\n",
       "    <tr style=\"text-align: right;\">\n",
       "      <th></th>\n",
       "      <th>id</th>\n",
       "      <th>est_diameter_min</th>\n",
       "      <th>est_diameter_max</th>\n",
       "      <th>relative_velocity</th>\n",
       "      <th>miss_distance</th>\n",
       "      <th>absolute_magnitude</th>\n",
       "    </tr>\n",
       "  </thead>\n",
       "  <tbody>\n",
       "    <tr>\n",
       "      <th>count</th>\n",
       "      <td>9.083600e+04</td>\n",
       "      <td>90836.000000</td>\n",
       "      <td>90836.000000</td>\n",
       "      <td>90836.000000</td>\n",
       "      <td>9.083600e+04</td>\n",
       "      <td>90836.000000</td>\n",
       "    </tr>\n",
       "    <tr>\n",
       "      <th>mean</th>\n",
       "      <td>1.438288e+07</td>\n",
       "      <td>0.127432</td>\n",
       "      <td>0.284947</td>\n",
       "      <td>48066.918918</td>\n",
       "      <td>3.706655e+07</td>\n",
       "      <td>23.527103</td>\n",
       "    </tr>\n",
       "    <tr>\n",
       "      <th>std</th>\n",
       "      <td>2.087202e+07</td>\n",
       "      <td>0.298511</td>\n",
       "      <td>0.667491</td>\n",
       "      <td>25293.296961</td>\n",
       "      <td>2.235204e+07</td>\n",
       "      <td>2.894086</td>\n",
       "    </tr>\n",
       "    <tr>\n",
       "      <th>min</th>\n",
       "      <td>2.000433e+06</td>\n",
       "      <td>0.000609</td>\n",
       "      <td>0.001362</td>\n",
       "      <td>203.346433</td>\n",
       "      <td>6.745533e+03</td>\n",
       "      <td>9.230000</td>\n",
       "    </tr>\n",
       "    <tr>\n",
       "      <th>25%</th>\n",
       "      <td>3.448110e+06</td>\n",
       "      <td>0.019256</td>\n",
       "      <td>0.043057</td>\n",
       "      <td>28619.020645</td>\n",
       "      <td>1.721082e+07</td>\n",
       "      <td>21.340000</td>\n",
       "    </tr>\n",
       "    <tr>\n",
       "      <th>50%</th>\n",
       "      <td>3.748362e+06</td>\n",
       "      <td>0.048368</td>\n",
       "      <td>0.108153</td>\n",
       "      <td>44190.117890</td>\n",
       "      <td>3.784658e+07</td>\n",
       "      <td>23.700000</td>\n",
       "    </tr>\n",
       "    <tr>\n",
       "      <th>75%</th>\n",
       "      <td>3.884023e+06</td>\n",
       "      <td>0.143402</td>\n",
       "      <td>0.320656</td>\n",
       "      <td>62923.604633</td>\n",
       "      <td>5.654900e+07</td>\n",
       "      <td>25.700000</td>\n",
       "    </tr>\n",
       "    <tr>\n",
       "      <th>max</th>\n",
       "      <td>5.427591e+07</td>\n",
       "      <td>37.892650</td>\n",
       "      <td>84.730541</td>\n",
       "      <td>236990.128088</td>\n",
       "      <td>7.479865e+07</td>\n",
       "      <td>33.200000</td>\n",
       "    </tr>\n",
       "  </tbody>\n",
       "</table>\n",
       "</div>"
      ],
      "text/plain": [
       "                 id  est_diameter_min  est_diameter_max  relative_velocity  \\\n",
       "count  9.083600e+04      90836.000000      90836.000000       90836.000000   \n",
       "mean   1.438288e+07          0.127432          0.284947       48066.918918   \n",
       "std    2.087202e+07          0.298511          0.667491       25293.296961   \n",
       "min    2.000433e+06          0.000609          0.001362         203.346433   \n",
       "25%    3.448110e+06          0.019256          0.043057       28619.020645   \n",
       "50%    3.748362e+06          0.048368          0.108153       44190.117890   \n",
       "75%    3.884023e+06          0.143402          0.320656       62923.604633   \n",
       "max    5.427591e+07         37.892650         84.730541      236990.128088   \n",
       "\n",
       "       miss_distance  absolute_magnitude  \n",
       "count   9.083600e+04        90836.000000  \n",
       "mean    3.706655e+07           23.527103  \n",
       "std     2.235204e+07            2.894086  \n",
       "min     6.745533e+03            9.230000  \n",
       "25%     1.721082e+07           21.340000  \n",
       "50%     3.784658e+07           23.700000  \n",
       "75%     5.654900e+07           25.700000  \n",
       "max     7.479865e+07           33.200000  "
      ]
     },
     "execution_count": 118,
     "metadata": {},
     "output_type": "execute_result"
    }
   ],
   "source": [
    "data.describe()"
   ]
  },
  {
   "cell_type": "code",
   "execution_count": 119,
   "metadata": {},
   "outputs": [
    {
     "name": "stdout",
     "output_type": "stream",
     "text": [
      "<class 'pandas.core.frame.DataFrame'>\n",
      "RangeIndex: 90836 entries, 0 to 90835\n",
      "Data columns (total 10 columns):\n",
      " #   Column              Non-Null Count  Dtype  \n",
      "---  ------              --------------  -----  \n",
      " 0   id                  90836 non-null  int64  \n",
      " 1   name                90836 non-null  object \n",
      " 2   est_diameter_min    90836 non-null  float64\n",
      " 3   est_diameter_max    90836 non-null  float64\n",
      " 4   relative_velocity   90836 non-null  float64\n",
      " 5   miss_distance       90836 non-null  float64\n",
      " 6   orbiting_body       90836 non-null  object \n",
      " 7   sentry_object       90836 non-null  bool   \n",
      " 8   absolute_magnitude  90836 non-null  float64\n",
      " 9   hazardous           90836 non-null  bool   \n",
      "dtypes: bool(2), float64(5), int64(1), object(2)\n",
      "memory usage: 5.7+ MB\n"
     ]
    }
   ],
   "source": [
    "data.info()"
   ]
  },
  {
   "cell_type": "code",
   "execution_count": 120,
   "metadata": {},
   "outputs": [
    {
     "data": {
      "text/plain": [
       "id                    0\n",
       "name                  0\n",
       "est_diameter_min      0\n",
       "est_diameter_max      0\n",
       "relative_velocity     0\n",
       "miss_distance         0\n",
       "orbiting_body         0\n",
       "sentry_object         0\n",
       "absolute_magnitude    0\n",
       "hazardous             0\n",
       "dtype: int64"
      ]
     },
     "execution_count": 120,
     "metadata": {},
     "output_type": "execute_result"
    }
   ],
   "source": [
    "data.isna().sum()"
   ]
  },
  {
   "cell_type": "code",
   "execution_count": 121,
   "metadata": {},
   "outputs": [
    {
     "name": "stdout",
     "output_type": "stream",
     "text": [
      "orbiting_body\n",
      "Earth    90836\n",
      "Name: orbiting_body, dtype: int64\n",
      "sentry_object\n",
      "False    90836\n",
      "Name: sentry_object, dtype: int64\n",
      "hazardous\n",
      "False    81996\n",
      "True      8840\n",
      "Name: hazardous, dtype: int64\n"
     ]
    }
   ],
   "source": [
    "for i in [\"orbiting_body\",\"sentry_object\",\"hazardous\"]:\n",
    "    print(i)\n",
    "    print(data[i].value_counts())"
   ]
  },
  {
   "cell_type": "code",
   "execution_count": 122,
   "metadata": {},
   "outputs": [],
   "source": [
    "data.drop(columns=[\"id\",\"name\",\"orbiting_body\",\"sentry_object\"], inplace=True)"
   ]
  },
  {
   "cell_type": "code",
   "execution_count": 123,
   "metadata": {},
   "outputs": [
    {
     "data": {
      "text/plain": [
       "Index(['est_diameter_min', 'est_diameter_max', 'relative_velocity',\n",
       "       'miss_distance', 'absolute_magnitude'],\n",
       "      dtype='object')"
      ]
     },
     "execution_count": 123,
     "metadata": {},
     "output_type": "execute_result"
    }
   ],
   "source": [
    "data.select_dtypes(include=\"number\").columns"
   ]
  },
  {
   "cell_type": "code",
   "execution_count": 124,
   "metadata": {},
   "outputs": [
    {
     "data": {
      "image/png": "[encoded data removed]",
      "text/plain": [
       "<Figure size 432x288 with 1 Axes>"
      ]
     },
     "metadata": {
      "needs_background": "light"
     },
     "output_type": "display_data"
    },
    {
     "data": {
      "image/png": "[encoded data removed]",
      "text/plain": [
       "<Figure size 432x288 with 1 Axes>"
      ]
     },
     "metadata": {
      "needs_background": "light"
     },
     "output_type": "display_data"
    },
    {
     "data": {
      "image/png": "[encoded data removed]",
      "text/plain": [
       "<Figure size 432x288 with 1 Axes>"
      ]
     },
     "metadata": {
      "needs_background": "light"
     },
     "output_type": "display_data"
    },
    {
     "data": {
      "image/png": "[encoded data removed]",
      "text/plain": [
       "<Figure size 432x288 with 1 Axes>"
      ]
     },
     "metadata": {
      "needs_background": "light"
     },
     "output_type": "display_data"
    },
    {
     "data": {
      "image/png": "[encoded data removed]",
      "text/plain": [
       "<Figure size 432x288 with 1 Axes>"
      ]
     },
     "metadata": {
      "needs_background": "light"
     },
     "output_type": "display_data"
    }
   ],
   "source": [
    "for i in ['est_diameter_min', 'est_diameter_max', 'relative_velocity',\n",
    "       'miss_distance', 'absolute_magnitude']:\n",
    "       plt.subplots()\n",
    "       sns.boxplot(x=i, data=data, color=\"#E14625\")\n",
    "       plt.show()"
   ]
  },
  {
   "cell_type": "code",
   "execution_count": 127,
   "metadata": {},
   "outputs": [
    {
     "data": {
      "text/html": [
       "<div>\n",
       "<style scoped>\n",
       "    .dataframe tbody tr th:only-of-type {\n",
       "        vertical-align: middle;\n",
       "    }\n",
       "\n",
       "    .dataframe tbody tr th {\n",
       "        vertical-align: top;\n",
       "    }\n",
       "\n",
       "    .dataframe thead th {\n",
       "        text-align: right;\n",
       "    }\n",
       "</style>\n",
       "<table border=\"1\" class=\"dataframe\">\n",
       "  <thead>\n",
       "    <tr style=\"text-align: right;\">\n",
       "      <th></th>\n",
       "      <th>est_diameter_min</th>\n",
       "      <th>est_diameter_max</th>\n",
       "      <th>relative_velocity</th>\n",
       "      <th>miss_distance</th>\n",
       "      <th>absolute_magnitude</th>\n",
       "      <th>hazardous</th>\n",
       "    </tr>\n",
       "  </thead>\n",
       "  <tbody>\n",
       "    <tr>\n",
       "      <th>0</th>\n",
       "      <td>1.198271</td>\n",
       "      <td>2.679415</td>\n",
       "      <td>13569.249224</td>\n",
       "      <td>5.483974e+07</td>\n",
       "      <td>16.73</td>\n",
       "      <td>False</td>\n",
       "    </tr>\n",
       "    <tr>\n",
       "      <th>1</th>\n",
       "      <td>0.265800</td>\n",
       "      <td>0.594347</td>\n",
       "      <td>73588.726663</td>\n",
       "      <td>6.143813e+07</td>\n",
       "      <td>20.00</td>\n",
       "      <td>True</td>\n",
       "    </tr>\n",
       "    <tr>\n",
       "      <th>2</th>\n",
       "      <td>0.722030</td>\n",
       "      <td>1.614507</td>\n",
       "      <td>114258.692129</td>\n",
       "      <td>4.979872e+07</td>\n",
       "      <td>17.83</td>\n",
       "      <td>False</td>\n",
       "    </tr>\n",
       "    <tr>\n",
       "      <th>3</th>\n",
       "      <td>0.096506</td>\n",
       "      <td>0.215794</td>\n",
       "      <td>24764.303138</td>\n",
       "      <td>2.543497e+07</td>\n",
       "      <td>22.20</td>\n",
       "      <td>False</td>\n",
       "    </tr>\n",
       "    <tr>\n",
       "      <th>4</th>\n",
       "      <td>0.255009</td>\n",
       "      <td>0.570217</td>\n",
       "      <td>42737.733765</td>\n",
       "      <td>4.627557e+07</td>\n",
       "      <td>20.09</td>\n",
       "      <td>True</td>\n",
       "    </tr>\n",
       "  </tbody>\n",
       "</table>\n",
       "</div>"
      ],
      "text/plain": [
       "   est_diameter_min  est_diameter_max  relative_velocity  miss_distance  \\\n",
       "0          1.198271          2.679415       13569.249224   5.483974e+07   \n",
       "1          0.265800          0.594347       73588.726663   6.143813e+07   \n",
       "2          0.722030          1.614507      114258.692129   4.979872e+07   \n",
       "3          0.096506          0.215794       24764.303138   2.543497e+07   \n",
       "4          0.255009          0.570217       42737.733765   4.627557e+07   \n",
       "\n",
       "   absolute_magnitude  hazardous  \n",
       "0               16.73      False  \n",
       "1               20.00       True  \n",
       "2               17.83      False  \n",
       "3               22.20      False  \n",
       "4               20.09       True  "
      ]
     },
     "execution_count": 127,
     "metadata": {},
     "output_type": "execute_result"
    }
   ],
   "source": [
    "data = data[~((data[\"est_diameter_min\"] > 20)  | (data[\"est_diameter_max\"] > 40)  | (data[\"relative_velocity\"] > 200000))]\n",
    "data.head()"
   ]
  },
  {
   "cell_type": "code",
   "execution_count": 128,
   "metadata": {},
   "outputs": [
    {
     "data": {
      "text/html": [
       "<div>\n",
       "<style scoped>\n",
       "    .dataframe tbody tr th:only-of-type {\n",
       "        vertical-align: middle;\n",
       "    }\n",
       "\n",
       "    .dataframe tbody tr th {\n",
       "        vertical-align: top;\n",
       "    }\n",
       "\n",
       "    .dataframe thead th {\n",
       "        text-align: right;\n",
       "    }\n",
       "</style>\n",
       "<table border=\"1\" class=\"dataframe\">\n",
       "  <thead>\n",
       "    <tr style=\"text-align: right;\">\n",
       "      <th></th>\n",
       "      <th>est_diameter_min</th>\n",
       "      <th>est_diameter_max</th>\n",
       "      <th>relative_velocity</th>\n",
       "      <th>miss_distance</th>\n",
       "      <th>absolute_magnitude</th>\n",
       "    </tr>\n",
       "  </thead>\n",
       "  <tbody>\n",
       "    <tr>\n",
       "      <th>count</th>\n",
       "      <td>90829.000000</td>\n",
       "      <td>90829.000000</td>\n",
       "      <td>90829.000000</td>\n",
       "      <td>9.082900e+04</td>\n",
       "      <td>90829.000000</td>\n",
       "    </tr>\n",
       "    <tr>\n",
       "      <th>mean</th>\n",
       "      <td>0.126249</td>\n",
       "      <td>0.282302</td>\n",
       "      <td>48062.003327</td>\n",
       "      <td>3.706596e+07</td>\n",
       "      <td>23.527825</td>\n",
       "    </tr>\n",
       "    <tr>\n",
       "      <th>std</th>\n",
       "      <td>0.236772</td>\n",
       "      <td>0.529439</td>\n",
       "      <td>25273.387220</td>\n",
       "      <td>2.235224e+07</td>\n",
       "      <td>2.892701</td>\n",
       "    </tr>\n",
       "    <tr>\n",
       "      <th>min</th>\n",
       "      <td>0.000609</td>\n",
       "      <td>0.001362</td>\n",
       "      <td>203.346433</td>\n",
       "      <td>6.745533e+03</td>\n",
       "      <td>12.440000</td>\n",
       "    </tr>\n",
       "    <tr>\n",
       "      <th>25%</th>\n",
       "      <td>0.019256</td>\n",
       "      <td>0.043057</td>\n",
       "      <td>28620.245496</td>\n",
       "      <td>1.721065e+07</td>\n",
       "      <td>21.340000</td>\n",
       "    </tr>\n",
       "    <tr>\n",
       "      <th>50%</th>\n",
       "      <td>0.048368</td>\n",
       "      <td>0.108153</td>\n",
       "      <td>44190.108201</td>\n",
       "      <td>3.784584e+07</td>\n",
       "      <td>23.700000</td>\n",
       "    </tr>\n",
       "    <tr>\n",
       "      <th>75%</th>\n",
       "      <td>0.143402</td>\n",
       "      <td>0.320656</td>\n",
       "      <td>62921.957723</td>\n",
       "      <td>5.654838e+07</td>\n",
       "      <td>25.700000</td>\n",
       "    </tr>\n",
       "    <tr>\n",
       "      <th>max</th>\n",
       "      <td>8.640820</td>\n",
       "      <td>19.321462</td>\n",
       "      <td>194056.414989</td>\n",
       "      <td>7.479865e+07</td>\n",
       "      <td>33.200000</td>\n",
       "    </tr>\n",
       "  </tbody>\n",
       "</table>\n",
       "</div>"
      ],
      "text/plain": [
       "       est_diameter_min  est_diameter_max  relative_velocity  miss_distance  \\\n",
       "count      90829.000000      90829.000000       90829.000000   9.082900e+04   \n",
       "mean           0.126249          0.282302       48062.003327   3.706596e+07   \n",
       "std            0.236772          0.529439       25273.387220   2.235224e+07   \n",
       "min            0.000609          0.001362         203.346433   6.745533e+03   \n",
       "25%            0.019256          0.043057       28620.245496   1.721065e+07   \n",
       "50%            0.048368          0.108153       44190.108201   3.784584e+07   \n",
       "75%            0.143402          0.320656       62921.957723   5.654838e+07   \n",
       "max            8.640820         19.321462      194056.414989   7.479865e+07   \n",
       "\n",
       "       absolute_magnitude  \n",
       "count        90829.000000  \n",
       "mean            23.527825  \n",
       "std              2.892701  \n",
       "min             12.440000  \n",
       "25%             21.340000  \n",
       "50%             23.700000  \n",
       "75%             25.700000  \n",
       "max             33.200000  "
      ]
     },
     "execution_count": 128,
     "metadata": {},
     "output_type": "execute_result"
    }
   ],
   "source": [
    "data.describe()"
   ]
  },
  {
   "cell_type": "code",
   "execution_count": 77,
   "metadata": {},
   "outputs": [
    {
     "data": {
      "image/png": "[encoded data removed]",
      "text/plain": [
       "<Figure size 432x288 with 1 Axes>"
      ]
     },
     "metadata": {
      "needs_background": "light"
     },
     "output_type": "display_data"
    }
   ],
   "source": [
    "haz = sns.countplot(x=\"hazardous\", data=data, palette=\"magma\")\n",
    "haz.bar_label(haz.containers[0])\n",
    "plt.title(\"Original dataset - hazardous classes\")\n",
    "plt.show()"
   ]
  },
  {
   "cell_type": "code",
   "execution_count": 78,
   "metadata": {},
   "outputs": [],
   "source": [
    "X = data.drop(columns=\"hazardous\")\n",
    "Y = data[\"hazardous\"]"
   ]
  },
  {
   "cell_type": "code",
   "execution_count": 79,
   "metadata": {},
   "outputs": [],
   "source": [
    "# Splitting the data into Training & Testing\n",
    "from sklearn.model_selection import train_test_split\n",
    "xTrain, xTest, yTrain, yTest = train_test_split(X, Y)"
   ]
  },
  {
   "cell_type": "code",
   "execution_count": 80,
   "metadata": {},
   "outputs": [
    {
     "name": "stdout",
     "output_type": "stream",
     "text": [
      "(68121, 5)\n",
      "(22708, 5)\n",
      "(68121,)\n",
      "(22708,)\n"
     ]
    }
   ],
   "source": [
    "print(xTrain.shape)\n",
    "print(xTest.shape)\n",
    "print(yTrain.shape) \n",
    "print(yTest.shape)"
   ]
  },
  {
   "cell_type": "code",
   "execution_count": 81,
   "metadata": {},
   "outputs": [],
   "source": [
    "# Importing metrics\n",
    "from sklearn.metrics import classification_report, recall_score, precision_score, f1_score\n",
    "from sklearn.model_selection import cross_val_score"
   ]
  },
  {
   "cell_type": "code",
   "execution_count": 82,
   "metadata": {},
   "outputs": [],
   "source": [
    "results = pd.DataFrame(columns=[\"Model\",\"TrainScore\",\"TestScore\",\"PrecisionTrue\", \"RecalTrue\"])"
   ]
  },
  {
   "cell_type": "code",
   "execution_count": 83,
   "metadata": {},
   "outputs": [],
   "source": [
    "import warnings\n",
    "warnings.filterwarnings(\"ignore\")"
   ]
  },
  {
   "cell_type": "code",
   "execution_count": 84,
   "metadata": {},
   "outputs": [],
   "source": [
    "# Defining a function for metrics.\n",
    "# Logistic Regression\n",
    "# GaussianNB\n",
    "# DecisionTreeClassifier\n",
    "# RandomForestClassifier\n",
    "# KNN\n",
    "# SVC\n",
    "# XGB\n",
    "def classificationmodel(test):\n",
    "    test.fit(xTrain, yTrain)\n",
    "    scoretrain = test.score(xTrain, yTrain)\n",
    "    scoretest = test.score(xTest, yTest)\n",
    "    print(\"Score of the training dataset:\", test.score(xTrain, yTrain))\n",
    "    print(\"Score of the testing dataset:\", test.score(xTest, yTest), \"\\n\")\n",
    "    print(\"Classification report on Testing split:\")\n",
    "    print(classification_report(yTest, test.predict(xTest)))\n",
    "    plot_confusion_matrix(test, xTest, yTest)\n",
    "    if len(results.index) == 0:\n",
    "        results.loc[len(results.index)] = [\"LR\", scoretrain, scoretest, precision_score(y_true=yTest, y_pred=test.predict(xTest), pos_label=True), recall_score(y_true=yTest, y_pred=test.predict(xTest), pos_label=True)]\n",
    "    elif len(results.index) == 1:\n",
    "        results.loc[len(results.index)] = [\"GNB\", scoretrain, scoretest, precision_score(y_true=yTest, y_pred=test.predict(xTest), pos_label=True), recall_score(y_true=yTest, y_pred=test.predict(xTest), pos_label=True)]\n",
    "    elif len(results.index) == 2:\n",
    "        results.loc[len(results.index)] = [\"DTC\", scoretrain, scoretest, precision_score(y_true=yTest, y_pred=test.predict(xTest), pos_label=True), recall_score(y_true=yTest, y_pred=test.predict(xTest), pos_label=True)]\n",
    "    elif len(results.index) == 3:\n",
    "        results.loc[len(results.index)] = [\"RFC\", scoretrain, scoretest, precision_score(y_true=yTest, y_pred=test.predict(xTest), pos_label=True), recall_score(y_true=yTest, y_pred=test.predict(xTest), pos_label=True)]\n",
    "    elif len(results.index) == 4:\n",
    "        results.loc[len(results.index)] = [\"KNN\", scoretrain, scoretest, precision_score(y_true=yTest, y_pred=test.predict(xTest), pos_label=True), recall_score(y_true=yTest, y_pred=test.predict(xTest), pos_label=True)]\n",
    "    elif len(results.index) == 5:\n",
    "        results.loc[len(results.index)] = [\"GBC\", scoretrain, scoretest, precision_score(y_true=yTest, y_pred=test.predict(xTest), pos_label=True), recall_score(y_true=yTest, y_pred=test.predict(xTest), pos_label=True)]\n",
    "    elif len(results.index) == 6:\n",
    "        results.loc[len(results.index)] = [\"XGB\", scoretrain, scoretest, precision_score(y_true=yTest, y_pred=test.predict(xTest), pos_label=True), recall_score(y_true=yTest, y_pred=test.predict(xTest), pos_label=True)]\n",
    "\n",
    "def crossval(m):\n",
    "    print(\"Cross-validation on Training split (mean):\")\n",
    "    for i in [\"accuracy\",\"precision\",\"recall\"]:\n",
    "        print(i.upper())\n",
    "        print(cross_val_score(m, xTrain, yTrain, scoring=i).mean())\n",
    "    print(\"\\n\")"
   ]
  },
  {
   "cell_type": "markdown",
   "metadata": {},
   "source": [
    "# Trying the first two models"
   ]
  },
  {
   "cell_type": "code",
   "execution_count": 85,
   "metadata": {},
   "outputs": [
    {
     "name": "stdout",
     "output_type": "stream",
     "text": [
      "Cross-validation on Training split (mean):\n",
      "ACCURACY\n",
      "0.902541066762917\n",
      "PRECISION\n",
      "0.0\n",
      "RECALL\n",
      "0.0\n",
      "\n",
      "\n",
      "Score of the training dataset: 0.9025410666314352\n",
      "Score of the testing dataset: 0.9030738065879866 \n",
      "\n",
      "Classification report on Testing split:\n",
      "              precision    recall  f1-score   support\n",
      "\n",
      "       False       0.90      1.00      0.95     20507\n",
      "        True       0.00      0.00      0.00      2201\n",
      "\n",
      "    accuracy                           0.90     22708\n",
      "   macro avg       0.45      0.50      0.47     22708\n",
      "weighted avg       0.82      0.90      0.86     22708\n",
      "\n"
     ]
    },
    {
     "data": {
      "image/png": "[encoded data removed]",
      "text/plain": [
       "<Figure size 432x288 with 2 Axes>"
      ]
     },
     "metadata": {
      "needs_background": "light"
     },
     "output_type": "display_data"
    }
   ],
   "source": [
    "from sklearn.linear_model import LogisticRegression\n",
    "LR = LogisticRegression()\n",
    "crossval(LR)\n",
    "classificationmodel(LR)"
   ]
  },
  {
   "cell_type": "code",
   "execution_count": 86,
   "metadata": {},
   "outputs": [
    {
     "name": "stdout",
     "output_type": "stream",
     "text": [
      "Cross-validation on Training split (mean):\n",
      "ACCURACY\n",
      "0.8968306173132141\n",
      "PRECISION\n",
      "0.28020011605894873\n",
      "RECALL\n",
      "0.03569844562878492\n",
      "\n",
      "\n",
      "Score of the training dataset: 0.8968453193582009\n",
      "Score of the testing dataset: 0.897789325347895 \n",
      "\n",
      "Classification report on Testing split:\n",
      "              precision    recall  f1-score   support\n",
      "\n",
      "       False       0.91      0.99      0.95     20507\n",
      "        True       0.28      0.03      0.06      2201\n",
      "\n",
      "    accuracy                           0.90     22708\n",
      "   macro avg       0.59      0.51      0.50     22708\n",
      "weighted avg       0.84      0.90      0.86     22708\n",
      "\n"
     ]
    },
    {
     "data": {
      "image/png": "[encoded data removed]",
      "text/plain": [
       "<Figure size 432x288 with 2 Axes>"
      ]
     },
     "metadata": {
      "needs_background": "light"
     },
     "output_type": "display_data"
    }
   ],
   "source": [
    "from sklearn.naive_bayes import GaussianNB\n",
    "GSS = GaussianNB()\n",
    "crossval(GSS)\n",
    "classificationmodel(GSS)"
   ]
  },
  {
   "cell_type": "markdown",
   "metadata": {},
   "source": [
    "# Feature engineering"
   ]
  },
  {
   "cell_type": "code",
   "execution_count": 87,
   "metadata": {},
   "outputs": [],
   "source": [
    "def transformization(tran):\n",
    "    global xTrain, yTrain\n",
    "    if tran == \"stand\":\n",
    "        print(\"You have selected Standardization.\")\n",
    "        from sklearn.preprocessing import StandardScaler\n",
    "        scaler = StandardScaler()\n",
    "        scaled = scaler.fit_transform(X)\n",
    "        xTrain, xTest, yTrain, yTest = train_test_split(scaled,Y)\n",
    "        xTrain = pd.DataFrame(xTrain, columns=X.columns)\n",
    "        xTest = pd.DataFrame(xTest, columns=X.columns)\n",
    "\n",
    "    elif tran == \"norm\":\n",
    "        print(\"You have selected Normalization.\")\n",
    "        from sklearn.preprocessing import MinMaxScaler\n",
    "        norm = MinMaxScaler()\n",
    "        normed = norm.fit_transform(X)\n",
    "        xTrain, xTest, yTrain, yTest = train_test_split(normed,Y)\n",
    "        xTrain = pd.DataFrame(xTrain, columns=X.columns)\n",
    "        xTest = pd.DataFrame(xTest, columns=X.columns)\n",
    "        \n",
    "    else:\n",
    "        print(\"You didn't select any type of transformation of features, proceeding with the original dataset.\")\n",
    "\n",
    "\n",
    "def classdist(classd):\n",
    "    global xTrain, yTrain\n",
    "    if classd == \"over\":\n",
    "        print(\"You have selected Oversampling.\")\n",
    "        from imblearn.over_sampling import RandomOverSampler\n",
    "        ros = RandomOverSampler(sampling_strategy=\"minority\")\n",
    "        xTrain, yTrain = ros.fit_resample(xTrain, yTrain)\n",
    "    elif classd == \"smote\":\n",
    "        print(\"You have selected SMOTE.\")\n",
    "        from imblearn.over_sampling import SMOTE\n",
    "        smote = SMOTE(random_state = 42)\n",
    "        xTrain, yTrain = smote.fit_resample(xTrain, yTrain)\n",
    "    elif classd == \"under\":\n",
    "        print(\"You have selected Undersampling.\")\n",
    "        from imblearn.under_sampling import RandomUnderSampler\n",
    "        ros = RandomUnderSampler(sampling_strategy=\"majority\")\n",
    "        xTrain, yTrain = ros.fit_resample(xTrain, yTrain)\n",
    "    else:\n",
    "        print(\"You didn't select any class sampling technique, proceeding with the original dataset.\")\n",
    "\n"
   ]
  },
  {
   "cell_type": "code",
   "execution_count": 88,
   "metadata": {},
   "outputs": [],
   "source": [
    "results = pd.DataFrame(columns=[\"Model\",\"TrainScore\",\"TestScore\",\"PrecisionTrue\",\"RecalTrue\"])"
   ]
  },
  {
   "cell_type": "code",
   "execution_count": 89,
   "metadata": {},
   "outputs": [
    {
     "name": "stdout",
     "output_type": "stream",
     "text": [
      "You didn't select any type of transformation of features, proceeding with the original dataset.\n"
     ]
    }
   ],
   "source": [
    "# TRANSFORMATION OF FEATURES\n",
    "# Standardization - \"stand\"\n",
    "# Normalizazion - \"norm\"\n",
    "# None - \"none\"\n",
    "transformization(\"none\")"
   ]
  },
  {
   "cell_type": "code",
   "execution_count": 90,
   "metadata": {},
   "outputs": [
    {
     "name": "stdout",
     "output_type": "stream",
     "text": [
      "You have selected Oversampling.\n"
     ]
    }
   ],
   "source": [
    "# CLASS SAMPLING\n",
    "# Oversampling - \"over\"\n",
    "# SMOTE - \"smote\"\n",
    "# Undersampling - \"under\"\n",
    "# None - \"none\"\n",
    "classdist(\"over\")"
   ]
  },
  {
   "cell_type": "code",
   "execution_count": 91,
   "metadata": {},
   "outputs": [
    {
     "data": {
      "text/html": [
       "<div>\n",
       "<style scoped>\n",
       "    .dataframe tbody tr th:only-of-type {\n",
       "        vertical-align: middle;\n",
       "    }\n",
       "\n",
       "    .dataframe tbody tr th {\n",
       "        vertical-align: top;\n",
       "    }\n",
       "\n",
       "    .dataframe thead th {\n",
       "        text-align: right;\n",
       "    }\n",
       "</style>\n",
       "<table border=\"1\" class=\"dataframe\">\n",
       "  <thead>\n",
       "    <tr style=\"text-align: right;\">\n",
       "      <th></th>\n",
       "      <th>est_diameter_min</th>\n",
       "      <th>est_diameter_max</th>\n",
       "      <th>relative_velocity</th>\n",
       "      <th>miss_distance</th>\n",
       "      <th>absolute_magnitude</th>\n",
       "    </tr>\n",
       "  </thead>\n",
       "  <tbody>\n",
       "    <tr>\n",
       "      <th>0</th>\n",
       "      <td>0.026580</td>\n",
       "      <td>0.059435</td>\n",
       "      <td>43301.680692</td>\n",
       "      <td>5.362684e+07</td>\n",
       "      <td>25.00</td>\n",
       "    </tr>\n",
       "    <tr>\n",
       "      <th>1</th>\n",
       "      <td>0.006677</td>\n",
       "      <td>0.014929</td>\n",
       "      <td>29287.865145</td>\n",
       "      <td>6.886952e+07</td>\n",
       "      <td>28.00</td>\n",
       "    </tr>\n",
       "    <tr>\n",
       "      <th>2</th>\n",
       "      <td>0.250354</td>\n",
       "      <td>0.559809</td>\n",
       "      <td>95188.138203</td>\n",
       "      <td>5.634196e+07</td>\n",
       "      <td>20.13</td>\n",
       "    </tr>\n",
       "    <tr>\n",
       "      <th>3</th>\n",
       "      <td>0.021211</td>\n",
       "      <td>0.047429</td>\n",
       "      <td>14772.592696</td>\n",
       "      <td>5.236924e+07</td>\n",
       "      <td>25.49</td>\n",
       "    </tr>\n",
       "    <tr>\n",
       "      <th>4</th>\n",
       "      <td>0.022623</td>\n",
       "      <td>0.050587</td>\n",
       "      <td>20288.632845</td>\n",
       "      <td>3.925150e+07</td>\n",
       "      <td>25.35</td>\n",
       "    </tr>\n",
       "  </tbody>\n",
       "</table>\n",
       "</div>"
      ],
      "text/plain": [
       "   est_diameter_min  est_diameter_max  relative_velocity  miss_distance  \\\n",
       "0          0.026580          0.059435       43301.680692   5.362684e+07   \n",
       "1          0.006677          0.014929       29287.865145   6.886952e+07   \n",
       "2          0.250354          0.559809       95188.138203   5.634196e+07   \n",
       "3          0.021211          0.047429       14772.592696   5.236924e+07   \n",
       "4          0.022623          0.050587       20288.632845   3.925150e+07   \n",
       "\n",
       "   absolute_magnitude  \n",
       "0               25.00  \n",
       "1               28.00  \n",
       "2               20.13  \n",
       "3               25.49  \n",
       "4               25.35  "
      ]
     },
     "execution_count": 91,
     "metadata": {},
     "output_type": "execute_result"
    }
   ],
   "source": [
    "xTrain.head()"
   ]
  },
  {
   "cell_type": "code",
   "execution_count": 92,
   "metadata": {},
   "outputs": [
    {
     "data": {
      "image/png": "[encoded data removed]",
      "text/plain": [
       "<Figure size 432x288 with 1 Axes>"
      ]
     },
     "metadata": {
      "needs_background": "light"
     },
     "output_type": "display_data"
    }
   ],
   "source": [
    "haz = sns.countplot(x=yTrain, palette=\"magma\")\n",
    "haz.bar_label(haz.containers[0])\n",
    "plt.title(\"Training dataset - hazardous classes\")\n",
    "plt.show()"
   ]
  },
  {
   "cell_type": "code",
   "execution_count": 93,
   "metadata": {},
   "outputs": [
    {
     "data": {
      "image/png": "[encoded data removed]",
      "text/plain": [
       "<Figure size 432x288 with 1 Axes>"
      ]
     },
     "metadata": {
      "needs_background": "light"
     },
     "output_type": "display_data"
    }
   ],
   "source": [
    "haz1 = sns.countplot(x=yTest, palette=\"magma\")\n",
    "haz1.bar_label(haz1.containers[0])\n",
    "plt.title(\"Testing dataset - hazardous classes\")\n",
    "plt.show()"
   ]
  },
  {
   "cell_type": "markdown",
   "metadata": {},
   "source": [
    "# ML models"
   ]
  },
  {
   "cell_type": "code",
   "execution_count": 94,
   "metadata": {},
   "outputs": [
    {
     "name": "stdout",
     "output_type": "stream",
     "text": [
      "Cross-validation on Training split (mean):\n",
      "ACCURACY\n",
      "0.5907500037500555\n",
      "PRECISION\n",
      "0.5803796144050472\n",
      "RECALL\n",
      "0.7288979811580536\n",
      "\n",
      "\n",
      "Score of the training dataset: 0.5706060310334732\n",
      "Score of the testing dataset: 0.4060243086137044 \n",
      "\n",
      "Classification report on Testing split:\n",
      "              precision    recall  f1-score   support\n",
      "\n",
      "       False       0.93      0.37      0.53     20507\n",
      "        True       0.11      0.76      0.20      2201\n",
      "\n",
      "    accuracy                           0.41     22708\n",
      "   macro avg       0.52      0.56      0.36     22708\n",
      "weighted avg       0.86      0.41      0.50     22708\n",
      "\n"
     ]
    },
    {
     "data": {
      "image/png": "[encoded data removed]",
      "text/plain": [
       "<Figure size 432x288 with 2 Axes>"
      ]
     },
     "metadata": {
      "needs_background": "light"
     },
     "output_type": "display_data"
    }
   ],
   "source": [
    "# Linear Regression\n",
    "from sklearn.linear_model import LogisticRegression\n",
    "LR = LogisticRegression()\n",
    "from sklearn.model_selection import cross_val_score\n",
    "crossval(LR)\n",
    "classificationmodel(LR)"
   ]
  },
  {
   "cell_type": "code",
   "execution_count": 95,
   "metadata": {},
   "outputs": [
    {
     "name": "stdout",
     "output_type": "stream",
     "text": [
      "Cross-validation on Training split (mean):\n",
      "ACCURACY\n",
      "0.6094466975715329\n",
      "PRECISION\n",
      "0.6332901543153648\n",
      "RECALL\n",
      "0.5200060300027157\n",
      "\n",
      "\n",
      "Score of the training dataset: 0.6092677531635275\n",
      "Score of the testing dataset: 0.685485291527215 \n",
      "\n",
      "Classification report on Testing split:\n",
      "              precision    recall  f1-score   support\n",
      "\n",
      "       False       0.93      0.70      0.80     20507\n",
      "        True       0.16      0.52      0.24      2201\n",
      "\n",
      "    accuracy                           0.69     22708\n",
      "   macro avg       0.55      0.61      0.52     22708\n",
      "weighted avg       0.86      0.69      0.75     22708\n",
      "\n"
     ]
    },
    {
     "data": {
      "image/png": "[encoded data removed]",
      "text/plain": [
       "<Figure size 432x288 with 2 Axes>"
      ]
     },
     "metadata": {
      "needs_background": "light"
     },
     "output_type": "display_data"
    }
   ],
   "source": [
    "# Gaussian Naive Bayes\n",
    "from sklearn.naive_bayes import GaussianNB\n",
    "GSS = GaussianNB()\n",
    "crossval(GSS)\n",
    "classificationmodel(GSS)"
   ]
  },
  {
   "cell_type": "code",
   "execution_count": 96,
   "metadata": {},
   "outputs": [
    {
     "name": "stdout",
     "output_type": "stream",
     "text": [
      "Cross-validation on Training split (mean):\n",
      "ACCURACY\n",
      "0.9669415511329916\n",
      "PRECISION\n",
      "0.9386638012641983\n",
      "RECALL\n",
      "0.9999186727391022\n",
      "\n",
      "\n",
      "Score of the training dataset: 1.0\n",
      "Score of the testing dataset: 0.8932534789501497 \n",
      "\n",
      "Classification report on Testing split:\n",
      "              precision    recall  f1-score   support\n",
      "\n",
      "       False       0.94      0.94      0.94     20507\n",
      "        True       0.45      0.44      0.44      2201\n",
      "\n",
      "    accuracy                           0.89     22708\n",
      "   macro avg       0.69      0.69      0.69     22708\n",
      "weighted avg       0.89      0.89      0.89     22708\n",
      "\n"
     ]
    },
    {
     "data": {
      "image/png": "[encoded data removed]",
      "text/plain": [
       "<Figure size 432x288 with 2 Axes>"
      ]
     },
     "metadata": {
      "needs_background": "light"
     },
     "output_type": "display_data"
    }
   ],
   "source": [
    "# Decision Tree Classifier\n",
    "from sklearn.tree import DecisionTreeClassifier\n",
    "DTR = DecisionTreeClassifier()\n",
    "crossval(DTR)\n",
    "classificationmodel(DTR)"
   ]
  },
  {
   "cell_type": "code",
   "execution_count": 97,
   "metadata": {},
   "outputs": [
    {
     "name": "stdout",
     "output_type": "stream",
     "text": [
      "Score of the training dataset: 1.0\n",
      "Score of the testing dataset: 0.9067729434560508 \n",
      "\n",
      "Classification report on Testing split:\n",
      "              precision    recall  f1-score   support\n",
      "\n",
      "       False       0.95      0.95      0.95     20507\n",
      "        True       0.52      0.54      0.53      2201\n",
      "\n",
      "    accuracy                           0.91     22708\n",
      "   macro avg       0.73      0.74      0.74     22708\n",
      "weighted avg       0.91      0.91      0.91     22708\n",
      "\n"
     ]
    },
    {
     "data": {
      "image/png": "[encoded data removed]",
      "text/plain": [
       "<Figure size 432x288 with 2 Axes>"
      ]
     },
     "metadata": {
      "needs_background": "light"
     },
     "output_type": "display_data"
    }
   ],
   "source": [
    "# Random Forest Classifier\n",
    "from sklearn.ensemble import RandomForestClassifier\n",
    "RFC = RandomForestClassifier()\n",
    "# crossval(RFC)\n",
    "classificationmodel(RFC)"
   ]
  },
  {
   "cell_type": "code",
   "execution_count": 98,
   "metadata": {},
   "outputs": [
    {
     "name": "stdout",
     "output_type": "stream",
     "text": [
      "Score of the training dataset: 0.9161136592823916\n",
      "Score of the testing dataset: 0.7291703364453056 \n",
      "\n",
      "Classification report on Testing split:\n",
      "              precision    recall  f1-score   support\n",
      "\n",
      "       False       0.92      0.77      0.84     20507\n",
      "        True       0.15      0.37      0.21      2201\n",
      "\n",
      "    accuracy                           0.73     22708\n",
      "   macro avg       0.53      0.57      0.52     22708\n",
      "weighted avg       0.84      0.73      0.78     22708\n",
      "\n"
     ]
    },
    {
     "data": {
      "image/png": "[encoded data removed]",
      "text/plain": [
       "<Figure size 432x288 with 2 Axes>"
      ]
     },
     "metadata": {
      "needs_background": "light"
     },
     "output_type": "display_data"
    }
   ],
   "source": [
    "# K-Nearest Neighbors\n",
    "from sklearn.neighbors import KNeighborsClassifier\n",
    "KNNC = KNeighborsClassifier()\n",
    "# crossval(KNNC)\n",
    "classificationmodel(KNNC)"
   ]
  },
  {
   "cell_type": "code",
   "execution_count": 99,
   "metadata": {},
   "outputs": [
    {
     "name": "stdout",
     "output_type": "stream",
     "text": [
      "Score of the training dataset: 0.8791516216128298\n",
      "Score of the testing dataset: 0.7853179496212789 \n",
      "\n",
      "Classification report on Testing split:\n",
      "              precision    recall  f1-score   support\n",
      "\n",
      "       False       1.00      0.76      0.87     20507\n",
      "        True       0.31      0.99      0.47      2201\n",
      "\n",
      "    accuracy                           0.79     22708\n",
      "   macro avg       0.65      0.88      0.67     22708\n",
      "weighted avg       0.93      0.79      0.83     22708\n",
      "\n"
     ]
    },
    {
     "data": {
      "image/png": "[encoded data removed]",
      "text/plain": [
       "<Figure size 432x288 with 2 Axes>"
      ]
     },
     "metadata": {
      "needs_background": "light"
     },
     "output_type": "display_data"
    }
   ],
   "source": [
    "# Gradien Boosting Classifier\n",
    "from sklearn.ensemble import GradientBoostingClassifier\n",
    "GBC = GradientBoostingClassifier()\n",
    "#crossval(GBC)\n",
    "classificationmodel(GBC)"
   ]
  },
  {
   "cell_type": "code",
   "execution_count": 100,
   "metadata": {},
   "outputs": [
    {
     "name": "stdout",
     "output_type": "stream",
     "text": [
      "Score of the training dataset: 0.9088839009791484\n",
      "Score of the testing dataset: 0.8184340320591862 \n",
      "\n",
      "Classification report on Testing split:\n",
      "              precision    recall  f1-score   support\n",
      "\n",
      "       False       0.99      0.81      0.89     20507\n",
      "        True       0.34      0.93      0.50      2201\n",
      "\n",
      "    accuracy                           0.82     22708\n",
      "   macro avg       0.67      0.87      0.69     22708\n",
      "weighted avg       0.93      0.82      0.85     22708\n",
      "\n"
     ]
    },
    {
     "data": {
      "image/png": "[encoded data removed]",
      "text/plain": [
       "<Figure size 432x288 with 2 Axes>"
      ]
     },
     "metadata": {
      "needs_background": "light"
     },
     "output_type": "display_data"
    }
   ],
   "source": [
    "# XGBoost Classifier\n",
    "from xgboost import XGBClassifier\n",
    "XGB = XGBClassifier(eval_metric='mlogloss')\n",
    "# #crossval(XGB)\n",
    "classificationmodel(XGB)"
   ]
  },
  {
   "cell_type": "code",
   "execution_count": 101,
   "metadata": {},
   "outputs": [
    {
     "data": {
      "text/html": [
       "<div>\n",
       "<style scoped>\n",
       "    .dataframe tbody tr th:only-of-type {\n",
       "        vertical-align: middle;\n",
       "    }\n",
       "\n",
       "    .dataframe tbody tr th {\n",
       "        vertical-align: top;\n",
       "    }\n",
       "\n",
       "    .dataframe thead th {\n",
       "        text-align: right;\n",
       "    }\n",
       "</style>\n",
       "<table border=\"1\" class=\"dataframe\">\n",
       "  <thead>\n",
       "    <tr style=\"text-align: right;\">\n",
       "      <th></th>\n",
       "      <th>Model</th>\n",
       "      <th>TrainScore</th>\n",
       "      <th>TestScore</th>\n",
       "      <th>PrecisionTrue</th>\n",
       "      <th>RecalTrue</th>\n",
       "    </tr>\n",
       "  </thead>\n",
       "  <tbody>\n",
       "    <tr>\n",
       "      <th>0</th>\n",
       "      <td>LR</td>\n",
       "      <td>0.570606</td>\n",
       "      <td>0.406024</td>\n",
       "      <td>0.114278</td>\n",
       "      <td>0.759655</td>\n",
       "    </tr>\n",
       "    <tr>\n",
       "      <th>1</th>\n",
       "      <td>GNB</td>\n",
       "      <td>0.609268</td>\n",
       "      <td>0.685485</td>\n",
       "      <td>0.158724</td>\n",
       "      <td>0.522035</td>\n",
       "    </tr>\n",
       "    <tr>\n",
       "      <th>2</th>\n",
       "      <td>DTC</td>\n",
       "      <td>1.000000</td>\n",
       "      <td>0.893253</td>\n",
       "      <td>0.447922</td>\n",
       "      <td>0.435711</td>\n",
       "    </tr>\n",
       "    <tr>\n",
       "      <th>3</th>\n",
       "      <td>RFC</td>\n",
       "      <td>1.000000</td>\n",
       "      <td>0.906773</td>\n",
       "      <td>0.518357</td>\n",
       "      <td>0.538846</td>\n",
       "    </tr>\n",
       "    <tr>\n",
       "      <th>4</th>\n",
       "      <td>KNN</td>\n",
       "      <td>0.916114</td>\n",
       "      <td>0.729170</td>\n",
       "      <td>0.145957</td>\n",
       "      <td>0.369832</td>\n",
       "    </tr>\n",
       "    <tr>\n",
       "      <th>5</th>\n",
       "      <td>GBC</td>\n",
       "      <td>0.879152</td>\n",
       "      <td>0.785318</td>\n",
       "      <td>0.309598</td>\n",
       "      <td>0.987733</td>\n",
       "    </tr>\n",
       "    <tr>\n",
       "      <th>6</th>\n",
       "      <td>XGB</td>\n",
       "      <td>0.908884</td>\n",
       "      <td>0.818434</td>\n",
       "      <td>0.340418</td>\n",
       "      <td>0.931395</td>\n",
       "    </tr>\n",
       "  </tbody>\n",
       "</table>\n",
       "</div>"
      ],
      "text/plain": [
       "  Model  TrainScore  TestScore  PrecisionTrue  RecalTrue\n",
       "0    LR    0.570606   0.406024       0.114278   0.759655\n",
       "1   GNB    0.609268   0.685485       0.158724   0.522035\n",
       "2   DTC    1.000000   0.893253       0.447922   0.435711\n",
       "3   RFC    1.000000   0.906773       0.518357   0.538846\n",
       "4   KNN    0.916114   0.729170       0.145957   0.369832\n",
       "5   GBC    0.879152   0.785318       0.309598   0.987733\n",
       "6   XGB    0.908884   0.818434       0.340418   0.931395"
      ]
     },
     "execution_count": 101,
     "metadata": {},
     "output_type": "execute_result"
    }
   ],
   "source": [
    "results"
   ]
  },
  {
   "cell_type": "code",
   "execution_count": 102,
   "metadata": {},
   "outputs": [
    {
     "data": {
      "image/png": "[encoded data removed]",
      "text/plain": [
       "<Figure size 432x288 with 2 Axes>"
      ]
     },
     "metadata": {
      "needs_background": "light"
     },
     "output_type": "display_data"
    }
   ],
   "source": [
    "results[[\"TrainScore\",\"TestScore\"]].plot(kind=\"bar\", color=[\"#E14625\",\"#06BBA3\"])\n",
    "plt.xticks(range(0,len(results[\"Model\"])), results[\"Model\"])\n",
    "results[\"PrecisionTrue\"].plot(c=\"#0E38CA\", linewidth=3, secondary_y=True, label=\"PrecisionTrue\")\n",
    "results[\"RecalTrue\"].plot(c=\"#A514DB\", linewidth=3, secondary_y=True, label=\"RecalTrue\")\n",
    "plt.legend(loc=\"lower right\")\n",
    "plt.show()"
   ]
  },
  {
   "cell_type": "code",
   "execution_count": 103,
   "metadata": {},
   "outputs": [
    {
     "name": "stdout",
     "output_type": "stream",
     "text": [
      "Score of training dataset: 0.9769607364757165\n",
      "Score of testing dataset: 0.8740972344548177\n",
      "              precision    recall  f1-score   support\n",
      "\n",
      "       False       0.95      0.91      0.93     20507\n",
      "        True       0.39      0.54      0.45      2201\n",
      "\n",
      "    accuracy                           0.87     22708\n",
      "   macro avg       0.67      0.72      0.69     22708\n",
      "weighted avg       0.89      0.87      0.88     22708\n",
      "\n"
     ]
    }
   ],
   "source": [
    "# Changing max_depth to avoid overfitting.\n",
    "DTC2 = DecisionTreeClassifier(max_depth=32)\n",
    "DTC2.fit(xTrain, yTrain)\n",
    "print(\"Score of training dataset:\",DTC2.score(xTrain, yTrain))\n",
    "print(\"Score of testing dataset:\",DTC2.score(xTest, yTest))\n",
    "print(classification_report(yTest, DTC2.predict(xTest)))\n",
    "results.loc[len(results.index)] = [\"DTC2\", DTC2.score(xTrain, yTrain), DTC2.score(xTest, yTest), precision_score(y_true=yTest, y_pred=DTC2.predict(xTest), pos_label=True), recall_score(y_true=yTest, y_pred=DTC2.predict(xTest), pos_label=True)]"
   ]
  },
  {
   "cell_type": "code",
   "execution_count": 104,
   "metadata": {},
   "outputs": [
    {
     "name": "stdout",
     "output_type": "stream",
     "text": [
      "Score of training dataset: 0.9949253440031228\n",
      "Score of testing dataset: 0.895631495508191\n",
      "              precision    recall  f1-score   support\n",
      "\n",
      "       False       0.96      0.93      0.94     20507\n",
      "        True       0.47      0.61      0.53      2201\n",
      "\n",
      "    accuracy                           0.90     22708\n",
      "   macro avg       0.71      0.77      0.74     22708\n",
      "weighted avg       0.91      0.90      0.90     22708\n",
      "\n"
     ]
    }
   ],
   "source": [
    "# Changing max_depth to avoid overfitting.\n",
    "RFC2 = RandomForestClassifier(max_depth=32)\n",
    "RFC2.fit(xTrain, yTrain)\n",
    "print(\"Score of training dataset:\",RFC2.score(xTrain, yTrain))\n",
    "print(\"Score of testing dataset:\",RFC2.score(xTest, yTest))\n",
    "print(classification_report(yTest, RFC2.predict(xTest)))\n",
    "results.loc[len(results.index)] = [\"RFC2\", RFC2.score(xTrain, yTrain), RFC2.score(xTest, yTest), precision_score(y_true=yTest, y_pred=RFC2.predict(xTest), pos_label=True), recall_score(y_true=yTest, y_pred=RFC2.predict(xTest), pos_label=True)]"
   ]
  },
  {
   "cell_type": "code",
   "execution_count": 105,
   "metadata": {},
   "outputs": [
    {
     "name": "stdout",
     "output_type": "stream",
     "text": [
      "Score of the training dataset: 0.943902280342214\n",
      "Score of the testing dataset: 0.848115201691034 \n",
      "\n",
      "Classification report on Testing split:\n",
      "              precision    recall  f1-score   support\n",
      "\n",
      "       False       0.98      0.85      0.91     20507\n",
      "        True       0.37      0.83      0.51      2201\n",
      "\n",
      "    accuracy                           0.85     22708\n",
      "   macro avg       0.68      0.84      0.71     22708\n",
      "weighted avg       0.92      0.85      0.87     22708\n",
      "\n"
     ]
    },
    {
     "data": {
      "image/png": "[encoded data removed]",
      "text/plain": [
       "<Figure size 432x288 with 2 Axes>"
      ]
     },
     "metadata": {
      "needs_background": "light"
     },
     "output_type": "display_data"
    }
   ],
   "source": [
    "RFC3 = RandomForestClassifier(max_depth=32, class_weight={False:0.1,True:0.9})\n",
    "classificationmodel(RFC3)"
   ]
  },
  {
   "cell_type": "code",
   "execution_count": 106,
   "metadata": {},
   "outputs": [
    {
     "name": "stdout",
     "output_type": "stream",
     "text": [
      "Score of the training dataset: 0.9996096418463941\n",
      "Score of the testing dataset: 0.9082261757970759 \n",
      "\n",
      "Classification report on Testing split:\n",
      "              precision    recall  f1-score   support\n",
      "\n",
      "       False       0.95      0.95      0.95     20507\n",
      "        True       0.53      0.54      0.53      2201\n",
      "\n",
      "    accuracy                           0.91     22708\n",
      "   macro avg       0.74      0.74      0.74     22708\n",
      "weighted avg       0.91      0.91      0.91     22708\n",
      "\n"
     ]
    },
    {
     "data": {
      "image/png": "[encoded data removed]",
      "text/plain": [
       "<Figure size 432x288 with 2 Axes>"
      ]
     },
     "metadata": {
      "needs_background": "light"
     },
     "output_type": "display_data"
    }
   ],
   "source": [
    "RFC4 = RandomForestClassifier(max_depth=32, class_weight={False:0.9,True:0.1})\n",
    "classificationmodel(RFC4)"
   ]
  },
  {
   "cell_type": "code",
   "execution_count": 107,
   "metadata": {},
   "outputs": [
    {
     "name": "stdout",
     "output_type": "stream",
     "text": [
      "Score of the training dataset: 0.9954214241566638\n",
      "Score of the testing dataset: 0.8936498150431565 \n",
      "\n",
      "Classification report on Testing split:\n",
      "              precision    recall  f1-score   support\n",
      "\n",
      "       False       0.96      0.93      0.94     20507\n",
      "        True       0.46      0.60      0.52      2201\n",
      "\n",
      "    accuracy                           0.89     22708\n",
      "   macro avg       0.71      0.76      0.73     22708\n",
      "weighted avg       0.91      0.89      0.90     22708\n",
      "\n"
     ]
    },
    {
     "data": {
      "image/png": "[encoded data removed]",
      "text/plain": [
       "<Figure size 432x288 with 2 Axes>"
      ]
     },
     "metadata": {
      "needs_background": "light"
     },
     "output_type": "display_data"
    }
   ],
   "source": [
    "RFC5 = RandomForestClassifier(max_depth=32, class_weight=\"balanced_subsample\")\n",
    "classificationmodel(RFC5)"
   ]
  },
  {
   "cell_type": "code",
   "execution_count": 108,
   "metadata": {},
   "outputs": [
    {
     "data": {
      "image/png": "[encoded data removed]",
      "text/plain": [
       "<Figure size 432x288 with 1 Axes>"
      ]
     },
     "metadata": {
      "needs_background": "light"
     },
     "output_type": "display_data"
    }
   ],
   "source": [
    "plt.barh(RFC5.feature_names_in_, RFC5.feature_importances_, color=\"#E14625\")\n",
    "plt.title(\"Feauture importance - RandomForestClassifier\")\n",
    "plt.show()"
   ]
  },
  {
   "cell_type": "code",
   "execution_count": 109,
   "metadata": {},
   "outputs": [
    {
     "data": {
      "text/plain": [
       "est_diameter_min      0.226658\n",
       "est_diameter_max      0.246537\n",
       "relative_velocity     0.145744\n",
       "miss_distance         0.131585\n",
       "absolute_magnitude    0.249476\n",
       "dtype: float64"
      ]
     },
     "execution_count": 109,
     "metadata": {},
     "output_type": "execute_result"
    }
   ],
   "source": [
    "impo = pd.Series(RFC5.feature_importances_, index=xTrain.columns)\n",
    "impo"
   ]
  },
  {
   "cell_type": "code",
   "execution_count": 110,
   "metadata": {},
   "outputs": [
    {
     "data": {
      "image/png": "[encoded data removed]",
      "text/plain": [
       "<Figure size 432x288 with 1 Axes>"
      ]
     },
     "metadata": {
      "needs_background": "light"
     },
     "output_type": "display_data"
    }
   ],
   "source": [
    "from sklearn.metrics import plot_roc_curve\n",
    "plot_roc_curve(RFC5, xTest, yTest, color=\"#E14625\", linewidth=3) \n",
    "plt.title(\"ROC curve - RandomForestClassifier\")\n",
    "plt.show()"
   ]
  },
  {
   "cell_type": "markdown",
   "metadata": {},
   "source": [
    "# Results"
   ]
  },
  {
   "cell_type": "code",
   "execution_count": 111,
   "metadata": {},
   "outputs": [
    {
     "data": {
      "text/html": [
       "<div>\n",
       "<style scoped>\n",
       "    .dataframe tbody tr th:only-of-type {\n",
       "        vertical-align: middle;\n",
       "    }\n",
       "\n",
       "    .dataframe tbody tr th {\n",
       "        vertical-align: top;\n",
       "    }\n",
       "\n",
       "    .dataframe thead th {\n",
       "        text-align: right;\n",
       "    }\n",
       "</style>\n",
       "<table border=\"1\" class=\"dataframe\">\n",
       "  <thead>\n",
       "    <tr style=\"text-align: right;\">\n",
       "      <th></th>\n",
       "      <th>Model</th>\n",
       "      <th>TrainScore</th>\n",
       "      <th>TestScore</th>\n",
       "      <th>PrecisionTrue</th>\n",
       "      <th>RecalTrue</th>\n",
       "    </tr>\n",
       "  </thead>\n",
       "  <tbody>\n",
       "    <tr>\n",
       "      <th>0</th>\n",
       "      <td>LR</td>\n",
       "      <td>0.570606</td>\n",
       "      <td>0.406024</td>\n",
       "      <td>0.114278</td>\n",
       "      <td>0.759655</td>\n",
       "    </tr>\n",
       "    <tr>\n",
       "      <th>1</th>\n",
       "      <td>GNB</td>\n",
       "      <td>0.609268</td>\n",
       "      <td>0.685485</td>\n",
       "      <td>0.158724</td>\n",
       "      <td>0.522035</td>\n",
       "    </tr>\n",
       "    <tr>\n",
       "      <th>2</th>\n",
       "      <td>DTC</td>\n",
       "      <td>1.000000</td>\n",
       "      <td>0.893253</td>\n",
       "      <td>0.447922</td>\n",
       "      <td>0.435711</td>\n",
       "    </tr>\n",
       "    <tr>\n",
       "      <th>3</th>\n",
       "      <td>RFC</td>\n",
       "      <td>1.000000</td>\n",
       "      <td>0.906773</td>\n",
       "      <td>0.518357</td>\n",
       "      <td>0.538846</td>\n",
       "    </tr>\n",
       "    <tr>\n",
       "      <th>4</th>\n",
       "      <td>KNN</td>\n",
       "      <td>0.916114</td>\n",
       "      <td>0.729170</td>\n",
       "      <td>0.145957</td>\n",
       "      <td>0.369832</td>\n",
       "    </tr>\n",
       "    <tr>\n",
       "      <th>5</th>\n",
       "      <td>GBC</td>\n",
       "      <td>0.879152</td>\n",
       "      <td>0.785318</td>\n",
       "      <td>0.309598</td>\n",
       "      <td>0.987733</td>\n",
       "    </tr>\n",
       "    <tr>\n",
       "      <th>6</th>\n",
       "      <td>XGB</td>\n",
       "      <td>0.908884</td>\n",
       "      <td>0.818434</td>\n",
       "      <td>0.340418</td>\n",
       "      <td>0.931395</td>\n",
       "    </tr>\n",
       "    <tr>\n",
       "      <th>7</th>\n",
       "      <td>DTC2</td>\n",
       "      <td>0.976961</td>\n",
       "      <td>0.874097</td>\n",
       "      <td>0.391204</td>\n",
       "      <td>0.537483</td>\n",
       "    </tr>\n",
       "    <tr>\n",
       "      <th>8</th>\n",
       "      <td>RFC2</td>\n",
       "      <td>0.994925</td>\n",
       "      <td>0.895631</td>\n",
       "      <td>0.470444</td>\n",
       "      <td>0.611086</td>\n",
       "    </tr>\n",
       "  </tbody>\n",
       "</table>\n",
       "</div>"
      ],
      "text/plain": [
       "  Model  TrainScore  TestScore  PrecisionTrue  RecalTrue\n",
       "0    LR    0.570606   0.406024       0.114278   0.759655\n",
       "1   GNB    0.609268   0.685485       0.158724   0.522035\n",
       "2   DTC    1.000000   0.893253       0.447922   0.435711\n",
       "3   RFC    1.000000   0.906773       0.518357   0.538846\n",
       "4   KNN    0.916114   0.729170       0.145957   0.369832\n",
       "5   GBC    0.879152   0.785318       0.309598   0.987733\n",
       "6   XGB    0.908884   0.818434       0.340418   0.931395\n",
       "7  DTC2    0.976961   0.874097       0.391204   0.537483\n",
       "8  RFC2    0.994925   0.895631       0.470444   0.611086"
      ]
     },
     "execution_count": 111,
     "metadata": {},
     "output_type": "execute_result"
    }
   ],
   "source": [
    "results"
   ]
  },
  {
   "cell_type": "code",
   "execution_count": 112,
   "metadata": {},
   "outputs": [
    {
     "data": {
      "text/html": [
       "<div>\n",
       "<style scoped>\n",
       "    .dataframe tbody tr th:only-of-type {\n",
       "        vertical-align: middle;\n",
       "    }\n",
       "\n",
       "    .dataframe tbody tr th {\n",
       "        vertical-align: top;\n",
       "    }\n",
       "\n",
       "    .dataframe thead th {\n",
       "        text-align: right;\n",
       "    }\n",
       "</style>\n",
       "<table border=\"1\" class=\"dataframe\">\n",
       "  <thead>\n",
       "    <tr style=\"text-align: right;\">\n",
       "      <th></th>\n",
       "      <th>Model</th>\n",
       "      <th>TrainScore</th>\n",
       "      <th>TestScore</th>\n",
       "      <th>PrecisionTrue</th>\n",
       "      <th>RecalTrue</th>\n",
       "    </tr>\n",
       "  </thead>\n",
       "  <tbody>\n",
       "  </tbody>\n",
       "</table>\n",
       "</div>"
      ],
      "text/plain": [
       "Empty DataFrame\n",
       "Columns: [Model, TrainScore, TestScore, PrecisionTrue, RecalTrue]\n",
       "Index: []"
      ]
     },
     "execution_count": 112,
     "metadata": {},
     "output_type": "execute_result"
    }
   ],
   "source": [
    "results[(results[\"TrainScore\"] > 0.9) & (results[\"TestScore\"] > 0.88) & (results[\"PrecisionTrue\"] > 0.7) & (results[\"RecalTrue\"] > 0.7)]"
   ]
  }
 ],
 "metadata": {
  "kernelspec": {
   "display_name": "Python 3.10.2 64-bit",
   "language": "python",
   "name": "python3"
  },
  "language_info": {
   "codemirror_mode": {
    "name": "ipython",
    "version": 3
   },
   "file_extension": ".py",
   "mimetype": "text/x-python",
   "name": "python",
   "nbconvert_exporter": "python",
   "pygments_lexer": "ipython3",
   "version": "3.10.2"
  },
  "orig_nbformat": 4,
  "vscode": {
   "interpreter": {
    "hash": "4d8546321cadb325a106918ecab26f0085318f6086fcab55f85fe19b56b4f4f0"
   }
  }
 },
 "nbformat": 4,
 "nbformat_minor": 2
}
