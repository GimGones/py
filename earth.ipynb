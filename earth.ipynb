{
 "cells": [
  {
   "cell_type": "code",
   "execution_count": 497,
   "metadata": {},
   "outputs": [],
   "source": [
    "import pandas as pd\n",
    "import numpy as np\n",
    "import seaborn as sns\n",
    "import matplotlib.pyplot as plt\n",
    "from sklearn.metrics import plot_confusion_matrix"
   ]
  },
  {
   "cell_type": "code",
   "execution_count": 498,
   "metadata": {},
   "outputs": [],
   "source": [
    "data = pd.read_csv(\"neo.csv\")"
   ]
  },
  {
   "cell_type": "code",
   "execution_count": 499,
   "metadata": {},
   "outputs": [
    {
     "data": {
      "text/html": [
       "<div>\n",
       "<style scoped>\n",
       "    .dataframe tbody tr th:only-of-type {\n",
       "        vertical-align: middle;\n",
       "    }\n",
       "\n",
       "    .dataframe tbody tr th {\n",
       "        vertical-align: top;\n",
       "    }\n",
       "\n",
       "    .dataframe thead th {\n",
       "        text-align: right;\n",
       "    }\n",
       "</style>\n",
       "<table border=\"1\" class=\"dataframe\">\n",
       "  <thead>\n",
       "    <tr style=\"text-align: right;\">\n",
       "      <th></th>\n",
       "      <th>id</th>\n",
       "      <th>name</th>\n",
       "      <th>est_diameter_min</th>\n",
       "      <th>est_diameter_max</th>\n",
       "      <th>relative_velocity</th>\n",
       "      <th>miss_distance</th>\n",
       "      <th>orbiting_body</th>\n",
       "      <th>sentry_object</th>\n",
       "      <th>absolute_magnitude</th>\n",
       "      <th>hazardous</th>\n",
       "    </tr>\n",
       "  </thead>\n",
       "  <tbody>\n",
       "    <tr>\n",
       "      <th>0</th>\n",
       "      <td>2162635</td>\n",
       "      <td>162635 (2000 SS164)</td>\n",
       "      <td>1.198271</td>\n",
       "      <td>2.679415</td>\n",
       "      <td>13569.249224</td>\n",
       "      <td>5.483974e+07</td>\n",
       "      <td>Earth</td>\n",
       "      <td>False</td>\n",
       "      <td>16.73</td>\n",
       "      <td>False</td>\n",
       "    </tr>\n",
       "    <tr>\n",
       "      <th>1</th>\n",
       "      <td>2277475</td>\n",
       "      <td>277475 (2005 WK4)</td>\n",
       "      <td>0.265800</td>\n",
       "      <td>0.594347</td>\n",
       "      <td>73588.726663</td>\n",
       "      <td>6.143813e+07</td>\n",
       "      <td>Earth</td>\n",
       "      <td>False</td>\n",
       "      <td>20.00</td>\n",
       "      <td>True</td>\n",
       "    </tr>\n",
       "    <tr>\n",
       "      <th>2</th>\n",
       "      <td>2512244</td>\n",
       "      <td>512244 (2015 YE18)</td>\n",
       "      <td>0.722030</td>\n",
       "      <td>1.614507</td>\n",
       "      <td>114258.692129</td>\n",
       "      <td>4.979872e+07</td>\n",
       "      <td>Earth</td>\n",
       "      <td>False</td>\n",
       "      <td>17.83</td>\n",
       "      <td>False</td>\n",
       "    </tr>\n",
       "    <tr>\n",
       "      <th>3</th>\n",
       "      <td>3596030</td>\n",
       "      <td>(2012 BV13)</td>\n",
       "      <td>0.096506</td>\n",
       "      <td>0.215794</td>\n",
       "      <td>24764.303138</td>\n",
       "      <td>2.543497e+07</td>\n",
       "      <td>Earth</td>\n",
       "      <td>False</td>\n",
       "      <td>22.20</td>\n",
       "      <td>False</td>\n",
       "    </tr>\n",
       "    <tr>\n",
       "      <th>4</th>\n",
       "      <td>3667127</td>\n",
       "      <td>(2014 GE35)</td>\n",
       "      <td>0.255009</td>\n",
       "      <td>0.570217</td>\n",
       "      <td>42737.733765</td>\n",
       "      <td>4.627557e+07</td>\n",
       "      <td>Earth</td>\n",
       "      <td>False</td>\n",
       "      <td>20.09</td>\n",
       "      <td>True</td>\n",
       "    </tr>\n",
       "  </tbody>\n",
       "</table>\n",
       "</div>"
      ],
      "text/plain": [
       "        id                 name  est_diameter_min  est_diameter_max  \\\n",
       "0  2162635  162635 (2000 SS164)          1.198271          2.679415   \n",
       "1  2277475    277475 (2005 WK4)          0.265800          0.594347   \n",
       "2  2512244   512244 (2015 YE18)          0.722030          1.614507   \n",
       "3  3596030          (2012 BV13)          0.096506          0.215794   \n",
       "4  3667127          (2014 GE35)          0.255009          0.570217   \n",
       "\n",
       "   relative_velocity  miss_distance orbiting_body  sentry_object  \\\n",
       "0       13569.249224   5.483974e+07         Earth          False   \n",
       "1       73588.726663   6.143813e+07         Earth          False   \n",
       "2      114258.692129   4.979872e+07         Earth          False   \n",
       "3       24764.303138   2.543497e+07         Earth          False   \n",
       "4       42737.733765   4.627557e+07         Earth          False   \n",
       "\n",
       "   absolute_magnitude  hazardous  \n",
       "0               16.73      False  \n",
       "1               20.00       True  \n",
       "2               17.83      False  \n",
       "3               22.20      False  \n",
       "4               20.09       True  "
      ]
     },
     "execution_count": 499,
     "metadata": {},
     "output_type": "execute_result"
    }
   ],
   "source": [
    "data.head()"
   ]
  },
  {
   "cell_type": "code",
   "execution_count": 500,
   "metadata": {},
   "outputs": [
    {
     "data": {
      "text/html": [
       "<div>\n",
       "<style scoped>\n",
       "    .dataframe tbody tr th:only-of-type {\n",
       "        vertical-align: middle;\n",
       "    }\n",
       "\n",
       "    .dataframe tbody tr th {\n",
       "        vertical-align: top;\n",
       "    }\n",
       "\n",
       "    .dataframe thead th {\n",
       "        text-align: right;\n",
       "    }\n",
       "</style>\n",
       "<table border=\"1\" class=\"dataframe\">\n",
       "  <thead>\n",
       "    <tr style=\"text-align: right;\">\n",
       "      <th></th>\n",
       "      <th>id</th>\n",
       "      <th>est_diameter_min</th>\n",
       "      <th>est_diameter_max</th>\n",
       "      <th>relative_velocity</th>\n",
       "      <th>miss_distance</th>\n",
       "      <th>absolute_magnitude</th>\n",
       "    </tr>\n",
       "  </thead>\n",
       "  <tbody>\n",
       "    <tr>\n",
       "      <th>count</th>\n",
       "      <td>9.083600e+04</td>\n",
       "      <td>90836.000000</td>\n",
       "      <td>90836.000000</td>\n",
       "      <td>90836.000000</td>\n",
       "      <td>9.083600e+04</td>\n",
       "      <td>90836.000000</td>\n",
       "    </tr>\n",
       "    <tr>\n",
       "      <th>mean</th>\n",
       "      <td>1.438288e+07</td>\n",
       "      <td>0.127432</td>\n",
       "      <td>0.284947</td>\n",
       "      <td>48066.918918</td>\n",
       "      <td>3.706655e+07</td>\n",
       "      <td>23.527103</td>\n",
       "    </tr>\n",
       "    <tr>\n",
       "      <th>std</th>\n",
       "      <td>2.087202e+07</td>\n",
       "      <td>0.298511</td>\n",
       "      <td>0.667491</td>\n",
       "      <td>25293.296961</td>\n",
       "      <td>2.235204e+07</td>\n",
       "      <td>2.894086</td>\n",
       "    </tr>\n",
       "    <tr>\n",
       "      <th>min</th>\n",
       "      <td>2.000433e+06</td>\n",
       "      <td>0.000609</td>\n",
       "      <td>0.001362</td>\n",
       "      <td>203.346433</td>\n",
       "      <td>6.745533e+03</td>\n",
       "      <td>9.230000</td>\n",
       "    </tr>\n",
       "    <tr>\n",
       "      <th>25%</th>\n",
       "      <td>3.448110e+06</td>\n",
       "      <td>0.019256</td>\n",
       "      <td>0.043057</td>\n",
       "      <td>28619.020645</td>\n",
       "      <td>1.721082e+07</td>\n",
       "      <td>21.340000</td>\n",
       "    </tr>\n",
       "    <tr>\n",
       "      <th>50%</th>\n",
       "      <td>3.748362e+06</td>\n",
       "      <td>0.048368</td>\n",
       "      <td>0.108153</td>\n",
       "      <td>44190.117890</td>\n",
       "      <td>3.784658e+07</td>\n",
       "      <td>23.700000</td>\n",
       "    </tr>\n",
       "    <tr>\n",
       "      <th>75%</th>\n",
       "      <td>3.884023e+06</td>\n",
       "      <td>0.143402</td>\n",
       "      <td>0.320656</td>\n",
       "      <td>62923.604633</td>\n",
       "      <td>5.654900e+07</td>\n",
       "      <td>25.700000</td>\n",
       "    </tr>\n",
       "    <tr>\n",
       "      <th>max</th>\n",
       "      <td>5.427591e+07</td>\n",
       "      <td>37.892650</td>\n",
       "      <td>84.730541</td>\n",
       "      <td>236990.128088</td>\n",
       "      <td>7.479865e+07</td>\n",
       "      <td>33.200000</td>\n",
       "    </tr>\n",
       "  </tbody>\n",
       "</table>\n",
       "</div>"
      ],
      "text/plain": [
       "                 id  est_diameter_min  est_diameter_max  relative_velocity  \\\n",
       "count  9.083600e+04      90836.000000      90836.000000       90836.000000   \n",
       "mean   1.438288e+07          0.127432          0.284947       48066.918918   \n",
       "std    2.087202e+07          0.298511          0.667491       25293.296961   \n",
       "min    2.000433e+06          0.000609          0.001362         203.346433   \n",
       "25%    3.448110e+06          0.019256          0.043057       28619.020645   \n",
       "50%    3.748362e+06          0.048368          0.108153       44190.117890   \n",
       "75%    3.884023e+06          0.143402          0.320656       62923.604633   \n",
       "max    5.427591e+07         37.892650         84.730541      236990.128088   \n",
       "\n",
       "       miss_distance  absolute_magnitude  \n",
       "count   9.083600e+04        90836.000000  \n",
       "mean    3.706655e+07           23.527103  \n",
       "std     2.235204e+07            2.894086  \n",
       "min     6.745533e+03            9.230000  \n",
       "25%     1.721082e+07           21.340000  \n",
       "50%     3.784658e+07           23.700000  \n",
       "75%     5.654900e+07           25.700000  \n",
       "max     7.479865e+07           33.200000  "
      ]
     },
     "execution_count": 500,
     "metadata": {},
     "output_type": "execute_result"
    }
   ],
   "source": [
    "data.describe()"
   ]
  },
  {
   "cell_type": "code",
   "execution_count": 501,
   "metadata": {},
   "outputs": [
    {
     "name": "stdout",
     "output_type": "stream",
     "text": [
      "<class 'pandas.core.frame.DataFrame'>\n",
      "RangeIndex: 90836 entries, 0 to 90835\n",
      "Data columns (total 10 columns):\n",
      " #   Column              Non-Null Count  Dtype  \n",
      "---  ------              --------------  -----  \n",
      " 0   id                  90836 non-null  int64  \n",
      " 1   name                90836 non-null  object \n",
      " 2   est_diameter_min    90836 non-null  float64\n",
      " 3   est_diameter_max    90836 non-null  float64\n",
      " 4   relative_velocity   90836 non-null  float64\n",
      " 5   miss_distance       90836 non-null  float64\n",
      " 6   orbiting_body       90836 non-null  object \n",
      " 7   sentry_object       90836 non-null  bool   \n",
      " 8   absolute_magnitude  90836 non-null  float64\n",
      " 9   hazardous           90836 non-null  bool   \n",
      "dtypes: bool(2), float64(5), int64(1), object(2)\n",
      "memory usage: 5.7+ MB\n"
     ]
    }
   ],
   "source": [
    "data.info()"
   ]
  },
  {
   "cell_type": "code",
   "execution_count": 502,
   "metadata": {},
   "outputs": [
    {
     "data": {
      "text/plain": [
       "id                    0\n",
       "name                  0\n",
       "est_diameter_min      0\n",
       "est_diameter_max      0\n",
       "relative_velocity     0\n",
       "miss_distance         0\n",
       "orbiting_body         0\n",
       "sentry_object         0\n",
       "absolute_magnitude    0\n",
       "hazardous             0\n",
       "dtype: int64"
      ]
     },
     "execution_count": 502,
     "metadata": {},
     "output_type": "execute_result"
    }
   ],
   "source": [
    "data.isna().sum()"
   ]
  },
  {
   "cell_type": "code",
   "execution_count": 503,
   "metadata": {},
   "outputs": [
    {
     "name": "stdout",
     "output_type": "stream",
     "text": [
      "orbiting_body\n",
      "Earth    90836\n",
      "Name: orbiting_body, dtype: int64\n",
      "sentry_object\n",
      "False    90836\n",
      "Name: sentry_object, dtype: int64\n",
      "hazardous\n",
      "False    81996\n",
      "True      8840\n",
      "Name: hazardous, dtype: int64\n"
     ]
    }
   ],
   "source": [
    "for i in [\"orbiting_body\",\"sentry_object\",\"hazardous\"]:\n",
    "    print(i)\n",
    "    print(data[i].value_counts())"
   ]
  },
  {
   "cell_type": "code",
   "execution_count": 504,
   "metadata": {},
   "outputs": [],
   "source": [
    "data.drop(columns=[\"id\",\"name\",\"orbiting_body\",\"sentry_object\"], inplace=True)"
   ]
  },
  {
   "cell_type": "code",
   "execution_count": 505,
   "metadata": {},
   "outputs": [
    {
     "data": {
      "text/plain": [
       "Index(['est_diameter_min', 'est_diameter_max', 'relative_velocity',\n",
       "       'miss_distance', 'absolute_magnitude'],\n",
       "      dtype='object')"
      ]
     },
     "execution_count": 505,
     "metadata": {},
     "output_type": "execute_result"
    }
   ],
   "source": [
    "data.select_dtypes(include=\"number\").columns"
   ]
  },
  {
   "cell_type": "code",
   "execution_count": 506,
   "metadata": {},
   "outputs": [
    {
     "data": {
      "image/png": "[encoded data removed]",
      "text/plain": [
       "<Figure size 432x288 with 1 Axes>"
      ]
     },
     "metadata": {
      "needs_background": "light"
     },
     "output_type": "display_data"
    },
    {
     "data": {
      "image/png": "[encoded data removed]",
      "text/plain": [
       "<Figure size 432x288 with 1 Axes>"
      ]
     },
     "metadata": {
      "needs_background": "light"
     },
     "output_type": "display_data"
    },
    {
     "data": {
      "image/png": "[encoded data removed]",
      "text/plain": [
       "<Figure size 432x288 with 1 Axes>"
      ]
     },
     "metadata": {
      "needs_background": "light"
     },
     "output_type": "display_data"
    },
    {
     "data": {
      "image/png": "[encoded data removed]",
      "text/plain": [
       "<Figure size 432x288 with 1 Axes>"
      ]
     },
     "metadata": {
      "needs_background": "light"
     },
     "output_type": "display_data"
    },
    {
     "data": {
      "image/png": "[encoded data removed]",
      "text/plain": [
       "<Figure size 432x288 with 1 Axes>"
      ]
     },
     "metadata": {
      "needs_background": "light"
     },
     "output_type": "display_data"
    }
   ],
   "source": [
    "for i in ['est_diameter_min', 'est_diameter_max', 'relative_velocity',\n",
    "       'miss_distance', 'absolute_magnitude']:\n",
    "       plt.subplots()\n",
    "       sns.boxplot(x=i, data=data, color=\"#E14625\")\n",
    "       plt.show()"
   ]
  },
  {
   "cell_type": "code",
   "execution_count": 507,
   "metadata": {},
   "outputs": [
    {
     "data": {
      "image/png": "[encoded data removed]",
      "text/plain": [
       "<Figure size 432x288 with 1 Axes>"
      ]
     },
     "metadata": {
      "needs_background": "light"
     },
     "output_type": "display_data"
    }
   ],
   "source": [
    "haz = sns.countplot(x=\"hazardous\", data=data, palette=\"magma\")\n",
    "haz.bar_label(haz.containers[0])\n",
    "plt.show()"
   ]
  },
  {
   "cell_type": "code",
   "execution_count": 508,
   "metadata": {},
   "outputs": [],
   "source": [
    "X = data.drop(columns=\"hazardous\")\n",
    "Y = data[\"hazardous\"]"
   ]
  },
  {
   "cell_type": "code",
   "execution_count": 509,
   "metadata": {},
   "outputs": [],
   "source": [
    "# Splitting the data into Training & Testing\n",
    "from sklearn.model_selection import train_test_split\n",
    "xTrain, xTest, yTrain, yTest = train_test_split(X, Y)"
   ]
  },
  {
   "cell_type": "code",
   "execution_count": 510,
   "metadata": {},
   "outputs": [
    {
     "name": "stdout",
     "output_type": "stream",
     "text": [
      "(68127, 5)\n",
      "(22709, 5)\n",
      "(68127,)\n",
      "(22709,)\n"
     ]
    }
   ],
   "source": [
    "print(xTrain.shape)\n",
    "print(xTest.shape)\n",
    "print(yTrain.shape) \n",
    "print(yTest.shape)"
   ]
  },
  {
   "cell_type": "code",
   "execution_count": 511,
   "metadata": {},
   "outputs": [],
   "source": [
    "# Importing metrics\n",
    "from sklearn.metrics import classification_report, recall_score, precision_score, f1_score"
   ]
  },
  {
   "cell_type": "code",
   "execution_count": 512,
   "metadata": {},
   "outputs": [],
   "source": [
    "results = pd.DataFrame(columns=[\"Model\",\"TrainScore\",\"TestScore\",\"PrecisionTrue\", \"RecalTrue\"])"
   ]
  },
  {
   "cell_type": "code",
   "execution_count": 513,
   "metadata": {},
   "outputs": [],
   "source": [
    "import warnings\n",
    "warnings.filterwarnings(\"ignore\")"
   ]
  },
  {
   "cell_type": "code",
   "execution_count": 514,
   "metadata": {},
   "outputs": [],
   "source": [
    "# Defining a function for metrics.\n",
    "# Logistic Regression\n",
    "# GaussianNB\n",
    "# DecisionTreeClassifier\n",
    "# RandomForestClassifier\n",
    "# KNN\n",
    "# SVC\n",
    "# XGB\n",
    "def classificationmodel(test):\n",
    "    test.fit(xTrain, yTrain)\n",
    "    scoretrain = test.score(xTrain, yTrain)\n",
    "    scoretest = test.score(xTest, yTest)\n",
    "    print(\"Score of the training dataset:\", test.score(xTrain, yTrain))\n",
    "    print(\"Score of the testing dataset:\", test.score(xTest, yTest), \"\\n\")\n",
    "    print(\"Classification report on Testing split:\")\n",
    "    print(classification_report(yTest, test.predict(xTest)))\n",
    "    plot_confusion_matrix(test, xTest, yTest)\n",
    "    if len(results.index) == 0:\n",
    "        results.loc[len(results.index)] = [\"LR\", scoretrain, scoretest, precision_score(y_true=yTest, y_pred=test.predict(xTest), pos_label=True), recall_score(y_true=yTest, y_pred=test.predict(xTest), pos_label=True)]\n",
    "    elif len(results.index) == 1:\n",
    "        results.loc[len(results.index)] = [\"GNB\", scoretrain, scoretest, precision_score(y_true=yTest, y_pred=test.predict(xTest), pos_label=True), recall_score(y_true=yTest, y_pred=test.predict(xTest), pos_label=True)]\n",
    "    elif len(results.index) == 2:\n",
    "        results.loc[len(results.index)] = [\"DTC\", scoretrain, scoretest, precision_score(y_true=yTest, y_pred=test.predict(xTest), pos_label=True), recall_score(y_true=yTest, y_pred=test.predict(xTest), pos_label=True)]\n",
    "    elif len(results.index) == 3:\n",
    "        results.loc[len(results.index)] = [\"RFC\", scoretrain, scoretest, precision_score(y_true=yTest, y_pred=test.predict(xTest), pos_label=True), recall_score(y_true=yTest, y_pred=test.predict(xTest), pos_label=True)]\n",
    "    elif len(results.index) == 4:\n",
    "        results.loc[len(results.index)] = [\"KNN\", scoretrain, scoretest, precision_score(y_true=yTest, y_pred=test.predict(xTest), pos_label=True), recall_score(y_true=yTest, y_pred=test.predict(xTest), pos_label=True)]\n",
    "    elif len(results.index) == 5:\n",
    "        results.loc[len(results.index)] = [\"GBC\", scoretrain, scoretest, precision_score(y_true=yTest, y_pred=test.predict(xTest), pos_label=True), recall_score(y_true=yTest, y_pred=test.predict(xTest), pos_label=True)]\n",
    "    elif len(results.index) == 6:\n",
    "        results.loc[len(results.index)] = [\"XGB\", scoretrain, scoretest, precision_score(y_true=yTest, y_pred=test.predict(xTest), pos_label=True), recall_score(y_true=yTest, y_pred=test.predict(xTest), pos_label=True)]\n",
    "\n",
    "def crossval(m):\n",
    "    print(\"Cross-validation on Training split (mean):\")\n",
    "    for i in [\"precision\",\"accuracy\",\"recall\"]:\n",
    "        print(i.upper())\n",
    "        print(cross_val_score(m, xTrain, yTrain, scoring=i).mean())\n",
    "    print(\"\\n\")"
   ]
  },
  {
   "cell_type": "code",
   "execution_count": 515,
   "metadata": {},
   "outputs": [
    {
     "name": "stdout",
     "output_type": "stream",
     "text": [
      "Cross-validation on Training split (mean):\n",
      "PRECISION\n",
      "0.0\n",
      "ACCURACY\n",
      "0.9031661467485931\n",
      "RECALL\n",
      "0.0\n",
      "\n",
      "\n",
      "Score of the training dataset: 0.9031661455810471\n",
      "Score of the testing dataset: 0.9012285877845788 \n",
      "\n",
      "Classification report on Testing split:\n",
      "              precision    recall  f1-score   support\n",
      "\n",
      "       False       0.90      1.00      0.95     20466\n",
      "        True       0.00      0.00      0.00      2243\n",
      "\n",
      "    accuracy                           0.90     22709\n",
      "   macro avg       0.45      0.50      0.47     22709\n",
      "weighted avg       0.81      0.90      0.85     22709\n",
      "\n"
     ]
    },
    {
     "data": {
      "image/png": "[encoded data removed]",
      "text/plain": [
       "<Figure size 432x288 with 2 Axes>"
      ]
     },
     "metadata": {
      "needs_background": "light"
     },
     "output_type": "display_data"
    }
   ],
   "source": [
    "from sklearn.linear_model import LogisticRegression\n",
    "LR = LogisticRegression()\n",
    "crossval(LR)\n",
    "classificationmodel(LR)"
   ]
  },
  {
   "cell_type": "code",
   "execution_count": 516,
   "metadata": {},
   "outputs": [
    {
     "name": "stdout",
     "output_type": "stream",
     "text": [
      "Cross-validation on Training split (mean):\n",
      "PRECISION\n",
      "0.2714649828023895\n",
      "ACCURACY\n",
      "0.897133309902682\n",
      "RECALL\n",
      "0.03653031451742597\n",
      "\n",
      "\n",
      "Score of the training dataset: 0.8971332951693162\n",
      "Score of the testing dataset: 0.8955039852041041 \n",
      "\n",
      "Classification report on Testing split:\n",
      "              precision    recall  f1-score   support\n",
      "\n",
      "       False       0.90      0.99      0.94     20466\n",
      "        True       0.29      0.04      0.07      2243\n",
      "\n",
      "    accuracy                           0.90     22709\n",
      "   macro avg       0.59      0.51      0.51     22709\n",
      "weighted avg       0.84      0.90      0.86     22709\n",
      "\n"
     ]
    },
    {
     "data": {
      "image/png": "[encoded data removed]",
      "text/plain": [
       "<Figure size 432x288 with 2 Axes>"
      ]
     },
     "metadata": {
      "needs_background": "light"
     },
     "output_type": "display_data"
    }
   ],
   "source": [
    "from sklearn.naive_bayes import GaussianNB\n",
    "GSS = GaussianNB()\n",
    "crossval(GSS)\n",
    "classificationmodel(GSS)"
   ]
  },
  {
   "cell_type": "markdown",
   "metadata": {},
   "source": [
    "# Over sampling data using RandomOverSampler"
   ]
  },
  {
   "cell_type": "code",
   "execution_count": 517,
   "metadata": {},
   "outputs": [],
   "source": [
    "results = pd.DataFrame(columns=[\"Model\",\"TrainScore\",\"TestScore\",\"PrecisionTrue\",\"RecalTrue\"])"
   ]
  },
  {
   "cell_type": "code",
   "execution_count": 518,
   "metadata": {},
   "outputs": [],
   "source": [
    "from imblearn.over_sampling import RandomOverSampler\n",
    "ros = RandomOverSampler(sampling_strategy=\"minority\")\n",
    "\n",
    "xTrain, yTrain = ros.fit_resample(xTrain, yTrain)"
   ]
  },
  {
   "cell_type": "code",
   "execution_count": 519,
   "metadata": {},
   "outputs": [
    {
     "data": {
      "image/png": "[encoded data removed]",
      "text/plain": [
       "<Figure size 432x288 with 1 Axes>"
      ]
     },
     "metadata": {
      "needs_background": "light"
     },
     "output_type": "display_data"
    }
   ],
   "source": [
    "haz = sns.countplot(x=yTrain, palette=\"magma\")\n",
    "haz.bar_label(haz.containers[0])\n",
    "plt.show()"
   ]
  },
  {
   "cell_type": "code",
   "execution_count": 520,
   "metadata": {},
   "outputs": [
    {
     "name": "stdout",
     "output_type": "stream",
     "text": [
      "Cross-validation on Training split (mean):\n",
      "PRECISION\n",
      "0.5521093712016533\n",
      "ACCURACY\n",
      "0.572013651877133\n",
      "RECALL\n",
      "0.7630749228018852\n",
      "\n",
      "\n",
      "Score of the training dataset: 0.571940516821063\n",
      "Score of the testing dataset: 0.4202739002157735 \n",
      "\n",
      "Classification report on Testing split:\n",
      "              precision    recall  f1-score   support\n",
      "\n",
      "       False       0.93      0.39      0.55     20466\n",
      "        True       0.12      0.74      0.20      2243\n",
      "\n",
      "    accuracy                           0.42     22709\n",
      "   macro avg       0.52      0.56      0.37     22709\n",
      "weighted avg       0.85      0.42      0.51     22709\n",
      "\n"
     ]
    },
    {
     "data": {
      "image/png": "[encoded data removed]",
      "text/plain": [
       "<Figure size 432x288 with 2 Axes>"
      ]
     },
     "metadata": {
      "needs_background": "light"
     },
     "output_type": "display_data"
    }
   ],
   "source": [
    "from sklearn.linear_model import LogisticRegression\n",
    "LR = LogisticRegression()\n",
    "from sklearn.model_selection import cross_val_score\n",
    "crossval(LR)\n",
    "classificationmodel(LR)"
   ]
  },
  {
   "cell_type": "code",
   "execution_count": 521,
   "metadata": {},
   "outputs": [
    {
     "name": "stdout",
     "output_type": "stream",
     "text": [
      "Cross-validation on Training split (mean):\n",
      "PRECISION\n",
      "0.6374610065717268\n",
      "ACCURACY\n",
      "0.613481228668942\n",
      "RECALL\n",
      "0.5262311067771819\n",
      "\n",
      "\n",
      "Score of the training dataset: 0.6133837152608483\n",
      "Score of the testing dataset: 0.6766480250121097 \n",
      "\n",
      "Classification report on Testing split:\n",
      "              precision    recall  f1-score   support\n",
      "\n",
      "       False       0.93      0.70      0.80     20466\n",
      "        True       0.15      0.50      0.23      2243\n",
      "\n",
      "    accuracy                           0.68     22709\n",
      "   macro avg       0.54      0.60      0.51     22709\n",
      "weighted avg       0.85      0.68      0.74     22709\n",
      "\n"
     ]
    },
    {
     "data": {
      "image/png": "[encoded data removed]",
      "text/plain": [
       "<Figure size 432x288 with 2 Axes>"
      ]
     },
     "metadata": {
      "needs_background": "light"
     },
     "output_type": "display_data"
    }
   ],
   "source": [
    "from sklearn.naive_bayes import GaussianNB\n",
    "GSS = GaussianNB()\n",
    "crossval(GSS)\n",
    "classificationmodel(GSS)"
   ]
  },
  {
   "cell_type": "code",
   "execution_count": 522,
   "metadata": {},
   "outputs": [
    {
     "name": "stdout",
     "output_type": "stream",
     "text": [
      "Cross-validation on Training split (mean):\n",
      "PRECISION\n",
      "0.9387480643211518\n",
      "ACCURACY\n",
      "0.9674467739314154\n",
      "RECALL\n",
      "0.9999837477653177\n",
      "\n",
      "\n",
      "Score of the training dataset: 1.0\n",
      "Score of the testing dataset: 0.8939187106433573 \n",
      "\n",
      "Classification report on Testing split:\n",
      "              precision    recall  f1-score   support\n",
      "\n",
      "       False       0.94      0.94      0.94     20466\n",
      "        True       0.46      0.43      0.45      2243\n",
      "\n",
      "    accuracy                           0.89     22709\n",
      "   macro avg       0.70      0.69      0.69     22709\n",
      "weighted avg       0.89      0.89      0.89     22709\n",
      "\n"
     ]
    },
    {
     "data": {
      "image/png": "[encoded data removed]",
      "text/plain": [
       "<Figure size 432x288 with 2 Axes>"
      ]
     },
     "metadata": {
      "needs_background": "light"
     },
     "output_type": "display_data"
    }
   ],
   "source": [
    "from sklearn.tree import DecisionTreeClassifier\n",
    "DTR = DecisionTreeClassifier()\n",
    "crossval(DTR)\n",
    "classificationmodel(DTR)"
   ]
  },
  {
   "cell_type": "code",
   "execution_count": 523,
   "metadata": {},
   "outputs": [
    {
     "name": "stdout",
     "output_type": "stream",
     "text": [
      "Score of the training dataset: 1.0\n",
      "Score of the testing dataset: 0.9067330133427276 \n",
      "\n",
      "Classification report on Testing split:\n",
      "              precision    recall  f1-score   support\n",
      "\n",
      "       False       0.95      0.95      0.95     20466\n",
      "        True       0.53      0.52      0.52      2243\n",
      "\n",
      "    accuracy                           0.91     22709\n",
      "   macro avg       0.74      0.74      0.74     22709\n",
      "weighted avg       0.91      0.91      0.91     22709\n",
      "\n"
     ]
    },
    {
     "data": {
      "image/png": "[encoded data removed]",
      "text/plain": [
       "<Figure size 432x288 with 2 Axes>"
      ]
     },
     "metadata": {
      "needs_background": "light"
     },
     "output_type": "display_data"
    }
   ],
   "source": [
    "from sklearn.ensemble import RandomForestClassifier\n",
    "RFC = RandomForestClassifier()\n",
    "# crossval(RFC)\n",
    "classificationmodel(RFC)"
   ]
  },
  {
   "cell_type": "code",
   "execution_count": 524,
   "metadata": {},
   "outputs": [
    {
     "name": "stdout",
     "output_type": "stream",
     "text": [
      "Score of the training dataset: 0.9167966845441248\n",
      "Score of the testing dataset: 0.7287419084944295 \n",
      "\n",
      "Classification report on Testing split:\n",
      "              precision    recall  f1-score   support\n",
      "\n",
      "       False       0.92      0.77      0.84     20466\n",
      "        True       0.15      0.36      0.21      2243\n",
      "\n",
      "    accuracy                           0.73     22709\n",
      "   macro avg       0.53      0.56      0.52     22709\n",
      "weighted avg       0.84      0.73      0.77     22709\n",
      "\n"
     ]
    },
    {
     "data": {
      "image/png": "[encoded data removed]",
      "text/plain": [
       "<Figure size 432x288 with 2 Axes>"
      ]
     },
     "metadata": {
      "needs_background": "light"
     },
     "output_type": "display_data"
    }
   ],
   "source": [
    "from sklearn.neighbors import KNeighborsClassifier\n",
    "KNNC = KNeighborsClassifier()\n",
    "# crossval(KNNC)\n",
    "classificationmodel(KNNC)"
   ]
  },
  {
   "cell_type": "code",
   "execution_count": 525,
   "metadata": {},
   "outputs": [
    {
     "name": "stdout",
     "output_type": "stream",
     "text": [
      "Score of the training dataset: 0.8796115715910938\n",
      "Score of the testing dataset: 0.7888062001849487 \n",
      "\n",
      "Classification report on Testing split:\n",
      "              precision    recall  f1-score   support\n",
      "\n",
      "       False       1.00      0.77      0.87     20466\n",
      "        True       0.32      0.98      0.48      2243\n",
      "\n",
      "    accuracy                           0.79     22709\n",
      "   macro avg       0.66      0.87      0.67     22709\n",
      "weighted avg       0.93      0.79      0.83     22709\n",
      "\n"
     ]
    },
    {
     "data": {
      "image/png": "[encoded data removed]",
      "text/plain": [
       "<Figure size 432x288 with 2 Axes>"
      ]
     },
     "metadata": {
      "needs_background": "light"
     },
     "output_type": "display_data"
    }
   ],
   "source": [
    "from sklearn.ensemble import GradientBoostingClassifier\n",
    "GBC = GradientBoostingClassifier()\n",
    "#crossval(GBC)\n",
    "classificationmodel(GBC)"
   ]
  },
  {
   "cell_type": "code",
   "execution_count": 526,
   "metadata": {},
   "outputs": [
    {
     "name": "stdout",
     "output_type": "stream",
     "text": [
      "Score of the training dataset: 0.907801072647489\n",
      "Score of the testing dataset: 0.8198511603329076 \n",
      "\n",
      "Classification report on Testing split:\n",
      "              precision    recall  f1-score   support\n",
      "\n",
      "       False       0.99      0.81      0.89     20466\n",
      "        True       0.35      0.93      0.50      2243\n",
      "\n",
      "    accuracy                           0.82     22709\n",
      "   macro avg       0.67      0.87      0.70     22709\n",
      "weighted avg       0.93      0.82      0.85     22709\n",
      "\n"
     ]
    },
    {
     "data": {
      "image/png": "[encoded data removed]",
      "text/plain": [
       "<Figure size 432x288 with 2 Axes>"
      ]
     },
     "metadata": {
      "needs_background": "light"
     },
     "output_type": "display_data"
    }
   ],
   "source": [
    "from xgboost import XGBClassifier\n",
    "XGB = XGBClassifier(eval_metric='mlogloss')\n",
    "# #crossval(XGB)\n",
    "classificationmodel(XGB)"
   ]
  },
  {
   "cell_type": "code",
   "execution_count": 527,
   "metadata": {},
   "outputs": [
    {
     "data": {
      "text/html": [
       "<div>\n",
       "<style scoped>\n",
       "    .dataframe tbody tr th:only-of-type {\n",
       "        vertical-align: middle;\n",
       "    }\n",
       "\n",
       "    .dataframe tbody tr th {\n",
       "        vertical-align: top;\n",
       "    }\n",
       "\n",
       "    .dataframe thead th {\n",
       "        text-align: right;\n",
       "    }\n",
       "</style>\n",
       "<table border=\"1\" class=\"dataframe\">\n",
       "  <thead>\n",
       "    <tr style=\"text-align: right;\">\n",
       "      <th></th>\n",
       "      <th>Model</th>\n",
       "      <th>TrainScore</th>\n",
       "      <th>TestScore</th>\n",
       "      <th>PrecisionTrue</th>\n",
       "      <th>RecalTrue</th>\n",
       "    </tr>\n",
       "  </thead>\n",
       "  <tbody>\n",
       "    <tr>\n",
       "      <th>0</th>\n",
       "      <td>LR</td>\n",
       "      <td>0.571941</td>\n",
       "      <td>0.420274</td>\n",
       "      <td>0.116503</td>\n",
       "      <td>0.739634</td>\n",
       "    </tr>\n",
       "    <tr>\n",
       "      <th>1</th>\n",
       "      <td>GNB</td>\n",
       "      <td>0.613384</td>\n",
       "      <td>0.676648</td>\n",
       "      <td>0.152494</td>\n",
       "      <td>0.498885</td>\n",
       "    </tr>\n",
       "    <tr>\n",
       "      <th>2</th>\n",
       "      <td>DTC</td>\n",
       "      <td>1.000000</td>\n",
       "      <td>0.893919</td>\n",
       "      <td>0.460589</td>\n",
       "      <td>0.432457</td>\n",
       "    </tr>\n",
       "    <tr>\n",
       "      <th>3</th>\n",
       "      <td>RFC</td>\n",
       "      <td>1.000000</td>\n",
       "      <td>0.906733</td>\n",
       "      <td>0.528217</td>\n",
       "      <td>0.521623</td>\n",
       "    </tr>\n",
       "    <tr>\n",
       "      <th>4</th>\n",
       "      <td>KNN</td>\n",
       "      <td>0.916797</td>\n",
       "      <td>0.728742</td>\n",
       "      <td>0.145264</td>\n",
       "      <td>0.357557</td>\n",
       "    </tr>\n",
       "    <tr>\n",
       "      <th>5</th>\n",
       "      <td>GBC</td>\n",
       "      <td>0.879612</td>\n",
       "      <td>0.788806</td>\n",
       "      <td>0.316568</td>\n",
       "      <td>0.982167</td>\n",
       "    </tr>\n",
       "    <tr>\n",
       "      <th>6</th>\n",
       "      <td>XGB</td>\n",
       "      <td>0.907801</td>\n",
       "      <td>0.819851</td>\n",
       "      <td>0.345949</td>\n",
       "      <td>0.925100</td>\n",
       "    </tr>\n",
       "  </tbody>\n",
       "</table>\n",
       "</div>"
      ],
      "text/plain": [
       "  Model  TrainScore  TestScore  PrecisionTrue  RecalTrue\n",
       "0    LR    0.571941   0.420274       0.116503   0.739634\n",
       "1   GNB    0.613384   0.676648       0.152494   0.498885\n",
       "2   DTC    1.000000   0.893919       0.460589   0.432457\n",
       "3   RFC    1.000000   0.906733       0.528217   0.521623\n",
       "4   KNN    0.916797   0.728742       0.145264   0.357557\n",
       "5   GBC    0.879612   0.788806       0.316568   0.982167\n",
       "6   XGB    0.907801   0.819851       0.345949   0.925100"
      ]
     },
     "execution_count": 527,
     "metadata": {},
     "output_type": "execute_result"
    }
   ],
   "source": [
    "results"
   ]
  },
  {
   "cell_type": "code",
   "execution_count": 528,
   "metadata": {},
   "outputs": [
    {
     "data": {
      "image/png": "[encoded data removed]",
      "text/plain": [
       "<Figure size 432x288 with 2 Axes>"
      ]
     },
     "metadata": {
      "needs_background": "light"
     },
     "output_type": "display_data"
    }
   ],
   "source": [
    "results[[\"TrainScore\",\"TestScore\"]].plot(kind=\"bar\", color=[\"#E14625\",\"#06BBA3\"])\n",
    "plt.xticks(range(0,len(results[\"Model\"])), results[\"Model\"])\n",
    "results[\"PrecisionTrue\"].plot(c=\"#0E38CA\", linewidth=3, secondary_y=True, label=\"PrecisionTrue\")\n",
    "plt.legend()\n",
    "plt.show()"
   ]
  },
  {
   "cell_type": "code",
   "execution_count": 529,
   "metadata": {},
   "outputs": [
    {
     "name": "stdout",
     "output_type": "stream",
     "text": [
      "Score of training dataset: 0.9724605883308955\n",
      "Score of testing dataset: 0.8670571139195914\n",
      "              precision    recall  f1-score   support\n",
      "\n",
      "       False       0.95      0.90      0.92     20466\n",
      "        True       0.38      0.55      0.45      2243\n",
      "\n",
      "    accuracy                           0.87     22709\n",
      "   macro avg       0.66      0.73      0.69     22709\n",
      "weighted avg       0.89      0.87      0.88     22709\n",
      "\n"
     ]
    }
   ],
   "source": [
    "# Changing max_depth to avoid overfitting.\n",
    "DTC2 = DecisionTreeClassifier(max_depth=32)\n",
    "DTC2.fit(xTrain, yTrain)\n",
    "print(\"Score of training dataset:\",DTC2.score(xTrain, yTrain))\n",
    "print(\"Score of testing dataset:\",DTC2.score(xTest, yTest))\n",
    "print(classification_report(yTest, DTC2.predict(xTest)))\n",
    "results.loc[len(results.index)] = [\"DTC2\", DTC2.score(xTrain, yTrain), DTC2.score(xTest, yTest), precision_score(y_true=yTest, y_pred=DTC2.predict(xTest), pos_label=True), recall_score(y_true=yTest, y_pred=DTC2.predict(xTest), pos_label=True)]"
   ]
  },
  {
   "cell_type": "code",
   "execution_count": 530,
   "metadata": {},
   "outputs": [
    {
     "name": "stdout",
     "output_type": "stream",
     "text": [
      "Score of training dataset: 0.9925889809848855\n",
      "Score of testing dataset: 0.8925536131049364\n",
      "              precision    recall  f1-score   support\n",
      "\n",
      "       False       0.96      0.92      0.94     20466\n",
      "        True       0.47      0.60      0.53      2243\n",
      "\n",
      "    accuracy                           0.89     22709\n",
      "   macro avg       0.71      0.76      0.73     22709\n",
      "weighted avg       0.91      0.89      0.90     22709\n",
      "\n"
     ]
    }
   ],
   "source": [
    "# Changing max_depth to avoid overfitting.\n",
    "RFC2 = RandomForestClassifier(max_depth=32)\n",
    "RFC2.fit(xTrain, yTrain)\n",
    "print(\"Score of training dataset:\",RFC2.score(xTrain, yTrain))\n",
    "print(\"Score of testing dataset:\",RFC2.score(xTest, yTest))\n",
    "print(classification_report(yTest, RFC2.predict(xTest)))\n",
    "results.loc[len(results.index)] = [\"RFC2\", RFC2.score(xTrain, yTrain), RFC2.score(xTest, yTest), precision_score(y_true=yTest, y_pred=RFC2.predict(xTest), pos_label=True), recall_score(y_true=yTest, y_pred=RFC2.predict(xTest), pos_label=True)]"
   ]
  },
  {
   "cell_type": "code",
   "execution_count": 531,
   "metadata": {},
   "outputs": [
    {
     "data": {
      "text/html": [
       "<div>\n",
       "<style scoped>\n",
       "    .dataframe tbody tr th:only-of-type {\n",
       "        vertical-align: middle;\n",
       "    }\n",
       "\n",
       "    .dataframe tbody tr th {\n",
       "        vertical-align: top;\n",
       "    }\n",
       "\n",
       "    .dataframe thead th {\n",
       "        text-align: right;\n",
       "    }\n",
       "</style>\n",
       "<table border=\"1\" class=\"dataframe\">\n",
       "  <thead>\n",
       "    <tr style=\"text-align: right;\">\n",
       "      <th></th>\n",
       "      <th>Model</th>\n",
       "      <th>TrainScore</th>\n",
       "      <th>TestScore</th>\n",
       "      <th>PrecisionTrue</th>\n",
       "      <th>RecalTrue</th>\n",
       "    </tr>\n",
       "  </thead>\n",
       "  <tbody>\n",
       "    <tr>\n",
       "      <th>0</th>\n",
       "      <td>LR</td>\n",
       "      <td>0.571941</td>\n",
       "      <td>0.420274</td>\n",
       "      <td>0.116503</td>\n",
       "      <td>0.739634</td>\n",
       "    </tr>\n",
       "    <tr>\n",
       "      <th>1</th>\n",
       "      <td>GNB</td>\n",
       "      <td>0.613384</td>\n",
       "      <td>0.676648</td>\n",
       "      <td>0.152494</td>\n",
       "      <td>0.498885</td>\n",
       "    </tr>\n",
       "    <tr>\n",
       "      <th>2</th>\n",
       "      <td>DTC</td>\n",
       "      <td>1.000000</td>\n",
       "      <td>0.893919</td>\n",
       "      <td>0.460589</td>\n",
       "      <td>0.432457</td>\n",
       "    </tr>\n",
       "    <tr>\n",
       "      <th>3</th>\n",
       "      <td>RFC</td>\n",
       "      <td>1.000000</td>\n",
       "      <td>0.906733</td>\n",
       "      <td>0.528217</td>\n",
       "      <td>0.521623</td>\n",
       "    </tr>\n",
       "    <tr>\n",
       "      <th>4</th>\n",
       "      <td>KNN</td>\n",
       "      <td>0.916797</td>\n",
       "      <td>0.728742</td>\n",
       "      <td>0.145264</td>\n",
       "      <td>0.357557</td>\n",
       "    </tr>\n",
       "    <tr>\n",
       "      <th>5</th>\n",
       "      <td>GBC</td>\n",
       "      <td>0.879612</td>\n",
       "      <td>0.788806</td>\n",
       "      <td>0.316568</td>\n",
       "      <td>0.982167</td>\n",
       "    </tr>\n",
       "    <tr>\n",
       "      <th>6</th>\n",
       "      <td>XGB</td>\n",
       "      <td>0.907801</td>\n",
       "      <td>0.819851</td>\n",
       "      <td>0.345949</td>\n",
       "      <td>0.925100</td>\n",
       "    </tr>\n",
       "    <tr>\n",
       "      <th>7</th>\n",
       "      <td>DTC2</td>\n",
       "      <td>0.972461</td>\n",
       "      <td>0.867057</td>\n",
       "      <td>0.380615</td>\n",
       "      <td>0.551494</td>\n",
       "    </tr>\n",
       "    <tr>\n",
       "      <th>8</th>\n",
       "      <td>RFC2</td>\n",
       "      <td>0.992589</td>\n",
       "      <td>0.892554</td>\n",
       "      <td>0.466070</td>\n",
       "      <td>0.603210</td>\n",
       "    </tr>\n",
       "  </tbody>\n",
       "</table>\n",
       "</div>"
      ],
      "text/plain": [
       "  Model  TrainScore  TestScore  PrecisionTrue  RecalTrue\n",
       "0    LR    0.571941   0.420274       0.116503   0.739634\n",
       "1   GNB    0.613384   0.676648       0.152494   0.498885\n",
       "2   DTC    1.000000   0.893919       0.460589   0.432457\n",
       "3   RFC    1.000000   0.906733       0.528217   0.521623\n",
       "4   KNN    0.916797   0.728742       0.145264   0.357557\n",
       "5   GBC    0.879612   0.788806       0.316568   0.982167\n",
       "6   XGB    0.907801   0.819851       0.345949   0.925100\n",
       "7  DTC2    0.972461   0.867057       0.380615   0.551494\n",
       "8  RFC2    0.992589   0.892554       0.466070   0.603210"
      ]
     },
     "execution_count": 531,
     "metadata": {},
     "output_type": "execute_result"
    }
   ],
   "source": [
    "results"
   ]
  },
  {
   "cell_type": "code",
   "execution_count": 532,
   "metadata": {},
   "outputs": [
    {
     "name": "stdout",
     "output_type": "stream",
     "text": [
      "Score of the training dataset: 0.9389484804160572\n",
      "Score of the testing dataset: 0.8412083314985248 \n",
      "\n",
      "Classification report on Testing split:\n",
      "              precision    recall  f1-score   support\n",
      "\n",
      "       False       0.98      0.84      0.91     20466\n",
      "        True       0.37      0.83      0.51      2243\n",
      "\n",
      "    accuracy                           0.84     22709\n",
      "   macro avg       0.67      0.84      0.71     22709\n",
      "weighted avg       0.92      0.84      0.87     22709\n",
      "\n"
     ]
    },
    {
     "data": {
      "image/png": "[encoded data removed]",
      "text/plain": [
       "<Figure size 432x288 with 2 Axes>"
      ]
     },
     "metadata": {
      "needs_background": "light"
     },
     "output_type": "display_data"
    }
   ],
   "source": [
    "RFC3 = RandomForestClassifier(max_depth=32, class_weight={False:0.1,True:0.9})\n",
    "classificationmodel(RFC3)"
   ]
  },
  {
   "cell_type": "code",
   "execution_count": 533,
   "metadata": {},
   "outputs": [
    {
     "name": "stdout",
     "output_type": "stream",
     "text": [
      "Score of the training dataset: 0.9978303266699171\n",
      "Score of the testing dataset: 0.9083182879034744 \n",
      "\n",
      "Classification report on Testing split:\n",
      "              precision    recall  f1-score   support\n",
      "\n",
      "       False       0.95      0.95      0.95     20466\n",
      "        True       0.54      0.52      0.53      2243\n",
      "\n",
      "    accuracy                           0.91     22709\n",
      "   macro avg       0.74      0.74      0.74     22709\n",
      "weighted avg       0.91      0.91      0.91     22709\n",
      "\n"
     ]
    },
    {
     "data": {
      "image/png": "[encoded data removed]",
      "text/plain": [
       "<Figure size 432x288 with 2 Axes>"
      ]
     },
     "metadata": {
      "needs_background": "light"
     },
     "output_type": "display_data"
    }
   ],
   "source": [
    "RFC4 = RandomForestClassifier(max_depth=32, class_weight={False:0.9,True:0.1})\n",
    "classificationmodel(RFC4)"
   ]
  },
  {
   "cell_type": "code",
   "execution_count": 534,
   "metadata": {},
   "outputs": [
    {
     "name": "stdout",
     "output_type": "stream",
     "text": [
      "Score of the training dataset: 0.9917926214854542\n",
      "Score of the testing dataset: 0.8917609758245629 \n",
      "\n",
      "Classification report on Testing split:\n",
      "              precision    recall  f1-score   support\n",
      "\n",
      "       False       0.96      0.92      0.94     20466\n",
      "        True       0.46      0.62      0.53      2243\n",
      "\n",
      "    accuracy                           0.89     22709\n",
      "   macro avg       0.71      0.77      0.73     22709\n",
      "weighted avg       0.91      0.89      0.90     22709\n",
      "\n"
     ]
    },
    {
     "data": {
      "image/png": "[encoded data removed]",
      "text/plain": [
       "<Figure size 432x288 with 2 Axes>"
      ]
     },
     "metadata": {
      "needs_background": "light"
     },
     "output_type": "display_data"
    }
   ],
   "source": [
    "RFC5 = RandomForestClassifier(max_depth=32, class_weight=\"balanced_subsample\")\n",
    "classificationmodel(RFC5)"
   ]
  },
  {
   "cell_type": "code",
   "execution_count": 535,
   "metadata": {},
   "outputs": [
    {
     "data": {
      "image/png": "[encoded data removed]",
      "text/plain": [
       "<Figure size 432x288 with 1 Axes>"
      ]
     },
     "metadata": {
      "needs_background": "light"
     },
     "output_type": "display_data"
    }
   ],
   "source": [
    "plt.barh(RFC5.feature_names_in_, RFC5.feature_importances_)\n",
    "plt.show()"
   ]
  },
  {
   "cell_type": "code",
   "execution_count": 536,
   "metadata": {},
   "outputs": [
    {
     "data": {
      "text/plain": [
       "est_diameter_min      0.272909\n",
       "est_diameter_max      0.251696\n",
       "relative_velocity     0.149437\n",
       "miss_distance         0.127611\n",
       "absolute_magnitude    0.198348\n",
       "dtype: float64"
      ]
     },
     "execution_count": 536,
     "metadata": {},
     "output_type": "execute_result"
    }
   ],
   "source": [
    "impo = pd.Series(RFC5.feature_importances_, index=xTrain.columns)\n",
    "impo"
   ]
  },
  {
   "cell_type": "code",
   "execution_count": 539,
   "metadata": {},
   "outputs": [
    {
     "data": {
      "image/png": "[encoded data removed]",
      "text/plain": [
       "<Figure size 432x288 with 1 Axes>"
      ]
     },
     "metadata": {
      "needs_background": "light"
     },
     "output_type": "display_data"
    }
   ],
   "source": [
    "from sklearn.metrics import plot_roc_curve\n",
    "plot_roc_curve(RFC5, xTest, yTest) \n",
    "plt.show()"
   ]
  },
  {
   "cell_type": "code",
   "execution_count": 538,
   "metadata": {},
   "outputs": [],
   "source": [
    "# USED ALL OF THESE BUT WITH SIMILAR RESULTS, STILL NO MODEL WITH 0.7+ IN BOTH PRECISION & RECALL SCORES ON TESTING DATASET\n",
    "\n",
    "# STANDARDIZATION \n",
    "# from sklearn.preprocessing import StandardScaler\n",
    "# scaler = StandardScaler()\n",
    "# scaled = scaler.fit_transform(X)\n",
    "# xTrain, xTest, yTrain, yTest = train_test_split(scaled,Y)\n",
    "\n",
    "# NORMALIZATION\n",
    "# from sklearn.preprocessing import MinMaxScaler\n",
    "# scaler = MinMaxScaler()\n",
    "# scaled = scaler.fit_transform(X)\n",
    "# xTrain, xTest, yTrain, yTest = train_test_split(scaled,Y)\n",
    "\n",
    "# UNDERSAMPLING\n",
    "# from imblearn.under_sampling import RandomUnderSampler\n",
    "# ros = RandomUnderSampler(sampling_strategy=\"minority\")\n",
    "# xTrain, yTrain = ros.fit_resample(xTrain, yTrain)\n",
    "\n",
    "# SMOTE\n",
    "# from imblearn.over_sampling import SMOTE\n",
    "# smote = SMOTE(random_state = 42)\n",
    "# xTrain, yTrain = smote.fit_resample(xTrain, yTrain)"
   ]
  }
 ],
 "metadata": {
  "kernelspec": {
   "display_name": "Python 3.10.2 64-bit",
   "language": "python",
   "name": "python3"
  },
  "language_info": {
   "codemirror_mode": {
    "name": "ipython",
    "version": 3
   },
   "file_extension": ".py",
   "mimetype": "text/x-python",
   "name": "python",
   "nbconvert_exporter": "python",
   "pygments_lexer": "ipython3",
   "version": "3.10.2"
  },
  "orig_nbformat": 4,
  "vscode": {
   "interpreter": {
    "hash": "4d8546321cadb325a106918ecab26f0085318f6086fcab55f85fe19b56b4f4f0"
   }
  }
 },
 "nbformat": 4,
 "nbformat_minor": 2
}
