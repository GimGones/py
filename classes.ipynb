{
 "cells": [
  {
   "cell_type": "code",
   "execution_count": 308,
   "metadata": {},
   "outputs": [],
   "source": [
    "class Person:\n",
    "    employees = 0\n",
    "    pay_rise = 1.05\n",
    "    def __init__(self, name, lastname, age, pay):\n",
    "        self.name = name\n",
    "        self.lastname = lastname\n",
    "        self.age = age\n",
    "        self.pay = pay\n",
    "\n",
    "    def change_name(self, nam):\n",
    "        self.name = nam\n",
    "\n",
    "    @property # To use it like an attribute and not a method, but get the refreshed email adress after changing name, etc.\n",
    "    def mail(self):\n",
    "        return f\"{self.name}.{self.lastname}@gmail.com\"\n",
    "\n",
    "    @property\n",
    "    def fullname(self):\n",
    "        return f\"{self.name} {self.lastname}\"\n",
    "    \n",
    "    @fullname.setter # Allows us to change the full name, which rewrites self.name and self.lastname and even method mail into NewFullName@gmail.com\n",
    "    def fullname(self, name):\n",
    "        first, last = name.split(\" \")\n",
    "        self.name = first\n",
    "        self.lastname = last\n",
    "    \n",
    "    @fullname.deleter # Allows us to delete the full name, which rewrites self.name and self.lastname to \"None\" and even method mail into NoneNone@gmail.com\n",
    "    def fullname(self):\n",
    "        print(\"Deleted NAME!!!\")\n",
    "        self.name = None\n",
    "        self.lastname = None\n",
    "    \n",
    "    def run(self):\n",
    "        return f\"{self.name} is currently running\" \n",
    "    \n",
    "    def salary_rise(self):\n",
    "        self.pay = round(self.pay * Person.pay_rise,2)\n",
    "        return f\"Salary is now {self.pay}\"\n",
    "    \n",
    "    def __repr__(self):\n",
    "        return f\"Person({self.name}, {self.age}, {self.pay})\"\n",
    "\n",
    "    def __str__(self):\n",
    "        return f\"{self.name}, {self.age}, {self.pay}\"\n",
    "\n",
    "    def __add__(self, other):\n",
    "        return f\"Their salary together is: {self.pay + other.pay}\"\n",
    "    \n",
    "    @classmethod\n",
    "    def change_payrise(cls, amount):\n",
    "        cls.pay_rise = amount\n",
    "    \n",
    "    def __len__(self):\n",
    "        return len(self.name)\n",
    "    \n",
    "    @staticmethod\n",
    "    def is_num(numba):\n",
    "        if isinstance(numba, int):\n",
    "            return \"Is Numba!\""
   ]
  },
  {
   "cell_type": "code",
   "execution_count": 309,
   "metadata": {},
   "outputs": [
    {
     "name": "stdout",
     "output_type": "stream",
     "text": [
      "Person(Jim, 25, 2000)\n",
      "Piers, 50, 3000\n"
     ]
    }
   ],
   "source": [
    "jim = Person(\"Jim\", \"Petterson\", 25, 2000)\n",
    "piers = Person(\"Piers\", \"Morgan\", 50, 3000)\n",
    "\n",
    "print(repr(jim))\n",
    "print(str(piers))"
   ]
  }
 ],
 "metadata": {
  "kernelspec": {
   "display_name": "Python 3.10.2 64-bit",
   "language": "python",
   "name": "python3"
  },
  "language_info": {
   "codemirror_mode": {
    "name": "ipython",
    "version": 3
   },
   "file_extension": ".py",
   "mimetype": "text/x-python",
   "name": "python",
   "nbconvert_exporter": "python",
   "pygments_lexer": "ipython3",
   "version": "3.10.2"
  },
  "orig_nbformat": 4,
  "vscode": {
   "interpreter": {
    "hash": "4d8546321cadb325a106918ecab26f0085318f6086fcab55f85fe19b56b4f4f0"
   }
  }
 },
 "nbformat": 4,
 "nbformat_minor": 2
}
